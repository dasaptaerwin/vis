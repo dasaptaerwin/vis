{
 "cells": [
  {
   "cell_type": "markdown",
   "metadata": {
    "nbpresent": {
     "id": "ccaf80c3-1220-4001-80ed-1519ddf82a05"
    },
    "slideshow": {
     "slide_type": "slide"
    }
   },
   "source": [
    "using hydrochemistry and simple visualization to differentiate groundwater samples\n",
    "===\n",
    "\n",
    "presented in 2018 International ITB Geothermal Workshop \n",
    "21 - 22 Maret 2018\n",
    "\n",
    "authors:\n",
    "\n",
    "- Dasapta Erwin Irawan [ORCID](https://orcid.org/0000-0002-1526-0863) [Google Scholar]()\n",
    "- Arif Susanto [Google Scholar](https://scholar.google.co.id/citations?hl=en&user=zymmkxUAAAAJ&view_op=list_works&sortby=pubdate)\n",
    "- Prihadi Sumintadireja [Google Scholar](https://scholar.google.co.id/citations?user=G3uiPMoAAAAJ&hl=en)\n",
    "- Budi Brahmantyo [Google Scholar](https://scholar.google.co.id/citations?user=t7CtT5MAAAAJ&hl=en&oi=ao)\n",
    "- Deny Juanda Puradimaja [Google Scholar](https://scholar.google.co.id/citations?user=-Z9rgsQAAAAJ&hl=en&oi=ao)\n",
    "\n",
    "![itb](itb.png)\n",
    "\n",
    "**Faculty of Earth Sciences and Technology**\n",
    "\n",
    "**Institut Teknologi Bandung**"
   ]
  },
  {
   "cell_type": "markdown",
   "metadata": {
    "nbpresent": {
     "id": "18903a2f-38e8-47d8-9310-aa6619abf376"
    },
    "slideshow": {
     "slide_type": "slide"
    }
   },
   "source": [
    "# before you continue\n",
    "\n",
    "this talk **is not** about: \n",
    "\n",
    "- **geology**, but how to differentiate the geology.\n",
    "- **geothermal**, but you may look at your data differently.\n",
    "- **results**, but methods.\n",
    "\n",
    "![geology](geology.png)"
   ]
  },
  {
   "cell_type": "markdown",
   "metadata": {
    "nbpresent": {
     "id": "1b872498-e595-4dce-bc7a-03287ef8d1fb"
    },
    "slideshow": {
     "slide_type": "slide"
    }
   },
   "source": [
    "# introduction\n",
    "\n",
    "- we have lots of data.\n",
    "- we know they are different but don't how to visualize the difference.\n",
    "- if we know how to do it, we don't have the skills and tools.\n",
    "- here we are proposing a new way to look at your data using **free tools** with a bit of programming skills.\n",
    "\n",
    "![free_wifi_flickr_cc0](freeflickr.jpg)"
   ]
  },
  {
   "cell_type": "markdown",
   "metadata": {
    "nbpresent": {
     "id": "35268107-19df-41af-b24e-30bdec734ee8"
    },
    "slideshow": {
     "slide_type": "slide"
    }
   },
   "source": [
    "## but we do have spreadsheet\n",
    "\n",
    "yes, but with some limitations:\n",
    "\n",
    "- it's cell-based, you have to scroll you way to get what you want.\n",
    "- it's limited ability to visualize your data.\n",
    "- it has reproducibility issues: versioning, _point and click_, copy and paste to your show the results.\n",
    "\n",
    "![xls](xls.png)"
   ]
  },
  {
   "cell_type": "markdown",
   "metadata": {
    "nbpresent": {
     "id": "94554f0e-4aa5-4077-af52-c031fdc43c79"
    },
    "slideshow": {
     "slide_type": "slide"
    }
   },
   "source": [
    "## I like it but I don't have programming skills\n",
    "\n",
    "- it's not that hard.\n",
    "- many **good people** share their work (including codes). \n",
    "- the **difficulties** are not comparable to the **coolness**. :-)\n",
    "\n",
    "![code_screen_pexels_cc0](codepexels.jpeg)"
   ]
  },
  {
   "cell_type": "markdown",
   "metadata": {
    "nbpresent": {
     "id": "4daed158-5a99-4a46-9e05-4d36632a908f"
    },
    "slideshow": {
     "slide_type": "slide"
    }
   },
   "source": [
    "## why codes?\n",
    "\n",
    "- **it's reproducible**: people can get the same results from the same code and data, with no copy-pasting.\n",
    "- **it's not only about the results**: but also the process. you can learn the process step by step.\n",
    "- it's about **pretty-informative** visualization\n",
    "\n",
    "![code_mug_pixabay_cc0](codemug.png)"
   ]
  },
  {
   "cell_type": "markdown",
   "metadata": {
    "nbpresent": {
     "id": "e9ed126e-f317-46a5-8f4d-301232b46827"
    },
    "slideshow": {
     "slide_type": "slide"
    }
   },
   "source": [
    "# what do we need?\n",
    "\n",
    "you may choose on or both:\n",
    "    \n",
    "- `python` installation [Anaconda installation instruction](https://conda.io/docs/installation.html) [on Youtube](https://www.youtube.com/watch?v=YJC6ldI3hWk) or\n",
    "- `R`installation [instructions](a-little-book-of-r-for-time-series.readthedocs.io/en/latest/src/installr.html) or [on Youtube](https://www.youtube.com/watch?v=cX532N_XLIs)\n",
    "- in this case we use `python` with its `pandas` package\n",
    "\n",
    "![python](python.jpg) \n",
    "![jupyter notebook](jupyter.png) \n",
    "![R](rlogo.jpg) \n",
    "![GitHub](github.png) \n"
   ]
  },
  {
   "cell_type": "markdown",
   "metadata": {
    "nbpresent": {
     "id": "8bf405c9-b409-466a-9f6e-7060ba853493"
    },
    "slideshow": {
     "slide_type": "notes"
    }
   },
   "source": [
    "Kami menggunakan `Python-Pandas` karena `Pandas` adalah `python library` yang lengkap, mudah digunakan, dan seperti halnya `R`, `Pandas` memiliki basis pengguna yang sangat banyak dan berkomitmen untuk membagikan ilmu dan pengetahuannya. Karena ini, Anda dapat menemukan dengan mudah berbagai tutorial berbasis teks atau video di internet. Sebelum menggunakannya, maka Anda akan perlu mengunduh dan menginstalasi `Python` dan `Pandas` yang kami tulis dalam tutorial terpisah.\n",
    "\n",
    "Tutorial ini akan terkait dengan: \n",
    "\n",
    "- artikel kami berjudul\" `Using hydrochemistry and simple visualisation to differentiate groundwater samples`\n",
    "- penulis: Dasapta Erwin Irawan, Arif Susanto, Prihadi Sumintadireja, Budi Brahmantyo, Deny Juanda Puradimaja\n",
    "- event: ITB International Geothermal Workshop ITB\n",
    "- organizer: Faculty of Mining and Petroleum Engineering\n",
    "- references: \n",
    "\n",
    "    - [Codebasics Youtube Channel](https://www.youtube.com/channel/UCh9nVJoWXmFb7sLApWGcLPQ) \n",
    "    - [Pandas 0.22.0 documentation](https://pandas.pydata.org/pandas-docs/stable/)\n",
    "    - [A little book of Python for multivariate analysis](http://python-for-multivariate-analysis.readthedocs.io/)\n",
    "    - [Sebastian Raschka's PCA tutorial](http://sebastianraschka.com/Articles/2015_pca_in_3_steps.html)\n",
    "    - [Jason Brownlee's MachineLearningMastery Blog](https://machinelearningmastery.com/visualize-machine-learning-data-python-pandas/)\n",
    "    - [Jupyter Notebook documentation](http://jupyter-notebook.readthedocs.io/)"
   ]
  },
  {
   "cell_type": "markdown",
   "metadata": {
    "nbpresent": {
     "id": "04e35d15-6168-4c91-8607-449a41861d1a"
    },
    "slideshow": {
     "slide_type": "slide"
    }
   },
   "source": [
    "# loading libraries\n",
    "\n",
    "we will use the following libraries: \n",
    "- `pandas` and `numpy` for numerical calculation, \n",
    "- `matplotlib`and `seaborn` for plotting, and \n",
    "- `scikitlearn` for the PCA and other machine learning techniques."
   ]
  },
  {
   "cell_type": "code",
   "execution_count": 78,
   "metadata": {
    "nbpresent": {
     "id": "6a0db77a-3cff-4d9e-9a03-731084f2d0ba"
    },
    "slideshow": {
     "slide_type": "subslide"
    }
   },
   "outputs": [],
   "source": [
    "import pandas as pd # loading Pandas on to memory\n",
    "from pandas.tools.plotting import scatter_matrix\n",
    "import numpy as np # loading Numpy library on to memory\n",
    "import matplotlib.pyplot as plt # loading plotting library on to memory\n",
    "%matplotlib inline\n",
    "import seaborn as sns # loading seaborn library\n",
    "# loading some functions from sklearn\n",
    "from sklearn.preprocessing import scale \n",
    "from sklearn.decomposition import PCA\n",
    "from sklearn.discriminant_analysis import LinearDiscriminantAnalysis\n",
    "from scipy import stats"
   ]
  },
  {
   "cell_type": "markdown",
   "metadata": {
    "nbpresent": {
     "id": "1b9556c2-6414-420d-beb8-98e54bc67061"
    },
    "slideshow": {
     "slide_type": "slide"
    }
   },
   "source": [
    "# data description\n",
    "\n",
    "we use:\n",
    "\n",
    "- `describe()` \n",
    "- `boxplot` \n",
    "- `scatter plot matrix`"
   ]
  },
  {
   "cell_type": "markdown",
   "metadata": {
    "nbpresent": {
     "id": "717c140a-46ac-48ae-b735-3012d7a12049"
    },
    "slideshow": {
     "slide_type": "notes"
    }
   },
   "source": [
    "# Deskripsi data \n",
    "\n",
    "Kami menggunakan fungsi describe() dan boxplot untuk mengevaluasi data. Selain itu scatter plot matrix juga digunakan untuk mengetahui korelasi antar parameter."
   ]
  },
  {
   "cell_type": "code",
   "execution_count": 79,
   "metadata": {
    "nbpresent": {
     "id": "0520781b-79c4-45be-893d-895182f60a6e"
    },
    "slideshow": {
     "slide_type": "subslide"
    }
   },
   "outputs": [],
   "source": [
    "df = pd.read_csv('data_arifs_2.csv') # loading data"
   ]
  },
  {
   "cell_type": "markdown",
   "metadata": {
    "nbpresent": {
     "id": "1004ea42-1e91-4d1e-b562-17babcd198ef"
    },
    "slideshow": {
     "slide_type": "subslide"
    }
   },
   "source": [
    "## head and tail\n",
    "\n",
    "- we could see the first 5 lines using `foo.head()` and the last 5 lines using `foo.tail()`.  \n",
    "- we need to see the type of data using `type(foo)` command.\n",
    "- checking the dimension or shape of the data (sum of rows and columns) using `foo.shape` command.\n",
    "- Change `foo` with your own data frame."
   ]
  },
  {
   "cell_type": "code",
   "execution_count": 80,
   "metadata": {
    "nbpresent": {
     "id": "f4672e50-4a8c-42ad-8ea1-12c8340daf41"
    },
    "slideshow": {
     "slide_type": "subslide"
    }
   },
   "outputs": [
    {
     "data": {
      "text/html": [
       "<div>\n",
       "<style scoped>\n",
       "    .dataframe tbody tr th:only-of-type {\n",
       "        vertical-align: middle;\n",
       "    }\n",
       "\n",
       "    .dataframe tbody tr th {\n",
       "        vertical-align: top;\n",
       "    }\n",
       "\n",
       "    .dataframe thead th {\n",
       "        text-align: right;\n",
       "    }\n",
       "</style>\n",
       "<table border=\"1\" class=\"dataframe\">\n",
       "  <thead>\n",
       "    <tr style=\"text-align: right;\">\n",
       "      <th></th>\n",
       "      <th>sample</th>\n",
       "      <th>litho</th>\n",
       "      <th>elev</th>\n",
       "      <th>turb</th>\n",
       "      <th>col</th>\n",
       "      <th>dhl</th>\n",
       "      <th>tds</th>\n",
       "      <th>ph</th>\n",
       "      <th>hard</th>\n",
       "      <th>ca</th>\n",
       "      <th>...</th>\n",
       "      <th>na</th>\n",
       "      <th>li</th>\n",
       "      <th>nh4</th>\n",
       "      <th>co3</th>\n",
       "      <th>hco3</th>\n",
       "      <th>cl</th>\n",
       "      <th>so4</th>\n",
       "      <th>no2</th>\n",
       "      <th>no3</th>\n",
       "      <th>source</th>\n",
       "    </tr>\n",
       "  </thead>\n",
       "  <tbody>\n",
       "    <tr>\n",
       "      <th>0</th>\n",
       "      <td>Pang1</td>\n",
       "      <td>volc</td>\n",
       "      <td>850</td>\n",
       "      <td>0.6</td>\n",
       "      <td>0</td>\n",
       "      <td>98</td>\n",
       "      <td>68</td>\n",
       "      <td>6.9</td>\n",
       "      <td>45.4</td>\n",
       "      <td>13.9</td>\n",
       "      <td>...</td>\n",
       "      <td>9.7</td>\n",
       "      <td>0.0</td>\n",
       "      <td>0.5</td>\n",
       "      <td>0.00</td>\n",
       "      <td>76.3</td>\n",
       "      <td>3.5</td>\n",
       "      <td>0.00</td>\n",
       "      <td>0.0</td>\n",
       "      <td>0.3</td>\n",
       "      <td>Susanto (2017)</td>\n",
       "    </tr>\n",
       "    <tr>\n",
       "      <th>1</th>\n",
       "      <td>Pang2</td>\n",
       "      <td>volc</td>\n",
       "      <td>850</td>\n",
       "      <td>6.1</td>\n",
       "      <td>24</td>\n",
       "      <td>91</td>\n",
       "      <td>60</td>\n",
       "      <td>6.8</td>\n",
       "      <td>42.1</td>\n",
       "      <td>15.8</td>\n",
       "      <td>...</td>\n",
       "      <td>9.2</td>\n",
       "      <td>0.0</td>\n",
       "      <td>0.3</td>\n",
       "      <td>0.00</td>\n",
       "      <td>69.5</td>\n",
       "      <td>5.1</td>\n",
       "      <td>1.40</td>\n",
       "      <td>0.0</td>\n",
       "      <td>0.0</td>\n",
       "      <td>Irawan et al. (2015)</td>\n",
       "    </tr>\n",
       "    <tr>\n",
       "      <th>2</th>\n",
       "      <td>Bdg1</td>\n",
       "      <td>volc</td>\n",
       "      <td>700</td>\n",
       "      <td>0.5</td>\n",
       "      <td>0</td>\n",
       "      <td>210</td>\n",
       "      <td>200</td>\n",
       "      <td>6.0</td>\n",
       "      <td>55.0</td>\n",
       "      <td>14.2</td>\n",
       "      <td>...</td>\n",
       "      <td>10.1</td>\n",
       "      <td>0.0</td>\n",
       "      <td>0.8</td>\n",
       "      <td>0.05</td>\n",
       "      <td>72.0</td>\n",
       "      <td>110.0</td>\n",
       "      <td>0.08</td>\n",
       "      <td>0.1</td>\n",
       "      <td>1.2</td>\n",
       "      <td>Irawan et al. (2015)</td>\n",
       "    </tr>\n",
       "    <tr>\n",
       "      <th>3</th>\n",
       "      <td>Bdg2</td>\n",
       "      <td>volc</td>\n",
       "      <td>700</td>\n",
       "      <td>0.4</td>\n",
       "      <td>0</td>\n",
       "      <td>230</td>\n",
       "      <td>200</td>\n",
       "      <td>6.0</td>\n",
       "      <td>53.0</td>\n",
       "      <td>13.9</td>\n",
       "      <td>...</td>\n",
       "      <td>10.2</td>\n",
       "      <td>0.0</td>\n",
       "      <td>0.8</td>\n",
       "      <td>0.04</td>\n",
       "      <td>73.0</td>\n",
       "      <td>112.0</td>\n",
       "      <td>0.09</td>\n",
       "      <td>0.2</td>\n",
       "      <td>1.1</td>\n",
       "      <td>Irawan et al. (2015)</td>\n",
       "    </tr>\n",
       "    <tr>\n",
       "      <th>4</th>\n",
       "      <td>Bdg3</td>\n",
       "      <td>volc</td>\n",
       "      <td>625</td>\n",
       "      <td>0.4</td>\n",
       "      <td>0</td>\n",
       "      <td>240</td>\n",
       "      <td>210</td>\n",
       "      <td>6.3</td>\n",
       "      <td>54.0</td>\n",
       "      <td>14.0</td>\n",
       "      <td>...</td>\n",
       "      <td>9.5</td>\n",
       "      <td>0.0</td>\n",
       "      <td>0.9</td>\n",
       "      <td>0.10</td>\n",
       "      <td>73.5</td>\n",
       "      <td>121.0</td>\n",
       "      <td>0.07</td>\n",
       "      <td>0.2</td>\n",
       "      <td>1.2</td>\n",
       "      <td>Irawan et al. (2015)</td>\n",
       "    </tr>\n",
       "  </tbody>\n",
       "</table>\n",
       "<p>5 rows × 24 columns</p>\n",
       "</div>"
      ],
      "text/plain": [
       "  sample litho  elev  turb  col  dhl  tds   ph  hard    ca  \\\n",
       "0  Pang1  volc   850   0.6    0   98   68  6.9  45.4  13.9   \n",
       "1  Pang2  volc   850   6.1   24   91   60  6.8  42.1  15.8   \n",
       "2   Bdg1  volc   700   0.5    0  210  200  6.0  55.0  14.2   \n",
       "3   Bdg2  volc   700   0.4    0  230  200  6.0  53.0  13.9   \n",
       "4   Bdg3  volc   625   0.4    0  240  210  6.3  54.0  14.0   \n",
       "\n",
       "           ...             na   li  nh4   co3  hco3     cl   so4  no2  no3  \\\n",
       "0          ...            9.7  0.0  0.5  0.00  76.3    3.5  0.00  0.0  0.3   \n",
       "1          ...            9.2  0.0  0.3  0.00  69.5    5.1  1.40  0.0  0.0   \n",
       "2          ...           10.1  0.0  0.8  0.05  72.0  110.0  0.08  0.1  1.2   \n",
       "3          ...           10.2  0.0  0.8  0.04  73.0  112.0  0.09  0.2  1.1   \n",
       "4          ...            9.5  0.0  0.9  0.10  73.5  121.0  0.07  0.2  1.2   \n",
       "\n",
       "                 source  \n",
       "0        Susanto (2017)  \n",
       "1  Irawan et al. (2015)  \n",
       "2  Irawan et al. (2015)  \n",
       "3  Irawan et al. (2015)  \n",
       "4  Irawan et al. (2015)  \n",
       "\n",
       "[5 rows x 24 columns]"
      ]
     },
     "execution_count": 80,
     "metadata": {},
     "output_type": "execute_result"
    }
   ],
   "source": [
    "df.head() # showing first 5 rows"
   ]
  },
  {
   "cell_type": "code",
   "execution_count": 81,
   "metadata": {
    "nbpresent": {
     "id": "d0fa239a-ad7c-4570-98bd-74345718f57b"
    },
    "slideshow": {
     "slide_type": "subslide"
    }
   },
   "outputs": [
    {
     "data": {
      "text/html": [
       "<div>\n",
       "<style scoped>\n",
       "    .dataframe tbody tr th:only-of-type {\n",
       "        vertical-align: middle;\n",
       "    }\n",
       "\n",
       "    .dataframe tbody tr th {\n",
       "        vertical-align: top;\n",
       "    }\n",
       "\n",
       "    .dataframe thead th {\n",
       "        text-align: right;\n",
       "    }\n",
       "</style>\n",
       "<table border=\"1\" class=\"dataframe\">\n",
       "  <thead>\n",
       "    <tr style=\"text-align: right;\">\n",
       "      <th></th>\n",
       "      <th>sample</th>\n",
       "      <th>litho</th>\n",
       "      <th>elev</th>\n",
       "      <th>turb</th>\n",
       "      <th>col</th>\n",
       "      <th>dhl</th>\n",
       "      <th>tds</th>\n",
       "      <th>ph</th>\n",
       "      <th>hard</th>\n",
       "      <th>ca</th>\n",
       "      <th>...</th>\n",
       "      <th>na</th>\n",
       "      <th>li</th>\n",
       "      <th>nh4</th>\n",
       "      <th>co3</th>\n",
       "      <th>hco3</th>\n",
       "      <th>cl</th>\n",
       "      <th>so4</th>\n",
       "      <th>no2</th>\n",
       "      <th>no3</th>\n",
       "      <th>source</th>\n",
       "    </tr>\n",
       "  </thead>\n",
       "  <tbody>\n",
       "    <tr>\n",
       "      <th>15</th>\n",
       "      <td>Indra1</td>\n",
       "      <td>alluv</td>\n",
       "      <td>8</td>\n",
       "      <td>2.0</td>\n",
       "      <td>0</td>\n",
       "      <td>1200</td>\n",
       "      <td>1180</td>\n",
       "      <td>6.1</td>\n",
       "      <td>81.0</td>\n",
       "      <td>10.1</td>\n",
       "      <td>...</td>\n",
       "      <td>6.1</td>\n",
       "      <td>0.0</td>\n",
       "      <td>2.3</td>\n",
       "      <td>4.3</td>\n",
       "      <td>91.0</td>\n",
       "      <td>890.0</td>\n",
       "      <td>1.2</td>\n",
       "      <td>0.6</td>\n",
       "      <td>2.1</td>\n",
       "      <td>Irawan et al. (2016)</td>\n",
       "    </tr>\n",
       "    <tr>\n",
       "      <th>16</th>\n",
       "      <td>Indra2</td>\n",
       "      <td>alluv</td>\n",
       "      <td>8</td>\n",
       "      <td>2.1</td>\n",
       "      <td>0</td>\n",
       "      <td>1200</td>\n",
       "      <td>1150</td>\n",
       "      <td>6.1</td>\n",
       "      <td>80.0</td>\n",
       "      <td>9.8</td>\n",
       "      <td>...</td>\n",
       "      <td>6.2</td>\n",
       "      <td>0.0</td>\n",
       "      <td>2.2</td>\n",
       "      <td>4.4</td>\n",
       "      <td>92.3</td>\n",
       "      <td>880.0</td>\n",
       "      <td>1.1</td>\n",
       "      <td>0.6</td>\n",
       "      <td>2.2</td>\n",
       "      <td>Irawan et al. (2016)</td>\n",
       "    </tr>\n",
       "    <tr>\n",
       "      <th>17</th>\n",
       "      <td>Indra3</td>\n",
       "      <td>alluv</td>\n",
       "      <td>5</td>\n",
       "      <td>2.1</td>\n",
       "      <td>0</td>\n",
       "      <td>1250</td>\n",
       "      <td>1200</td>\n",
       "      <td>6.0</td>\n",
       "      <td>81.0</td>\n",
       "      <td>9.3</td>\n",
       "      <td>...</td>\n",
       "      <td>6.2</td>\n",
       "      <td>0.0</td>\n",
       "      <td>2.5</td>\n",
       "      <td>4.2</td>\n",
       "      <td>94.5</td>\n",
       "      <td>910.0</td>\n",
       "      <td>1.2</td>\n",
       "      <td>0.5</td>\n",
       "      <td>3.4</td>\n",
       "      <td>Irawan et al. (2016)</td>\n",
       "    </tr>\n",
       "    <tr>\n",
       "      <th>18</th>\n",
       "      <td>Indra4</td>\n",
       "      <td>alluv</td>\n",
       "      <td>4</td>\n",
       "      <td>2.0</td>\n",
       "      <td>0</td>\n",
       "      <td>1300</td>\n",
       "      <td>1250</td>\n",
       "      <td>6.0</td>\n",
       "      <td>82.0</td>\n",
       "      <td>9.6</td>\n",
       "      <td>...</td>\n",
       "      <td>6.3</td>\n",
       "      <td>0.0</td>\n",
       "      <td>2.5</td>\n",
       "      <td>4.4</td>\n",
       "      <td>95.4</td>\n",
       "      <td>920.0</td>\n",
       "      <td>1.5</td>\n",
       "      <td>0.7</td>\n",
       "      <td>3.4</td>\n",
       "      <td>Irawan et al. (2016)</td>\n",
       "    </tr>\n",
       "    <tr>\n",
       "      <th>19</th>\n",
       "      <td>Indra5</td>\n",
       "      <td>alluv</td>\n",
       "      <td>4</td>\n",
       "      <td>1.8</td>\n",
       "      <td>0</td>\n",
       "      <td>1300</td>\n",
       "      <td>1250</td>\n",
       "      <td>6.0</td>\n",
       "      <td>82.0</td>\n",
       "      <td>9.7</td>\n",
       "      <td>...</td>\n",
       "      <td>6.7</td>\n",
       "      <td>0.0</td>\n",
       "      <td>2.6</td>\n",
       "      <td>4.3</td>\n",
       "      <td>92.3</td>\n",
       "      <td>910.0</td>\n",
       "      <td>1.4</td>\n",
       "      <td>0.8</td>\n",
       "      <td>3.5</td>\n",
       "      <td>Irawan et al. (2016)</td>\n",
       "    </tr>\n",
       "  </tbody>\n",
       "</table>\n",
       "<p>5 rows × 24 columns</p>\n",
       "</div>"
      ],
      "text/plain": [
       "    sample  litho  elev  turb  col   dhl   tds   ph  hard    ca  \\\n",
       "15  Indra1  alluv     8   2.0    0  1200  1180  6.1  81.0  10.1   \n",
       "16  Indra2  alluv     8   2.1    0  1200  1150  6.1  80.0   9.8   \n",
       "17  Indra3  alluv     5   2.1    0  1250  1200  6.0  81.0   9.3   \n",
       "18  Indra4  alluv     4   2.0    0  1300  1250  6.0  82.0   9.6   \n",
       "19  Indra5  alluv     4   1.8    0  1300  1250  6.0  82.0   9.7   \n",
       "\n",
       "            ...            na   li  nh4  co3  hco3     cl  so4  no2  no3  \\\n",
       "15          ...           6.1  0.0  2.3  4.3  91.0  890.0  1.2  0.6  2.1   \n",
       "16          ...           6.2  0.0  2.2  4.4  92.3  880.0  1.1  0.6  2.2   \n",
       "17          ...           6.2  0.0  2.5  4.2  94.5  910.0  1.2  0.5  3.4   \n",
       "18          ...           6.3  0.0  2.5  4.4  95.4  920.0  1.5  0.7  3.4   \n",
       "19          ...           6.7  0.0  2.6  4.3  92.3  910.0  1.4  0.8  3.5   \n",
       "\n",
       "                  source  \n",
       "15  Irawan et al. (2016)  \n",
       "16  Irawan et al. (2016)  \n",
       "17  Irawan et al. (2016)  \n",
       "18  Irawan et al. (2016)  \n",
       "19  Irawan et al. (2016)  \n",
       "\n",
       "[5 rows x 24 columns]"
      ]
     },
     "execution_count": 81,
     "metadata": {},
     "output_type": "execute_result"
    }
   ],
   "source": [
    "df.tail() # showing last 5 rows"
   ]
  },
  {
   "cell_type": "code",
   "execution_count": 82,
   "metadata": {
    "nbpresent": {
     "id": "340c4fd9-b5a1-46ee-964b-19ceffca21ce"
    },
    "slideshow": {
     "slide_type": "skip"
    }
   },
   "outputs": [
    {
     "data": {
      "text/plain": [
       "pandas.core.frame.DataFrame"
      ]
     },
     "execution_count": 82,
     "metadata": {},
     "output_type": "execute_result"
    }
   ],
   "source": [
    "type(df)"
   ]
  },
  {
   "cell_type": "code",
   "execution_count": 83,
   "metadata": {
    "nbpresent": {
     "id": "b6ea4cb0-f333-41ad-ba64-2a66c53f7cc7"
    },
    "slideshow": {
     "slide_type": "skip"
    }
   },
   "outputs": [
    {
     "data": {
      "text/plain": [
       "(20, 24)"
      ]
     },
     "execution_count": 83,
     "metadata": {},
     "output_type": "execute_result"
    }
   ],
   "source": [
    "df.shape # table size showing number of (rows, columns)"
   ]
  },
  {
   "cell_type": "code",
   "execution_count": 84,
   "metadata": {
    "nbpresent": {
     "id": "00d528bb-12f8-4041-8dba-c4c9c9499a96"
    },
    "slideshow": {
     "slide_type": "subslide"
    }
   },
   "outputs": [
    {
     "data": {
      "text/html": [
       "<div>\n",
       "<style scoped>\n",
       "    .dataframe tbody tr th:only-of-type {\n",
       "        vertical-align: middle;\n",
       "    }\n",
       "\n",
       "    .dataframe tbody tr th {\n",
       "        vertical-align: top;\n",
       "    }\n",
       "\n",
       "    .dataframe thead th {\n",
       "        text-align: right;\n",
       "    }\n",
       "</style>\n",
       "<table border=\"1\" class=\"dataframe\">\n",
       "  <thead>\n",
       "    <tr style=\"text-align: right;\">\n",
       "      <th></th>\n",
       "      <th>elev</th>\n",
       "      <th>turb</th>\n",
       "      <th>col</th>\n",
       "      <th>dhl</th>\n",
       "      <th>tds</th>\n",
       "      <th>ph</th>\n",
       "      <th>hard</th>\n",
       "      <th>ca</th>\n",
       "      <th>mg</th>\n",
       "      <th>fe3</th>\n",
       "      <th>...</th>\n",
       "      <th>k</th>\n",
       "      <th>na</th>\n",
       "      <th>li</th>\n",
       "      <th>nh4</th>\n",
       "      <th>co3</th>\n",
       "      <th>hco3</th>\n",
       "      <th>cl</th>\n",
       "      <th>so4</th>\n",
       "      <th>no2</th>\n",
       "      <th>no3</th>\n",
       "    </tr>\n",
       "  </thead>\n",
       "  <tbody>\n",
       "    <tr>\n",
       "      <th>count</th>\n",
       "      <td>20.000000</td>\n",
       "      <td>20.000000</td>\n",
       "      <td>20.000000</td>\n",
       "      <td>20.000000</td>\n",
       "      <td>20.000000</td>\n",
       "      <td>20.000000</td>\n",
       "      <td>20.000000</td>\n",
       "      <td>20.000000</td>\n",
       "      <td>20.000000</td>\n",
       "      <td>20.000000</td>\n",
       "      <td>...</td>\n",
       "      <td>20.000000</td>\n",
       "      <td>20.000000</td>\n",
       "      <td>20.0</td>\n",
       "      <td>20.000000</td>\n",
       "      <td>20.000000</td>\n",
       "      <td>20.000000</td>\n",
       "      <td>20.000000</td>\n",
       "      <td>20.000000</td>\n",
       "      <td>20.000000</td>\n",
       "      <td>20.000000</td>\n",
       "    </tr>\n",
       "    <tr>\n",
       "      <th>mean</th>\n",
       "      <td>484.950000</td>\n",
       "      <td>2.550000</td>\n",
       "      <td>1.200000</td>\n",
       "      <td>606.500000</td>\n",
       "      <td>572.400000</td>\n",
       "      <td>6.100000</td>\n",
       "      <td>74.725000</td>\n",
       "      <td>14.950000</td>\n",
       "      <td>1.065000</td>\n",
       "      <td>0.835000</td>\n",
       "      <td>...</td>\n",
       "      <td>2.990000</td>\n",
       "      <td>7.755000</td>\n",
       "      <td>0.0</td>\n",
       "      <td>1.160000</td>\n",
       "      <td>13.892500</td>\n",
       "      <td>81.165000</td>\n",
       "      <td>279.620000</td>\n",
       "      <td>0.464000</td>\n",
       "      <td>0.340000</td>\n",
       "      <td>1.310000</td>\n",
       "    </tr>\n",
       "    <tr>\n",
       "      <th>std</th>\n",
       "      <td>294.422267</td>\n",
       "      <td>2.551883</td>\n",
       "      <td>5.366563</td>\n",
       "      <td>420.275661</td>\n",
       "      <td>415.048431</td>\n",
       "      <td>0.279096</td>\n",
       "      <td>26.805398</td>\n",
       "      <td>4.439239</td>\n",
       "      <td>0.419618</td>\n",
       "      <td>0.198667</td>\n",
       "      <td>...</td>\n",
       "      <td>0.906642</td>\n",
       "      <td>2.123918</td>\n",
       "      <td>0.0</td>\n",
       "      <td>0.867179</td>\n",
       "      <td>40.204939</td>\n",
       "      <td>8.225332</td>\n",
       "      <td>372.257285</td>\n",
       "      <td>0.570571</td>\n",
       "      <td>0.216187</td>\n",
       "      <td>1.107344</td>\n",
       "    </tr>\n",
       "    <tr>\n",
       "      <th>min</th>\n",
       "      <td>4.000000</td>\n",
       "      <td>0.300000</td>\n",
       "      <td>0.000000</td>\n",
       "      <td>91.000000</td>\n",
       "      <td>60.000000</td>\n",
       "      <td>5.800000</td>\n",
       "      <td>42.100000</td>\n",
       "      <td>9.300000</td>\n",
       "      <td>0.600000</td>\n",
       "      <td>0.000000</td>\n",
       "      <td>...</td>\n",
       "      <td>1.600000</td>\n",
       "      <td>5.000000</td>\n",
       "      <td>0.0</td>\n",
       "      <td>0.100000</td>\n",
       "      <td>0.000000</td>\n",
       "      <td>69.500000</td>\n",
       "      <td>3.500000</td>\n",
       "      <td>0.000000</td>\n",
       "      <td>0.000000</td>\n",
       "      <td>0.000000</td>\n",
       "    </tr>\n",
       "    <tr>\n",
       "      <th>25%</th>\n",
       "      <td>437.000000</td>\n",
       "      <td>0.400000</td>\n",
       "      <td>0.000000</td>\n",
       "      <td>252.000000</td>\n",
       "      <td>210.000000</td>\n",
       "      <td>6.000000</td>\n",
       "      <td>53.750000</td>\n",
       "      <td>12.875000</td>\n",
       "      <td>0.800000</td>\n",
       "      <td>0.870000</td>\n",
       "      <td>...</td>\n",
       "      <td>2.300000</td>\n",
       "      <td>5.900000</td>\n",
       "      <td>0.0</td>\n",
       "      <td>0.300000</td>\n",
       "      <td>0.087500</td>\n",
       "      <td>74.825000</td>\n",
       "      <td>15.925000</td>\n",
       "      <td>0.080000</td>\n",
       "      <td>0.200000</td>\n",
       "      <td>0.300000</td>\n",
       "    </tr>\n",
       "    <tr>\n",
       "      <th>50%</th>\n",
       "      <td>597.500000</td>\n",
       "      <td>1.900000</td>\n",
       "      <td>0.000000</td>\n",
       "      <td>575.000000</td>\n",
       "      <td>547.500000</td>\n",
       "      <td>6.000000</td>\n",
       "      <td>67.500000</td>\n",
       "      <td>14.050000</td>\n",
       "      <td>0.900000</td>\n",
       "      <td>0.880000</td>\n",
       "      <td>...</td>\n",
       "      <td>2.850000</td>\n",
       "      <td>7.950000</td>\n",
       "      <td>0.0</td>\n",
       "      <td>1.000000</td>\n",
       "      <td>2.150000</td>\n",
       "      <td>79.100000</td>\n",
       "      <td>120.650000</td>\n",
       "      <td>0.085000</td>\n",
       "      <td>0.300000</td>\n",
       "      <td>1.200000</td>\n",
       "    </tr>\n",
       "    <tr>\n",
       "      <th>75%</th>\n",
       "      <td>606.250000</td>\n",
       "      <td>6.000000</td>\n",
       "      <td>0.000000</td>\n",
       "      <td>787.500000</td>\n",
       "      <td>745.000000</td>\n",
       "      <td>6.100000</td>\n",
       "      <td>86.500000</td>\n",
       "      <td>16.850000</td>\n",
       "      <td>1.200000</td>\n",
       "      <td>0.900000</td>\n",
       "      <td>...</td>\n",
       "      <td>3.600000</td>\n",
       "      <td>9.725000</td>\n",
       "      <td>0.0</td>\n",
       "      <td>1.675000</td>\n",
       "      <td>7.800000</td>\n",
       "      <td>86.500000</td>\n",
       "      <td>327.625000</td>\n",
       "      <td>1.125000</td>\n",
       "      <td>0.425000</td>\n",
       "      <td>1.575000</td>\n",
       "    </tr>\n",
       "    <tr>\n",
       "      <th>max</th>\n",
       "      <td>850.000000</td>\n",
       "      <td>6.500000</td>\n",
       "      <td>24.000000</td>\n",
       "      <td>1300.000000</td>\n",
       "      <td>1250.000000</td>\n",
       "      <td>6.900000</td>\n",
       "      <td>120.000000</td>\n",
       "      <td>23.000000</td>\n",
       "      <td>2.600000</td>\n",
       "      <td>0.920000</td>\n",
       "      <td>...</td>\n",
       "      <td>4.400000</td>\n",
       "      <td>10.300000</td>\n",
       "      <td>0.0</td>\n",
       "      <td>2.600000</td>\n",
       "      <td>182.000000</td>\n",
       "      <td>95.400000</td>\n",
       "      <td>920.000000</td>\n",
       "      <td>1.500000</td>\n",
       "      <td>0.800000</td>\n",
       "      <td>3.500000</td>\n",
       "    </tr>\n",
       "  </tbody>\n",
       "</table>\n",
       "<p>8 rows × 21 columns</p>\n",
       "</div>"
      ],
      "text/plain": [
       "             elev       turb        col          dhl          tds         ph  \\\n",
       "count   20.000000  20.000000  20.000000    20.000000    20.000000  20.000000   \n",
       "mean   484.950000   2.550000   1.200000   606.500000   572.400000   6.100000   \n",
       "std    294.422267   2.551883   5.366563   420.275661   415.048431   0.279096   \n",
       "min      4.000000   0.300000   0.000000    91.000000    60.000000   5.800000   \n",
       "25%    437.000000   0.400000   0.000000   252.000000   210.000000   6.000000   \n",
       "50%    597.500000   1.900000   0.000000   575.000000   547.500000   6.000000   \n",
       "75%    606.250000   6.000000   0.000000   787.500000   745.000000   6.100000   \n",
       "max    850.000000   6.500000  24.000000  1300.000000  1250.000000   6.900000   \n",
       "\n",
       "             hard         ca         mg        fe3    ...              k  \\\n",
       "count   20.000000  20.000000  20.000000  20.000000    ...      20.000000   \n",
       "mean    74.725000  14.950000   1.065000   0.835000    ...       2.990000   \n",
       "std     26.805398   4.439239   0.419618   0.198667    ...       0.906642   \n",
       "min     42.100000   9.300000   0.600000   0.000000    ...       1.600000   \n",
       "25%     53.750000  12.875000   0.800000   0.870000    ...       2.300000   \n",
       "50%     67.500000  14.050000   0.900000   0.880000    ...       2.850000   \n",
       "75%     86.500000  16.850000   1.200000   0.900000    ...       3.600000   \n",
       "max    120.000000  23.000000   2.600000   0.920000    ...       4.400000   \n",
       "\n",
       "              na    li        nh4         co3       hco3          cl  \\\n",
       "count  20.000000  20.0  20.000000   20.000000  20.000000   20.000000   \n",
       "mean    7.755000   0.0   1.160000   13.892500  81.165000  279.620000   \n",
       "std     2.123918   0.0   0.867179   40.204939   8.225332  372.257285   \n",
       "min     5.000000   0.0   0.100000    0.000000  69.500000    3.500000   \n",
       "25%     5.900000   0.0   0.300000    0.087500  74.825000   15.925000   \n",
       "50%     7.950000   0.0   1.000000    2.150000  79.100000  120.650000   \n",
       "75%     9.725000   0.0   1.675000    7.800000  86.500000  327.625000   \n",
       "max    10.300000   0.0   2.600000  182.000000  95.400000  920.000000   \n",
       "\n",
       "             so4        no2        no3  \n",
       "count  20.000000  20.000000  20.000000  \n",
       "mean    0.464000   0.340000   1.310000  \n",
       "std     0.570571   0.216187   1.107344  \n",
       "min     0.000000   0.000000   0.000000  \n",
       "25%     0.080000   0.200000   0.300000  \n",
       "50%     0.085000   0.300000   1.200000  \n",
       "75%     1.125000   0.425000   1.575000  \n",
       "max     1.500000   0.800000   3.500000  \n",
       "\n",
       "[8 rows x 21 columns]"
      ]
     },
     "execution_count": 84,
     "metadata": {},
     "output_type": "execute_result"
    }
   ],
   "source": [
    "df.describe() # selecting columns in number and describe basics stats"
   ]
  },
  {
   "cell_type": "code",
   "execution_count": 85,
   "metadata": {
    "nbpresent": {
     "id": "1b82ffd6-a57e-4472-b97a-a3cf7a513d7b"
    },
    "slideshow": {
     "slide_type": "subslide"
    }
   },
   "outputs": [
    {
     "data": {
      "text/plain": [
       "['sample',\n",
       " 'litho',\n",
       " 'elev',\n",
       " 'turb',\n",
       " 'col',\n",
       " 'dhl',\n",
       " 'tds',\n",
       " 'ph',\n",
       " 'hard',\n",
       " 'ca',\n",
       " 'mg',\n",
       " 'fe3',\n",
       " 'mn',\n",
       " 'k',\n",
       " 'na',\n",
       " 'li',\n",
       " 'nh4',\n",
       " 'co3',\n",
       " 'hco3',\n",
       " 'cl',\n",
       " 'so4',\n",
       " 'no2',\n",
       " 'no3',\n",
       " 'source']"
      ]
     },
     "execution_count": 85,
     "metadata": {},
     "output_type": "execute_result"
    }
   ],
   "source": [
    "list(df)"
   ]
  },
  {
   "cell_type": "markdown",
   "metadata": {
    "nbpresent": {
     "id": "cd9b4ef4-22c8-4af9-b2c6-1e577a15a391"
    },
    "slideshow": {
     "slide_type": "slide"
    }
   },
   "source": [
    "# creating boxplot\n",
    "\n",
    "- here we create a boxplot to visualize the distribution of dataset.\n",
    "- we're going to make two kinds of layout. "
   ]
  },
  {
   "cell_type": "code",
   "execution_count": 86,
   "metadata": {
    "nbpresent": {
     "id": "40afa030-2f8c-4a11-b15b-010972e9398e"
    },
    "scrolled": true,
    "slideshow": {
     "slide_type": "subslide"
    }
   },
   "outputs": [
    {
     "data": {
      "image/png": "[encoded data removed]",
      "text/plain": [
       "<matplotlib.figure.Figure at 0x1a1d868fd0>"
      ]
     },
     "metadata": {},
     "output_type": "display_data"
    }
   ],
   "source": [
    "df.boxplot(figsize=[20,10]) # creating boxplot\n",
    "plt.savefig('box.png')"
   ]
  },
  {
   "cell_type": "code",
   "execution_count": 87,
   "metadata": {
    "nbpresent": {
     "id": "90b7e561-ca4b-47f2-bf4d-7b8cab2a392e"
    },
    "slideshow": {
     "slide_type": "subslide"
    }
   },
   "outputs": [
    {
     "data": {
      "image/png": "[encoded data removed]",
      "text/plain": [
       "<matplotlib.figure.Figure at 0x1a1d625b38>"
      ]
     },
     "metadata": {},
     "output_type": "display_data"
    }
   ],
   "source": [
    "df.boxplot(by=['litho'], figsize=[30,15]) # creating boxplot grouped by lithology\n",
    "plt.savefig('panel_box.png')"
   ]
  },
  {
   "cell_type": "markdown",
   "metadata": {
    "nbpresent": {
     "id": "0670d0c7-a3bb-4796-8777-a858935c4db8"
    },
    "slideshow": {
     "slide_type": "slide"
    }
   },
   "source": [
    "# Correlation matrix \n",
    "\n",
    "## omitting some non-numeric columns\n",
    "\n",
    "In the PCA process, we will not be using non-numerical columns: `sample`, `litho`, `turb`, `col`, and `source`. Also, `li` (Lithium) column contains zeros. We will drop them. First we're going to see the correlation matrix. Here we build the matrix in table form and in plot form. "
   ]
  },
  {
   "cell_type": "code",
   "execution_count": 88,
   "metadata": {
    "nbpresent": {
     "id": "2e5c108c-6014-45b2-b9d6-dc5ad5964a28"
    },
    "slideshow": {
     "slide_type": "subslide"
    }
   },
   "outputs": [
    {
     "data": {
      "text/plain": [
       "['elev',\n",
       " 'dhl',\n",
       " 'tds',\n",
       " 'ph',\n",
       " 'hard',\n",
       " 'ca',\n",
       " 'mg',\n",
       " 'fe3',\n",
       " 'mn',\n",
       " 'k',\n",
       " 'na',\n",
       " 'nh4',\n",
       " 'co3',\n",
       " 'hco3',\n",
       " 'cl',\n",
       " 'so4',\n",
       " 'no2',\n",
       " 'no3']"
      ]
     },
     "execution_count": 88,
     "metadata": {},
     "output_type": "execute_result"
    }
   ],
   "source": [
    "df_cor = df.drop(['sample', 'litho', 'turb', 'col', 'source', 'li'], axis=1)\n",
    "df_cor\n",
    "list(df_cor)"
   ]
  },
  {
   "cell_type": "code",
   "execution_count": 89,
   "metadata": {
    "nbpresent": {
     "id": "7c1ec84b-7701-494c-906b-a56872026623"
    },
    "slideshow": {
     "slide_type": "subslide"
    }
   },
   "outputs": [
    {
     "data": {
      "text/html": [
       "<div>\n",
       "<style scoped>\n",
       "    .dataframe tbody tr th:only-of-type {\n",
       "        vertical-align: middle;\n",
       "    }\n",
       "\n",
       "    .dataframe tbody tr th {\n",
       "        vertical-align: top;\n",
       "    }\n",
       "\n",
       "    .dataframe thead th {\n",
       "        text-align: right;\n",
       "    }\n",
       "</style>\n",
       "<table border=\"1\" class=\"dataframe\">\n",
       "  <thead>\n",
       "    <tr style=\"text-align: right;\">\n",
       "      <th></th>\n",
       "      <th>elev</th>\n",
       "      <th>dhl</th>\n",
       "      <th>tds</th>\n",
       "      <th>ph</th>\n",
       "      <th>hard</th>\n",
       "      <th>ca</th>\n",
       "      <th>mg</th>\n",
       "      <th>fe3</th>\n",
       "      <th>mn</th>\n",
       "      <th>k</th>\n",
       "      <th>na</th>\n",
       "      <th>nh4</th>\n",
       "      <th>co3</th>\n",
       "      <th>hco3</th>\n",
       "      <th>cl</th>\n",
       "      <th>so4</th>\n",
       "      <th>no2</th>\n",
       "      <th>no3</th>\n",
       "    </tr>\n",
       "  </thead>\n",
       "  <tbody>\n",
       "    <tr>\n",
       "      <th>0</th>\n",
       "      <td>850</td>\n",
       "      <td>98</td>\n",
       "      <td>68</td>\n",
       "      <td>6.9</td>\n",
       "      <td>45.4</td>\n",
       "      <td>13.9</td>\n",
       "      <td>2.6</td>\n",
       "      <td>0.00</td>\n",
       "      <td>0.01</td>\n",
       "      <td>2.3</td>\n",
       "      <td>9.7</td>\n",
       "      <td>0.5</td>\n",
       "      <td>0.00</td>\n",
       "      <td>76.3</td>\n",
       "      <td>3.5</td>\n",
       "      <td>0.00</td>\n",
       "      <td>0.0</td>\n",
       "      <td>0.3</td>\n",
       "    </tr>\n",
       "    <tr>\n",
       "      <th>1</th>\n",
       "      <td>850</td>\n",
       "      <td>91</td>\n",
       "      <td>60</td>\n",
       "      <td>6.8</td>\n",
       "      <td>42.1</td>\n",
       "      <td>15.8</td>\n",
       "      <td>0.6</td>\n",
       "      <td>0.86</td>\n",
       "      <td>0.24</td>\n",
       "      <td>1.6</td>\n",
       "      <td>9.2</td>\n",
       "      <td>0.3</td>\n",
       "      <td>0.00</td>\n",
       "      <td>69.5</td>\n",
       "      <td>5.1</td>\n",
       "      <td>1.40</td>\n",
       "      <td>0.0</td>\n",
       "      <td>0.0</td>\n",
       "    </tr>\n",
       "    <tr>\n",
       "      <th>2</th>\n",
       "      <td>700</td>\n",
       "      <td>210</td>\n",
       "      <td>200</td>\n",
       "      <td>6.0</td>\n",
       "      <td>55.0</td>\n",
       "      <td>14.2</td>\n",
       "      <td>0.8</td>\n",
       "      <td>0.90</td>\n",
       "      <td>0.21</td>\n",
       "      <td>2.1</td>\n",
       "      <td>10.1</td>\n",
       "      <td>0.8</td>\n",
       "      <td>0.05</td>\n",
       "      <td>72.0</td>\n",
       "      <td>110.0</td>\n",
       "      <td>0.08</td>\n",
       "      <td>0.1</td>\n",
       "      <td>1.2</td>\n",
       "    </tr>\n",
       "    <tr>\n",
       "      <th>3</th>\n",
       "      <td>700</td>\n",
       "      <td>230</td>\n",
       "      <td>200</td>\n",
       "      <td>6.0</td>\n",
       "      <td>53.0</td>\n",
       "      <td>13.9</td>\n",
       "      <td>1.2</td>\n",
       "      <td>0.78</td>\n",
       "      <td>0.22</td>\n",
       "      <td>2.0</td>\n",
       "      <td>10.2</td>\n",
       "      <td>0.8</td>\n",
       "      <td>0.04</td>\n",
       "      <td>73.0</td>\n",
       "      <td>112.0</td>\n",
       "      <td>0.09</td>\n",
       "      <td>0.2</td>\n",
       "      <td>1.1</td>\n",
       "    </tr>\n",
       "    <tr>\n",
       "      <th>4</th>\n",
       "      <td>625</td>\n",
       "      <td>240</td>\n",
       "      <td>210</td>\n",
       "      <td>6.3</td>\n",
       "      <td>54.0</td>\n",
       "      <td>14.0</td>\n",
       "      <td>1.3</td>\n",
       "      <td>0.88</td>\n",
       "      <td>0.23</td>\n",
       "      <td>2.3</td>\n",
       "      <td>9.5</td>\n",
       "      <td>0.9</td>\n",
       "      <td>0.10</td>\n",
       "      <td>73.5</td>\n",
       "      <td>121.0</td>\n",
       "      <td>0.07</td>\n",
       "      <td>0.2</td>\n",
       "      <td>1.2</td>\n",
       "    </tr>\n",
       "    <tr>\n",
       "      <th>5</th>\n",
       "      <td>600</td>\n",
       "      <td>256</td>\n",
       "      <td>210</td>\n",
       "      <td>6.2</td>\n",
       "      <td>54.0</td>\n",
       "      <td>14.1</td>\n",
       "      <td>1.2</td>\n",
       "      <td>0.90</td>\n",
       "      <td>0.23</td>\n",
       "      <td>2.3</td>\n",
       "      <td>9.5</td>\n",
       "      <td>1.1</td>\n",
       "      <td>0.09</td>\n",
       "      <td>75.0</td>\n",
       "      <td>120.3</td>\n",
       "      <td>0.08</td>\n",
       "      <td>0.3</td>\n",
       "      <td>1.3</td>\n",
       "    </tr>\n",
       "    <tr>\n",
       "      <th>6</th>\n",
       "      <td>600</td>\n",
       "      <td>300</td>\n",
       "      <td>280</td>\n",
       "      <td>6.0</td>\n",
       "      <td>55.0</td>\n",
       "      <td>14.3</td>\n",
       "      <td>1.4</td>\n",
       "      <td>0.89</td>\n",
       "      <td>0.24</td>\n",
       "      <td>2.4</td>\n",
       "      <td>9.6</td>\n",
       "      <td>1.2</td>\n",
       "      <td>0.10</td>\n",
       "      <td>75.0</td>\n",
       "      <td>125.6</td>\n",
       "      <td>0.08</td>\n",
       "      <td>0.3</td>\n",
       "      <td>1.2</td>\n",
       "    </tr>\n",
       "    <tr>\n",
       "      <th>7</th>\n",
       "      <td>590</td>\n",
       "      <td>325</td>\n",
       "      <td>285</td>\n",
       "      <td>6.0</td>\n",
       "      <td>53.0</td>\n",
       "      <td>14.5</td>\n",
       "      <td>0.9</td>\n",
       "      <td>0.87</td>\n",
       "      <td>0.25</td>\n",
       "      <td>2.5</td>\n",
       "      <td>9.8</td>\n",
       "      <td>1.5</td>\n",
       "      <td>0.10</td>\n",
       "      <td>76.5</td>\n",
       "      <td>135.4</td>\n",
       "      <td>0.20</td>\n",
       "      <td>0.4</td>\n",
       "      <td>1.4</td>\n",
       "    </tr>\n",
       "    <tr>\n",
       "      <th>8</th>\n",
       "      <td>590</td>\n",
       "      <td>480</td>\n",
       "      <td>410</td>\n",
       "      <td>6.0</td>\n",
       "      <td>53.0</td>\n",
       "      <td>14.0</td>\n",
       "      <td>0.8</td>\n",
       "      <td>0.85</td>\n",
       "      <td>0.24</td>\n",
       "      <td>2.3</td>\n",
       "      <td>9.8</td>\n",
       "      <td>1.5</td>\n",
       "      <td>0.08</td>\n",
       "      <td>77.0</td>\n",
       "      <td>143.5</td>\n",
       "      <td>0.20</td>\n",
       "      <td>0.4</td>\n",
       "      <td>1.3</td>\n",
       "    </tr>\n",
       "    <tr>\n",
       "      <th>9</th>\n",
       "      <td>580</td>\n",
       "      <td>550</td>\n",
       "      <td>515</td>\n",
       "      <td>5.8</td>\n",
       "      <td>54.0</td>\n",
       "      <td>13.8</td>\n",
       "      <td>1.1</td>\n",
       "      <td>0.89</td>\n",
       "      <td>0.23</td>\n",
       "      <td>2.2</td>\n",
       "      <td>10.3</td>\n",
       "      <td>1.4</td>\n",
       "      <td>0.09</td>\n",
       "      <td>74.3</td>\n",
       "      <td>134.3</td>\n",
       "      <td>0.30</td>\n",
       "      <td>0.4</td>\n",
       "      <td>1.3</td>\n",
       "    </tr>\n",
       "    <tr>\n",
       "      <th>10</th>\n",
       "      <td>600</td>\n",
       "      <td>600</td>\n",
       "      <td>580</td>\n",
       "      <td>5.8</td>\n",
       "      <td>120.0</td>\n",
       "      <td>21.0</td>\n",
       "      <td>1.2</td>\n",
       "      <td>0.90</td>\n",
       "      <td>0.25</td>\n",
       "      <td>3.2</td>\n",
       "      <td>5.3</td>\n",
       "      <td>0.1</td>\n",
       "      <td>18.00</td>\n",
       "      <td>82.0</td>\n",
       "      <td>11.2</td>\n",
       "      <td>0.06</td>\n",
       "      <td>0.2</td>\n",
       "      <td>0.2</td>\n",
       "    </tr>\n",
       "    <tr>\n",
       "      <th>11</th>\n",
       "      <td>600</td>\n",
       "      <td>620</td>\n",
       "      <td>600</td>\n",
       "      <td>6.0</td>\n",
       "      <td>100.0</td>\n",
       "      <td>23.0</td>\n",
       "      <td>1.2</td>\n",
       "      <td>0.90</td>\n",
       "      <td>0.24</td>\n",
       "      <td>3.3</td>\n",
       "      <td>5.3</td>\n",
       "      <td>0.2</td>\n",
       "      <td>19.10</td>\n",
       "      <td>81.2</td>\n",
       "      <td>13.1</td>\n",
       "      <td>0.08</td>\n",
       "      <td>0.2</td>\n",
       "      <td>0.2</td>\n",
       "    </tr>\n",
       "    <tr>\n",
       "      <th>12</th>\n",
       "      <td>590</td>\n",
       "      <td>630</td>\n",
       "      <td>600</td>\n",
       "      <td>6.0</td>\n",
       "      <td>120.0</td>\n",
       "      <td>23.0</td>\n",
       "      <td>1.1</td>\n",
       "      <td>0.91</td>\n",
       "      <td>0.25</td>\n",
       "      <td>3.4</td>\n",
       "      <td>5.2</td>\n",
       "      <td>0.3</td>\n",
       "      <td>182.00</td>\n",
       "      <td>83.5</td>\n",
       "      <td>14.5</td>\n",
       "      <td>0.08</td>\n",
       "      <td>0.3</td>\n",
       "      <td>0.3</td>\n",
       "    </tr>\n",
       "    <tr>\n",
       "      <th>13</th>\n",
       "      <td>595</td>\n",
       "      <td>650</td>\n",
       "      <td>610</td>\n",
       "      <td>6.0</td>\n",
       "      <td>110.0</td>\n",
       "      <td>21.0</td>\n",
       "      <td>0.8</td>\n",
       "      <td>0.92</td>\n",
       "      <td>0.23</td>\n",
       "      <td>3.2</td>\n",
       "      <td>5.0</td>\n",
       "      <td>0.3</td>\n",
       "      <td>18.30</td>\n",
       "      <td>85.0</td>\n",
       "      <td>16.4</td>\n",
       "      <td>0.08</td>\n",
       "      <td>0.3</td>\n",
       "      <td>0.3</td>\n",
       "    </tr>\n",
       "    <tr>\n",
       "      <th>14</th>\n",
       "      <td>600</td>\n",
       "      <td>600</td>\n",
       "      <td>590</td>\n",
       "      <td>6.0</td>\n",
       "      <td>120.0</td>\n",
       "      <td>20.0</td>\n",
       "      <td>0.8</td>\n",
       "      <td>0.87</td>\n",
       "      <td>0.24</td>\n",
       "      <td>3.3</td>\n",
       "      <td>5.1</td>\n",
       "      <td>0.2</td>\n",
       "      <td>18.20</td>\n",
       "      <td>84.0</td>\n",
       "      <td>16.5</td>\n",
       "      <td>0.08</td>\n",
       "      <td>0.3</td>\n",
       "      <td>0.3</td>\n",
       "    </tr>\n",
       "    <tr>\n",
       "      <th>15</th>\n",
       "      <td>8</td>\n",
       "      <td>1200</td>\n",
       "      <td>1180</td>\n",
       "      <td>6.1</td>\n",
       "      <td>81.0</td>\n",
       "      <td>10.1</td>\n",
       "      <td>0.8</td>\n",
       "      <td>0.88</td>\n",
       "      <td>0.24</td>\n",
       "      <td>4.2</td>\n",
       "      <td>6.1</td>\n",
       "      <td>2.3</td>\n",
       "      <td>4.30</td>\n",
       "      <td>91.0</td>\n",
       "      <td>890.0</td>\n",
       "      <td>1.20</td>\n",
       "      <td>0.6</td>\n",
       "      <td>2.1</td>\n",
       "    </tr>\n",
       "    <tr>\n",
       "      <th>16</th>\n",
       "      <td>8</td>\n",
       "      <td>1200</td>\n",
       "      <td>1150</td>\n",
       "      <td>6.1</td>\n",
       "      <td>80.0</td>\n",
       "      <td>9.8</td>\n",
       "      <td>0.9</td>\n",
       "      <td>0.88</td>\n",
       "      <td>0.25</td>\n",
       "      <td>4.3</td>\n",
       "      <td>6.2</td>\n",
       "      <td>2.2</td>\n",
       "      <td>4.40</td>\n",
       "      <td>92.3</td>\n",
       "      <td>880.0</td>\n",
       "      <td>1.10</td>\n",
       "      <td>0.6</td>\n",
       "      <td>2.2</td>\n",
       "    </tr>\n",
       "    <tr>\n",
       "      <th>17</th>\n",
       "      <td>5</td>\n",
       "      <td>1250</td>\n",
       "      <td>1200</td>\n",
       "      <td>6.0</td>\n",
       "      <td>81.0</td>\n",
       "      <td>9.3</td>\n",
       "      <td>0.8</td>\n",
       "      <td>0.87</td>\n",
       "      <td>0.26</td>\n",
       "      <td>4.4</td>\n",
       "      <td>6.2</td>\n",
       "      <td>2.5</td>\n",
       "      <td>4.20</td>\n",
       "      <td>94.5</td>\n",
       "      <td>910.0</td>\n",
       "      <td>1.20</td>\n",
       "      <td>0.5</td>\n",
       "      <td>3.4</td>\n",
       "    </tr>\n",
       "    <tr>\n",
       "      <th>18</th>\n",
       "      <td>4</td>\n",
       "      <td>1300</td>\n",
       "      <td>1250</td>\n",
       "      <td>6.0</td>\n",
       "      <td>82.0</td>\n",
       "      <td>9.6</td>\n",
       "      <td>0.9</td>\n",
       "      <td>0.87</td>\n",
       "      <td>0.23</td>\n",
       "      <td>4.3</td>\n",
       "      <td>6.3</td>\n",
       "      <td>2.5</td>\n",
       "      <td>4.40</td>\n",
       "      <td>95.4</td>\n",
       "      <td>920.0</td>\n",
       "      <td>1.50</td>\n",
       "      <td>0.7</td>\n",
       "      <td>3.4</td>\n",
       "    </tr>\n",
       "    <tr>\n",
       "      <th>19</th>\n",
       "      <td>4</td>\n",
       "      <td>1300</td>\n",
       "      <td>1250</td>\n",
       "      <td>6.0</td>\n",
       "      <td>82.0</td>\n",
       "      <td>9.7</td>\n",
       "      <td>0.9</td>\n",
       "      <td>0.88</td>\n",
       "      <td>0.24</td>\n",
       "      <td>4.2</td>\n",
       "      <td>6.7</td>\n",
       "      <td>2.6</td>\n",
       "      <td>4.30</td>\n",
       "      <td>92.3</td>\n",
       "      <td>910.0</td>\n",
       "      <td>1.40</td>\n",
       "      <td>0.8</td>\n",
       "      <td>3.5</td>\n",
       "    </tr>\n",
       "  </tbody>\n",
       "</table>\n",
       "</div>"
      ],
      "text/plain": [
       "    elev   dhl   tds   ph   hard    ca   mg   fe3    mn    k    na  nh4  \\\n",
       "0    850    98    68  6.9   45.4  13.9  2.6  0.00  0.01  2.3   9.7  0.5   \n",
       "1    850    91    60  6.8   42.1  15.8  0.6  0.86  0.24  1.6   9.2  0.3   \n",
       "2    700   210   200  6.0   55.0  14.2  0.8  0.90  0.21  2.1  10.1  0.8   \n",
       "3    700   230   200  6.0   53.0  13.9  1.2  0.78  0.22  2.0  10.2  0.8   \n",
       "4    625   240   210  6.3   54.0  14.0  1.3  0.88  0.23  2.3   9.5  0.9   \n",
       "5    600   256   210  6.2   54.0  14.1  1.2  0.90  0.23  2.3   9.5  1.1   \n",
       "6    600   300   280  6.0   55.0  14.3  1.4  0.89  0.24  2.4   9.6  1.2   \n",
       "7    590   325   285  6.0   53.0  14.5  0.9  0.87  0.25  2.5   9.8  1.5   \n",
       "8    590   480   410  6.0   53.0  14.0  0.8  0.85  0.24  2.3   9.8  1.5   \n",
       "9    580   550   515  5.8   54.0  13.8  1.1  0.89  0.23  2.2  10.3  1.4   \n",
       "10   600   600   580  5.8  120.0  21.0  1.2  0.90  0.25  3.2   5.3  0.1   \n",
       "11   600   620   600  6.0  100.0  23.0  1.2  0.90  0.24  3.3   5.3  0.2   \n",
       "12   590   630   600  6.0  120.0  23.0  1.1  0.91  0.25  3.4   5.2  0.3   \n",
       "13   595   650   610  6.0  110.0  21.0  0.8  0.92  0.23  3.2   5.0  0.3   \n",
       "14   600   600   590  6.0  120.0  20.0  0.8  0.87  0.24  3.3   5.1  0.2   \n",
       "15     8  1200  1180  6.1   81.0  10.1  0.8  0.88  0.24  4.2   6.1  2.3   \n",
       "16     8  1200  1150  6.1   80.0   9.8  0.9  0.88  0.25  4.3   6.2  2.2   \n",
       "17     5  1250  1200  6.0   81.0   9.3  0.8  0.87  0.26  4.4   6.2  2.5   \n",
       "18     4  1300  1250  6.0   82.0   9.6  0.9  0.87  0.23  4.3   6.3  2.5   \n",
       "19     4  1300  1250  6.0   82.0   9.7  0.9  0.88  0.24  4.2   6.7  2.6   \n",
       "\n",
       "       co3  hco3     cl   so4  no2  no3  \n",
       "0     0.00  76.3    3.5  0.00  0.0  0.3  \n",
       "1     0.00  69.5    5.1  1.40  0.0  0.0  \n",
       "2     0.05  72.0  110.0  0.08  0.1  1.2  \n",
       "3     0.04  73.0  112.0  0.09  0.2  1.1  \n",
       "4     0.10  73.5  121.0  0.07  0.2  1.2  \n",
       "5     0.09  75.0  120.3  0.08  0.3  1.3  \n",
       "6     0.10  75.0  125.6  0.08  0.3  1.2  \n",
       "7     0.10  76.5  135.4  0.20  0.4  1.4  \n",
       "8     0.08  77.0  143.5  0.20  0.4  1.3  \n",
       "9     0.09  74.3  134.3  0.30  0.4  1.3  \n",
       "10   18.00  82.0   11.2  0.06  0.2  0.2  \n",
       "11   19.10  81.2   13.1  0.08  0.2  0.2  \n",
       "12  182.00  83.5   14.5  0.08  0.3  0.3  \n",
       "13   18.30  85.0   16.4  0.08  0.3  0.3  \n",
       "14   18.20  84.0   16.5  0.08  0.3  0.3  \n",
       "15    4.30  91.0  890.0  1.20  0.6  2.1  \n",
       "16    4.40  92.3  880.0  1.10  0.6  2.2  \n",
       "17    4.20  94.5  910.0  1.20  0.5  3.4  \n",
       "18    4.40  95.4  920.0  1.50  0.7  3.4  \n",
       "19    4.30  92.3  910.0  1.40  0.8  3.5  "
      ]
     },
     "execution_count": 89,
     "metadata": {},
     "output_type": "execute_result"
    }
   ],
   "source": [
    "df_cor"
   ]
  },
  {
   "cell_type": "code",
   "execution_count": 90,
   "metadata": {
    "nbpresent": {
     "id": "4322b618-0891-4ebb-8cd1-23f866cd9123"
    },
    "slideshow": {
     "slide_type": "subslide"
    }
   },
   "outputs": [
    {
     "data": {
      "text/html": [
       "<div>\n",
       "<style scoped>\n",
       "    .dataframe tbody tr th:only-of-type {\n",
       "        vertical-align: middle;\n",
       "    }\n",
       "\n",
       "    .dataframe tbody tr th {\n",
       "        vertical-align: top;\n",
       "    }\n",
       "\n",
       "    .dataframe thead th {\n",
       "        text-align: right;\n",
       "    }\n",
       "</style>\n",
       "<table border=\"1\" class=\"dataframe\">\n",
       "  <thead>\n",
       "    <tr style=\"text-align: right;\">\n",
       "      <th></th>\n",
       "      <th>elev</th>\n",
       "      <th>dhl</th>\n",
       "      <th>tds</th>\n",
       "      <th>ph</th>\n",
       "      <th>hard</th>\n",
       "      <th>ca</th>\n",
       "      <th>mg</th>\n",
       "      <th>fe3</th>\n",
       "      <th>mn</th>\n",
       "      <th>k</th>\n",
       "      <th>na</th>\n",
       "      <th>nh4</th>\n",
       "      <th>co3</th>\n",
       "      <th>hco3</th>\n",
       "      <th>cl</th>\n",
       "      <th>so4</th>\n",
       "      <th>no2</th>\n",
       "      <th>no3</th>\n",
       "    </tr>\n",
       "  </thead>\n",
       "  <tbody>\n",
       "    <tr>\n",
       "      <th>elev</th>\n",
       "      <td>1.000000</td>\n",
       "      <td>-0.957003</td>\n",
       "      <td>-0.954142</td>\n",
       "      <td>0.351124</td>\n",
       "      <td>-0.261246</td>\n",
       "      <td>0.614977</td>\n",
       "      <td>0.372277</td>\n",
       "      <td>-0.292380</td>\n",
       "      <td>-0.361425</td>\n",
       "      <td>-0.894264</td>\n",
       "      <td>0.474627</td>\n",
       "      <td>-0.866197</td>\n",
       "      <td>0.076602</td>\n",
       "      <td>-0.898516</td>\n",
       "      <td>-0.967574</td>\n",
       "      <td>-0.745283</td>\n",
       "      <td>-0.913760</td>\n",
       "      <td>-0.869995</td>\n",
       "    </tr>\n",
       "    <tr>\n",
       "      <th>dhl</th>\n",
       "      <td>-0.957003</td>\n",
       "      <td>1.000000</td>\n",
       "      <td>0.999393</td>\n",
       "      <td>-0.412267</td>\n",
       "      <td>0.476553</td>\n",
       "      <td>-0.408690</td>\n",
       "      <td>-0.390167</td>\n",
       "      <td>0.298008</td>\n",
       "      <td>0.366535</td>\n",
       "      <td>0.954259</td>\n",
       "      <td>-0.660693</td>\n",
       "      <td>0.727201</td>\n",
       "      <td>0.058615</td>\n",
       "      <td>0.960730</td>\n",
       "      <td>0.883810</td>\n",
       "      <td>0.700122</td>\n",
       "      <td>0.881999</td>\n",
       "      <td>0.747184</td>\n",
       "    </tr>\n",
       "    <tr>\n",
       "      <th>tds</th>\n",
       "      <td>-0.954142</td>\n",
       "      <td>0.999393</td>\n",
       "      <td>1.000000</td>\n",
       "      <td>-0.416460</td>\n",
       "      <td>0.490888</td>\n",
       "      <td>-0.396684</td>\n",
       "      <td>-0.388725</td>\n",
       "      <td>0.300459</td>\n",
       "      <td>0.366789</td>\n",
       "      <td>0.958134</td>\n",
       "      <td>-0.672465</td>\n",
       "      <td>0.715042</td>\n",
       "      <td>0.063719</td>\n",
       "      <td>0.961137</td>\n",
       "      <td>0.879134</td>\n",
       "      <td>0.694820</td>\n",
       "      <td>0.873798</td>\n",
       "      <td>0.736911</td>\n",
       "    </tr>\n",
       "    <tr>\n",
       "      <th>ph</th>\n",
       "      <td>0.351124</td>\n",
       "      <td>-0.412267</td>\n",
       "      <td>-0.416460</td>\n",
       "      <td>1.000000</td>\n",
       "      <td>-0.468608</td>\n",
       "      <td>-0.114696</td>\n",
       "      <td>0.462888</td>\n",
       "      <td>-0.683439</td>\n",
       "      <td>-0.664189</td>\n",
       "      <td>-0.355674</td>\n",
       "      <td>0.305431</td>\n",
       "      <td>-0.215287</td>\n",
       "      <td>-0.142988</td>\n",
       "      <td>-0.319596</td>\n",
       "      <td>-0.174137</td>\n",
       "      <td>0.127907</td>\n",
       "      <td>-0.488484</td>\n",
       "      <td>-0.272477</td>\n",
       "    </tr>\n",
       "    <tr>\n",
       "      <th>hard</th>\n",
       "      <td>-0.261246</td>\n",
       "      <td>0.476553</td>\n",
       "      <td>0.490888</td>\n",
       "      <td>-0.468608</td>\n",
       "      <td>1.000000</td>\n",
       "      <td>0.556750</td>\n",
       "      <td>-0.234158</td>\n",
       "      <td>0.315063</td>\n",
       "      <td>0.332010</td>\n",
       "      <td>0.619213</td>\n",
       "      <td>-0.930694</td>\n",
       "      <td>-0.215756</td>\n",
       "      <td>0.543726</td>\n",
       "      <td>0.577792</td>\n",
       "      <td>0.057374</td>\n",
       "      <td>-0.041426</td>\n",
       "      <td>0.223151</td>\n",
       "      <td>-0.122834</td>\n",
       "    </tr>\n",
       "    <tr>\n",
       "      <th>ca</th>\n",
       "      <td>0.614977</td>\n",
       "      <td>-0.408690</td>\n",
       "      <td>-0.396684</td>\n",
       "      <td>-0.114696</td>\n",
       "      <td>0.556750</td>\n",
       "      <td>1.000000</td>\n",
       "      <td>0.067952</td>\n",
       "      <td>0.108614</td>\n",
       "      <td>0.063431</td>\n",
       "      <td>-0.253429</td>\n",
       "      <td>-0.348241</td>\n",
       "      <td>-0.877326</td>\n",
       "      <td>0.535660</td>\n",
       "      <td>-0.305915</td>\n",
       "      <td>-0.766508</td>\n",
       "      <td>-0.641598</td>\n",
       "      <td>-0.556640</td>\n",
       "      <td>-0.829555</td>\n",
       "    </tr>\n",
       "    <tr>\n",
       "      <th>mg</th>\n",
       "      <td>0.372277</td>\n",
       "      <td>-0.390167</td>\n",
       "      <td>-0.388725</td>\n",
       "      <td>0.462888</td>\n",
       "      <td>-0.234158</td>\n",
       "      <td>0.067952</td>\n",
       "      <td>1.000000</td>\n",
       "      <td>-0.846951</td>\n",
       "      <td>-0.850999</td>\n",
       "      <td>-0.263820</td>\n",
       "      <td>0.277469</td>\n",
       "      <td>-0.270185</td>\n",
       "      <td>-0.008365</td>\n",
       "      <td>-0.267077</td>\n",
       "      <td>-0.306285</td>\n",
       "      <td>-0.439260</td>\n",
       "      <td>-0.407287</td>\n",
       "      <td>-0.275583</td>\n",
       "    </tr>\n",
       "    <tr>\n",
       "      <th>fe3</th>\n",
       "      <td>-0.292380</td>\n",
       "      <td>0.298008</td>\n",
       "      <td>0.300459</td>\n",
       "      <td>-0.683439</td>\n",
       "      <td>0.315063</td>\n",
       "      <td>0.108614</td>\n",
       "      <td>-0.846951</td>\n",
       "      <td>1.000000</td>\n",
       "      <td>0.969850</td>\n",
       "      <td>0.208926</td>\n",
       "      <td>-0.270610</td>\n",
       "      <td>0.151834</td>\n",
       "      <td>0.126295</td>\n",
       "      <td>0.161122</td>\n",
       "      <td>0.157944</td>\n",
       "      <td>0.167246</td>\n",
       "      <td>0.366406</td>\n",
       "      <td>0.187806</td>\n",
       "    </tr>\n",
       "    <tr>\n",
       "      <th>mn</th>\n",
       "      <td>-0.361425</td>\n",
       "      <td>0.366535</td>\n",
       "      <td>0.366789</td>\n",
       "      <td>-0.664189</td>\n",
       "      <td>0.332010</td>\n",
       "      <td>0.063431</td>\n",
       "      <td>-0.850999</td>\n",
       "      <td>0.969850</td>\n",
       "      <td>1.000000</td>\n",
       "      <td>0.282578</td>\n",
       "      <td>-0.313610</td>\n",
       "      <td>0.217483</td>\n",
       "      <td>0.141525</td>\n",
       "      <td>0.238419</td>\n",
       "      <td>0.229075</td>\n",
       "      <td>0.245751</td>\n",
       "      <td>0.423140</td>\n",
       "      <td>0.237185</td>\n",
       "    </tr>\n",
       "    <tr>\n",
       "      <th>k</th>\n",
       "      <td>-0.894264</td>\n",
       "      <td>0.954259</td>\n",
       "      <td>0.958134</td>\n",
       "      <td>-0.355674</td>\n",
       "      <td>0.619213</td>\n",
       "      <td>-0.253429</td>\n",
       "      <td>-0.263820</td>\n",
       "      <td>0.208926</td>\n",
       "      <td>0.282578</td>\n",
       "      <td>1.000000</td>\n",
       "      <td>-0.790417</td>\n",
       "      <td>0.583203</td>\n",
       "      <td>0.175016</td>\n",
       "      <td>0.986744</td>\n",
       "      <td>0.796820</td>\n",
       "      <td>0.572381</td>\n",
       "      <td>0.775493</td>\n",
       "      <td>0.622899</td>\n",
       "    </tr>\n",
       "    <tr>\n",
       "      <th>na</th>\n",
       "      <td>0.474627</td>\n",
       "      <td>-0.660693</td>\n",
       "      <td>-0.672465</td>\n",
       "      <td>0.305431</td>\n",
       "      <td>-0.930694</td>\n",
       "      <td>-0.348241</td>\n",
       "      <td>0.277469</td>\n",
       "      <td>-0.270610</td>\n",
       "      <td>-0.313610</td>\n",
       "      <td>-0.790417</td>\n",
       "      <td>1.000000</td>\n",
       "      <td>0.008116</td>\n",
       "      <td>-0.422157</td>\n",
       "      <td>-0.758571</td>\n",
       "      <td>-0.308199</td>\n",
       "      <td>-0.251091</td>\n",
       "      <td>-0.359234</td>\n",
       "      <td>-0.060444</td>\n",
       "    </tr>\n",
       "    <tr>\n",
       "      <th>nh4</th>\n",
       "      <td>-0.866197</td>\n",
       "      <td>0.727201</td>\n",
       "      <td>0.715042</td>\n",
       "      <td>-0.215287</td>\n",
       "      <td>-0.215756</td>\n",
       "      <td>-0.877326</td>\n",
       "      <td>-0.270185</td>\n",
       "      <td>0.151834</td>\n",
       "      <td>0.217483</td>\n",
       "      <td>0.583203</td>\n",
       "      <td>0.008116</td>\n",
       "      <td>1.000000</td>\n",
       "      <td>-0.301810</td>\n",
       "      <td>0.618134</td>\n",
       "      <td>0.918295</td>\n",
       "      <td>0.714203</td>\n",
       "      <td>0.859633</td>\n",
       "      <td>0.958507</td>\n",
       "    </tr>\n",
       "    <tr>\n",
       "      <th>co3</th>\n",
       "      <td>0.076602</td>\n",
       "      <td>0.058615</td>\n",
       "      <td>0.063719</td>\n",
       "      <td>-0.142988</td>\n",
       "      <td>0.543726</td>\n",
       "      <td>0.535660</td>\n",
       "      <td>-0.008365</td>\n",
       "      <td>0.126295</td>\n",
       "      <td>0.141525</td>\n",
       "      <td>0.175016</td>\n",
       "      <td>-0.422157</td>\n",
       "      <td>-0.301810</td>\n",
       "      <td>1.000000</td>\n",
       "      <td>0.129886</td>\n",
       "      <td>-0.191432</td>\n",
       "      <td>-0.186028</td>\n",
       "      <td>-0.045179</td>\n",
       "      <td>-0.268582</td>\n",
       "    </tr>\n",
       "    <tr>\n",
       "      <th>hco3</th>\n",
       "      <td>-0.898516</td>\n",
       "      <td>0.960730</td>\n",
       "      <td>0.961137</td>\n",
       "      <td>-0.319596</td>\n",
       "      <td>0.577792</td>\n",
       "      <td>-0.305915</td>\n",
       "      <td>-0.267077</td>\n",
       "      <td>0.161122</td>\n",
       "      <td>0.238419</td>\n",
       "      <td>0.986744</td>\n",
       "      <td>-0.758571</td>\n",
       "      <td>0.618134</td>\n",
       "      <td>0.129886</td>\n",
       "      <td>1.000000</td>\n",
       "      <td>0.816052</td>\n",
       "      <td>0.612538</td>\n",
       "      <td>0.797313</td>\n",
       "      <td>0.657684</td>\n",
       "    </tr>\n",
       "    <tr>\n",
       "      <th>cl</th>\n",
       "      <td>-0.967574</td>\n",
       "      <td>0.883810</td>\n",
       "      <td>0.879134</td>\n",
       "      <td>-0.174137</td>\n",
       "      <td>0.057374</td>\n",
       "      <td>-0.766508</td>\n",
       "      <td>-0.306285</td>\n",
       "      <td>0.157944</td>\n",
       "      <td>0.229075</td>\n",
       "      <td>0.796820</td>\n",
       "      <td>-0.308199</td>\n",
       "      <td>0.918295</td>\n",
       "      <td>-0.191432</td>\n",
       "      <td>0.816052</td>\n",
       "      <td>1.000000</td>\n",
       "      <td>0.828348</td>\n",
       "      <td>0.852359</td>\n",
       "      <td>0.914733</td>\n",
       "    </tr>\n",
       "    <tr>\n",
       "      <th>so4</th>\n",
       "      <td>-0.745283</td>\n",
       "      <td>0.700122</td>\n",
       "      <td>0.694820</td>\n",
       "      <td>0.127907</td>\n",
       "      <td>-0.041426</td>\n",
       "      <td>-0.641598</td>\n",
       "      <td>-0.439260</td>\n",
       "      <td>0.167246</td>\n",
       "      <td>0.245751</td>\n",
       "      <td>0.572381</td>\n",
       "      <td>-0.251091</td>\n",
       "      <td>0.714203</td>\n",
       "      <td>-0.186028</td>\n",
       "      <td>0.612538</td>\n",
       "      <td>0.828348</td>\n",
       "      <td>1.000000</td>\n",
       "      <td>0.624154</td>\n",
       "      <td>0.697419</td>\n",
       "    </tr>\n",
       "    <tr>\n",
       "      <th>no2</th>\n",
       "      <td>-0.913760</td>\n",
       "      <td>0.881999</td>\n",
       "      <td>0.873798</td>\n",
       "      <td>-0.488484</td>\n",
       "      <td>0.223151</td>\n",
       "      <td>-0.556640</td>\n",
       "      <td>-0.407287</td>\n",
       "      <td>0.366406</td>\n",
       "      <td>0.423140</td>\n",
       "      <td>0.775493</td>\n",
       "      <td>-0.359234</td>\n",
       "      <td>0.859633</td>\n",
       "      <td>-0.045179</td>\n",
       "      <td>0.797313</td>\n",
       "      <td>0.852359</td>\n",
       "      <td>0.624154</td>\n",
       "      <td>1.000000</td>\n",
       "      <td>0.842480</td>\n",
       "    </tr>\n",
       "    <tr>\n",
       "      <th>no3</th>\n",
       "      <td>-0.869995</td>\n",
       "      <td>0.747184</td>\n",
       "      <td>0.736911</td>\n",
       "      <td>-0.272477</td>\n",
       "      <td>-0.122834</td>\n",
       "      <td>-0.829555</td>\n",
       "      <td>-0.275583</td>\n",
       "      <td>0.187806</td>\n",
       "      <td>0.237185</td>\n",
       "      <td>0.622899</td>\n",
       "      <td>-0.060444</td>\n",
       "      <td>0.958507</td>\n",
       "      <td>-0.268582</td>\n",
       "      <td>0.657684</td>\n",
       "      <td>0.914733</td>\n",
       "      <td>0.697419</td>\n",
       "      <td>0.842480</td>\n",
       "      <td>1.000000</td>\n",
       "    </tr>\n",
       "  </tbody>\n",
       "</table>\n",
       "</div>"
      ],
      "text/plain": [
       "          elev       dhl       tds        ph      hard        ca        mg  \\\n",
       "elev  1.000000 -0.957003 -0.954142  0.351124 -0.261246  0.614977  0.372277   \n",
       "dhl  -0.957003  1.000000  0.999393 -0.412267  0.476553 -0.408690 -0.390167   \n",
       "tds  -0.954142  0.999393  1.000000 -0.416460  0.490888 -0.396684 -0.388725   \n",
       "ph    0.351124 -0.412267 -0.416460  1.000000 -0.468608 -0.114696  0.462888   \n",
       "hard -0.261246  0.476553  0.490888 -0.468608  1.000000  0.556750 -0.234158   \n",
       "ca    0.614977 -0.408690 -0.396684 -0.114696  0.556750  1.000000  0.067952   \n",
       "mg    0.372277 -0.390167 -0.388725  0.462888 -0.234158  0.067952  1.000000   \n",
       "fe3  -0.292380  0.298008  0.300459 -0.683439  0.315063  0.108614 -0.846951   \n",
       "mn   -0.361425  0.366535  0.366789 -0.664189  0.332010  0.063431 -0.850999   \n",
       "k    -0.894264  0.954259  0.958134 -0.355674  0.619213 -0.253429 -0.263820   \n",
       "na    0.474627 -0.660693 -0.672465  0.305431 -0.930694 -0.348241  0.277469   \n",
       "nh4  -0.866197  0.727201  0.715042 -0.215287 -0.215756 -0.877326 -0.270185   \n",
       "co3   0.076602  0.058615  0.063719 -0.142988  0.543726  0.535660 -0.008365   \n",
       "hco3 -0.898516  0.960730  0.961137 -0.319596  0.577792 -0.305915 -0.267077   \n",
       "cl   -0.967574  0.883810  0.879134 -0.174137  0.057374 -0.766508 -0.306285   \n",
       "so4  -0.745283  0.700122  0.694820  0.127907 -0.041426 -0.641598 -0.439260   \n",
       "no2  -0.913760  0.881999  0.873798 -0.488484  0.223151 -0.556640 -0.407287   \n",
       "no3  -0.869995  0.747184  0.736911 -0.272477 -0.122834 -0.829555 -0.275583   \n",
       "\n",
       "           fe3        mn         k        na       nh4       co3      hco3  \\\n",
       "elev -0.292380 -0.361425 -0.894264  0.474627 -0.866197  0.076602 -0.898516   \n",
       "dhl   0.298008  0.366535  0.954259 -0.660693  0.727201  0.058615  0.960730   \n",
       "tds   0.300459  0.366789  0.958134 -0.672465  0.715042  0.063719  0.961137   \n",
       "ph   -0.683439 -0.664189 -0.355674  0.305431 -0.215287 -0.142988 -0.319596   \n",
       "hard  0.315063  0.332010  0.619213 -0.930694 -0.215756  0.543726  0.577792   \n",
       "ca    0.108614  0.063431 -0.253429 -0.348241 -0.877326  0.535660 -0.305915   \n",
       "mg   -0.846951 -0.850999 -0.263820  0.277469 -0.270185 -0.008365 -0.267077   \n",
       "fe3   1.000000  0.969850  0.208926 -0.270610  0.151834  0.126295  0.161122   \n",
       "mn    0.969850  1.000000  0.282578 -0.313610  0.217483  0.141525  0.238419   \n",
       "k     0.208926  0.282578  1.000000 -0.790417  0.583203  0.175016  0.986744   \n",
       "na   -0.270610 -0.313610 -0.790417  1.000000  0.008116 -0.422157 -0.758571   \n",
       "nh4   0.151834  0.217483  0.583203  0.008116  1.000000 -0.301810  0.618134   \n",
       "co3   0.126295  0.141525  0.175016 -0.422157 -0.301810  1.000000  0.129886   \n",
       "hco3  0.161122  0.238419  0.986744 -0.758571  0.618134  0.129886  1.000000   \n",
       "cl    0.157944  0.229075  0.796820 -0.308199  0.918295 -0.191432  0.816052   \n",
       "so4   0.167246  0.245751  0.572381 -0.251091  0.714203 -0.186028  0.612538   \n",
       "no2   0.366406  0.423140  0.775493 -0.359234  0.859633 -0.045179  0.797313   \n",
       "no3   0.187806  0.237185  0.622899 -0.060444  0.958507 -0.268582  0.657684   \n",
       "\n",
       "            cl       so4       no2       no3  \n",
       "elev -0.967574 -0.745283 -0.913760 -0.869995  \n",
       "dhl   0.883810  0.700122  0.881999  0.747184  \n",
       "tds   0.879134  0.694820  0.873798  0.736911  \n",
       "ph   -0.174137  0.127907 -0.488484 -0.272477  \n",
       "hard  0.057374 -0.041426  0.223151 -0.122834  \n",
       "ca   -0.766508 -0.641598 -0.556640 -0.829555  \n",
       "mg   -0.306285 -0.439260 -0.407287 -0.275583  \n",
       "fe3   0.157944  0.167246  0.366406  0.187806  \n",
       "mn    0.229075  0.245751  0.423140  0.237185  \n",
       "k     0.796820  0.572381  0.775493  0.622899  \n",
       "na   -0.308199 -0.251091 -0.359234 -0.060444  \n",
       "nh4   0.918295  0.714203  0.859633  0.958507  \n",
       "co3  -0.191432 -0.186028 -0.045179 -0.268582  \n",
       "hco3  0.816052  0.612538  0.797313  0.657684  \n",
       "cl    1.000000  0.828348  0.852359  0.914733  \n",
       "so4   0.828348  1.000000  0.624154  0.697419  \n",
       "no2   0.852359  0.624154  1.000000  0.842480  \n",
       "no3   0.914733  0.697419  0.842480  1.000000  "
      ]
     },
     "execution_count": 90,
     "metadata": {},
     "output_type": "execute_result"
    }
   ],
   "source": [
    "corr = df_cor.corr()\n",
    "corr"
   ]
  },
  {
   "cell_type": "markdown",
   "metadata": {
    "nbpresent": {
     "id": "671a38be-2fab-4b2c-b6e1-d1f80aac7dcd"
    },
    "slideshow": {
     "slide_type": "slide"
    }
   },
   "source": [
    "## scatter plot matrix\n",
    "\n",
    "Then we visualize the correlation matrix in form of scatter plot matrix. We're going to see to types of scatter plot matrix. The first one builds on `pandas` function. The function automatically produces a separate window to contain the plot. The second plot, we define a custom-made function. "
   ]
  },
  {
   "cell_type": "code",
   "execution_count": 91,
   "metadata": {
    "nbpresent": {
     "id": "6446cc79-1d1a-495d-8c6c-c2cda733ab8a"
    },
    "slideshow": {
     "slide_type": "subslide"
    }
   },
   "outputs": [
    {
     "name": "stderr",
     "output_type": "stream",
     "text": [
      "/Users/cutnovianti/anaconda3/lib/python3.6/site-packages/ipykernel/__main__.py:1: FutureWarning: 'pandas.tools.plotting.scatter_matrix' is deprecated, import 'pandas.plotting.scatter_matrix' instead.\n",
      "  if __name__ == '__main__':\n"
     ]
    },
    {
     "data": {
      "image/png": "[encoded data removed]",
      "text/plain": [
       "<matplotlib.figure.Figure at 0x1a17e13cc0>"
      ]
     },
     "metadata": {},
     "output_type": "display_data"
    }
   ],
   "source": [
    "scatter_matrix(df_cor, figsize=(8,8))\n",
    "plt.savefig('scatmat1.png')"
   ]
  },
  {
   "cell_type": "code",
   "execution_count": 149,
   "metadata": {
    "nbpresent": {
     "id": "3688b5dd-9c8d-49e5-89e3-6587bd306928"
    },
    "scrolled": true,
    "slideshow": {
     "slide_type": "subslide"
    }
   },
   "outputs": [
    {
     "data": {
      "image/png": "[encoded data removed]",
      "text/plain": [
       "<matplotlib.figure.Figure at 0x1a1d7638d0>"
      ]
     },
     "metadata": {},
     "output_type": "display_data"
    }
   ],
   "source": [
    "def plot_corr(df_cor, size=10):\n",
    "    '''function to plot a graphical correlation matrix input: df: pandas DataFrame, size: vertical and horizontal size of the plot'''\n",
    "    fig, ax = plt.subplots(figsize = (size, size))\n",
    "    ax.matshow(corr)\n",
    "    plt.xticks(range(len(corr.columns)), corr.columns);\n",
    "    plt.yticks(range(len(corr.columns)), corr.columns)\n",
    "plot_corr(df_cor, size = 10)"
   ]
  },
  {
   "cell_type": "code",
   "execution_count": 148,
   "metadata": {
    "nbpresent": {
     "id": "53136348-6e31-4779-8797-1ac9384ccd69"
    },
    "slideshow": {
     "slide_type": "notes"
    }
   },
   "outputs": [
    {
     "data": {
      "text/plain": [
       "<matplotlib.figure.Figure at 0x1a18752278>"
      ]
     },
     "metadata": {},
     "output_type": "display_data"
    }
   ],
   "source": [
    "plt.savefig('scatmat2.png') # use this line only if you want to save the plot"
   ]
  },
  {
   "cell_type": "markdown",
   "metadata": {
    "nbpresent": {
     "id": "644ca130-617d-44a4-8b2e-540ff6800626"
    },
    "slideshow": {
     "slide_type": "subslide"
    }
   },
   "source": [
    "# we find the following correlations\n",
    "\n",
    "- TDS-DHL/EC with: K, HCO3, Cl, SO4, CO2, dan NO3\n",
    "- K with HCO3 and Cl\n",
    "- NH4 with Cl, SO4, NO2, dan NO3\n",
    "- Cl with SO4, NO2 dan NO3\n",
    "- NO2 with NO3"
   ]
  },
  {
   "cell_type": "markdown",
   "metadata": {
    "nbpresent": {
     "id": "dcc319c0-21b6-4039-ba7f-757dde4b10a5"
    },
    "slideshow": {
     "slide_type": "slide"
    }
   },
   "source": [
    "# multivariate analysis\n",
    "\n",
    "we will use principal component analysis (PCA) and later on cluster analysis (CA) to separate water quality samples."
   ]
  },
  {
   "cell_type": "markdown",
   "metadata": {
    "nbpresent": {
     "id": "21c802fc-5c87-4ca7-a509-da4932631cbe"
    },
    "slideshow": {
     "slide_type": "subslide"
    }
   },
   "source": [
    "# steps\n",
    "\n",
    "- scale or normalize of dataset using `scale()` function\n",
    "- creating PCA model using `PCA()`\n",
    "- evaluating PCA\n",
    "- visualize PCA"
   ]
  },
  {
   "cell_type": "markdown",
   "metadata": {
    "nbpresent": {
     "id": "a590eacd-ec8c-476e-bc62-d3832dcf6247"
    },
    "slideshow": {
     "slide_type": "notes"
    }
   },
   "source": [
    "# Multivariate analysis\n",
    "\n",
    "Di sini kita mencoba menggunakan dua analisis multivariabel, Principal Component Analysis dan Cluster Analysis, untuk memisahkan sampel air berdasarkan karakter sifat fisik dan kimianya. Kami menggunakan library Scikit-Learn untuk melakukan ini.\n",
    "\n",
    "## Principal component analysis (PCA)\n",
    "Dalam tahap ini kami menggunakan fungsi `PCA` dari Pandas. Sebelumnya proses standardisasi atau normalisasi perlu dilakukan dengan fungsi `scale`. Hasil dari fungsi `PCA` adalah nilai per variabel terhadap komponen 1 dan komponen 2. Jadi nantinya 18 variabel yang diukur akan dimasukkan ke dalam dua komponen utama (PC1 dan PC2). Dengan demikian akan muncul dua komponen yang merupakan transformasi dari 18 variabel awal. Berbekal dua komponen besar dan bukan 18 variabel terpisah, akan memudahkan kami untuk melakukan interpretasi lebih lanjut. Karena sebab inilah, maka PCA adalah salah satu teknik pengurangan dimensi atau _dimension reduction_.   "
   ]
  },
  {
   "cell_type": "markdown",
   "metadata": {
    "nbpresent": {
     "id": "3353c68a-b3e2-4726-a16d-e8e020f0427a"
    },
    "slideshow": {
     "slide_type": "notes"
    }
   },
   "source": [
    "### Creating PCA model and fitting\n",
    "Tahap pertama adalah melakukan normalisasi dengan `scale()` dan kemudian menjalankan proses PCA dengan `pca()`. Dalam proses PCA, data yang tadinya terdiri dari 18 variabel (atau sumbu atau dimensi), ditransformasi menjadi beberapa komponen saja. Biasanya fungsi `pca()` akan mengajukan empat komponen untuk dipilih, tapi pengguna bisa saja menentukan berapa jumlah komponen yang dihasilkan sejak awal, misalnya 2 komponen."
   ]
  },
  {
   "cell_type": "code",
   "execution_count": 93,
   "metadata": {
    "nbpresent": {
     "id": "f5742379-ea00-4f03-883b-b33436a38ad3"
    },
    "slideshow": {
     "slide_type": "subslide"
    }
   },
   "outputs": [],
   "source": [
    "# scaling the dataset\n",
    "standardisedX = scale(df_cor) # scale() from sklearn\n",
    "standardisedX = pd.DataFrame(standardisedX, index=df_cor.index, columns=df_cor.columns)"
   ]
  },
  {
   "cell_type": "code",
   "execution_count": 94,
   "metadata": {
    "nbpresent": {
     "id": "4bf894e7-8d5c-481d-8fb9-3c6c9682b07c"
    },
    "slideshow": {
     "slide_type": "subslide"
    }
   },
   "outputs": [],
   "source": [
    "from sklearn.decomposition import PCA\n",
    "pca = PCA(n_components=2, svd_solver='full')\n",
    "pca.fit(df_cor)\n",
    "existing_2d = pca.transform(df_cor)\n",
    "existing_df_2d = pd.DataFrame(existing_2d)\n",
    "existing_df_2d.index = df_cor.index\n",
    "existing_df_2d.columns = ['PC1','PC2']\n",
    "existing_df_2d\n",
    "existing_df_2d.to_csv('us_pc.csv')"
   ]
  },
  {
   "cell_type": "code",
   "execution_count": 95,
   "metadata": {
    "nbpresent": {
     "id": "289efd73-d11c-4c13-9fcc-0d4259a26c19"
    },
    "slideshow": {
     "slide_type": "subslide"
    }
   },
   "outputs": [
    {
     "name": "stdout",
     "output_type": "stream",
     "text": [
      "[0.95121667 0.04443762]\n"
     ]
    }
   ],
   "source": [
    "print(pca.explained_variance_ratio_) "
   ]
  },
  {
   "cell_type": "markdown",
   "metadata": {
    "nbpresent": {
     "id": "d4db8c79-a674-4727-a1cf-75bf7ea2563c"
    },
    "slideshow": {
     "slide_type": "notes"
    }
   },
   "source": [
    "### Evaluating PCA fit\n",
    "Di sini kami mengevaluasi model PCA yang telah dihasilkan, yaitu dengan menghitung dan memplot jumlah komponen yang mampu menangkap variansi kumulatif terbesar dari data yang mampu dijelaskan oleh model (_cumulative explained variance_)."
   ]
  },
  {
   "cell_type": "code",
   "execution_count": 96,
   "metadata": {
    "nbpresent": {
     "id": "71fa3c09-1e6b-4a98-aba8-36f1e2ed6aeb"
    },
    "slideshow": {
     "slide_type": "subslide"
    }
   },
   "outputs": [
    {
     "data": {
      "image/png": "[encoded data removed]",
      "text/plain": [
       "<matplotlib.figure.Figure at 0x1a1d76f6a0>"
      ]
     },
     "metadata": {},
     "output_type": "display_data"
    }
   ],
   "source": [
    "cumsum = plt.plot(np.cumsum(pca.explained_variance_ratio_))\n",
    "plt.xlabel('number of components')\n",
    "plt.ylabel('cumulative explained variance');\n"
   ]
  },
  {
   "cell_type": "markdown",
   "metadata": {
    "nbpresent": {
     "id": "94c63f24-7def-458f-b1e5-43663dfee159"
    },
    "slideshow": {
     "slide_type": "subslide"
    }
   },
   "source": [
    "## calculating `eigenvalue`\n",
    "\n",
    "This function is borrowed from this [source](http://python-for-multivariate-analysis.readthedocs.io/a_little_book_of_python_for_multivariate_analysis.html#loadings-for-the-principal-components) for calculating `eigenvalue`."
   ]
  },
  {
   "cell_type": "code",
   "execution_count": 97,
   "metadata": {
    "nbpresent": {
     "id": "3dce15dd-59c5-4994-abd2-a9a69bd9ef6f"
    },
    "slideshow": {
     "slide_type": "subslide"
    }
   },
   "outputs": [],
   "source": [
    "pca = PCA(n_components=2, svd_solver='full').fit(standardisedX)\n",
    "pca.fit = pca.fit(df_cor)"
   ]
  },
  {
   "cell_type": "code",
   "execution_count": 98,
   "metadata": {
    "nbpresent": {
     "id": "562ee0b1-f9fe-4db7-a490-0348e9633219"
    },
    "slideshow": {
     "slide_type": "subslide"
    }
   },
   "outputs": [
    {
     "name": "stdout",
     "output_type": "stream",
     "text": [
      "521036.29562818405\n",
      "548459.2585559834\n",
      "24341.049177525907\n",
      "25622.157028974627\n"
     ]
    }
   ],
   "source": [
    "X_transformed = pca.fit_transform(df_cor)\n",
    "\n",
    "# We center the data and compute the sample covariance matrix.\n",
    "df_cor_centered = df_cor - np.mean(df_cor, axis=0)\n",
    "cov_matrix = np.dot(df_cor_centered.T, df_cor_centered) / 20\n",
    "eigenvalues = pca.explained_variance_\n",
    "for eigenvalue, eigenvector in zip(eigenvalues, pca.components_):    \n",
    "    print(np.dot(eigenvector.T, np.dot(cov_matrix, eigenvector)))\n",
    "    print(eigenvalue)"
   ]
  },
  {
   "cell_type": "code",
   "execution_count": 99,
   "metadata": {
    "nbpresent": {
     "id": "09d8876e-94f9-4e19-b00c-b99cc82336bc"
    },
    "slideshow": {
     "slide_type": "subslide"
    }
   },
   "outputs": [
    {
     "data": {
      "text/plain": [
       "array([[-838.95159151, -121.56168312],\n",
       "       [-846.66416572, -129.3344722 ],\n",
       "       [-593.63318423, -136.57095908],\n",
       "       [-581.4796356 , -130.54861295],\n",
       "       [-536.60859933, -145.80934998],\n",
       "       [-518.13477063, -144.51284494],\n",
       "       [-452.2039718 , -102.2695835 ],\n",
       "       [-426.85044991, -100.39290961],\n",
       "       [-266.90230179,    5.76489592],\n",
       "       [-170.00343268,   81.5085103 ],\n",
       "       [-171.3241853 ,  238.8556147 ],\n",
       "       [-148.41534498,  250.83480643],\n",
       "       [-138.09920815,  276.80330938],\n",
       "       [-122.3484313 ,  264.4031463 ],\n",
       "       [-163.25463326,  238.95478501],\n",
       "       [1145.9613521 ,  -89.91948845],\n",
       "       [1124.62573518,  -94.77162108],\n",
       "       [1195.77803199,  -78.04764541],\n",
       "       [1256.64210093,  -45.4982251 ],\n",
       "       [1251.866686  ,  -37.88767262]])"
      ]
     },
     "execution_count": 99,
     "metadata": {},
     "output_type": "execute_result"
    }
   ],
   "source": [
    "X_transformed"
   ]
  },
  {
   "cell_type": "code",
   "execution_count": 100,
   "metadata": {
    "nbpresent": {
     "id": "0555b237-cf1e-4357-bdf5-13929f0a56cb"
    },
    "scrolled": true,
    "slideshow": {
     "slide_type": "subslide"
    }
   },
   "outputs": [
    {
     "data": {
      "text/plain": [
       "<matplotlib.axes._subplots.AxesSubplot at 0x1a1d9f0278>"
      ]
     },
     "execution_count": 100,
     "metadata": {},
     "output_type": "execute_result"
    },
    {
     "data": {
      "image/png": "[encoded data removed]",
      "text/plain": [
       "<matplotlib.figure.Figure at 0x1a1d65dfd0>"
      ]
     },
     "metadata": {},
     "output_type": "display_data"
    }
   ],
   "source": [
    "type(eigenvalue)\n",
    "eigval = pd.Series({2: 521036.29562818405, 1: 548459.2585559834, 4: 24341.049177525907, 3: 25622.157028974627})\n",
    "eigval.plot.bar(figsize=(16,8))"
   ]
  },
  {
   "cell_type": "markdown",
   "metadata": {
    "nbpresent": {
     "id": "033dea76-1b81-4b9d-9eb8-b0e52cd9fcb1"
    },
    "slideshow": {
     "slide_type": "subslide"
    }
   },
   "source": [
    "## ploting loading/vector\n",
    "\n",
    "Here we plot loadings (R's term) or vectors (python's term) of the PCA model."
   ]
  },
  {
   "cell_type": "code",
   "execution_count": 135,
   "metadata": {
    "nbpresent": {
     "id": "af793dda-c41d-46b0-b3d7-fe4a7324dcd0"
    },
    "scrolled": true,
    "slideshow": {
     "slide_type": "subslide"
    }
   },
   "outputs": [
    {
     "data": {
      "text/plain": [
       "<matplotlib.collections.PathCollection at 0x1a18680c18>"
      ]
     },
     "execution_count": 135,
     "metadata": {},
     "output_type": "execute_result"
    },
    {
     "data": {
      "image/png": "[encoded data removed]",
      "text/plain": [
       "<matplotlib.figure.Figure at 0x1a1877f5f8>"
      ]
     },
     "metadata": {},
     "output_type": "display_data"
    }
   ],
   "source": [
    "pcdf = pd.DataFrame(data = X_transformed, columns = ['PC1', 'PC2'])\n",
    "fig, ax = plt.subplots()\n",
    "ax.scatter(x=pcdf[\"PC1\"], y=pcdf[\"PC2\"])"
   ]
  },
  {
   "cell_type": "code",
   "execution_count": 136,
   "metadata": {
    "nbpresent": {
     "id": "b2f83761-fffb-40ea-aaf2-fd4051fcc584"
    },
    "slideshow": {
     "slide_type": "subslide"
    }
   },
   "outputs": [
    {
     "data": {
      "text/html": [
       "<div>\n",
       "<style scoped>\n",
       "    .dataframe tbody tr th:only-of-type {\n",
       "        vertical-align: middle;\n",
       "    }\n",
       "\n",
       "    .dataframe tbody tr th {\n",
       "        vertical-align: top;\n",
       "    }\n",
       "\n",
       "    .dataframe thead th {\n",
       "        text-align: right;\n",
       "    }\n",
       "</style>\n",
       "<table border=\"1\" class=\"dataframe\">\n",
       "  <thead>\n",
       "    <tr style=\"text-align: right;\">\n",
       "      <th></th>\n",
       "      <th>PC1</th>\n",
       "      <th>PC2</th>\n",
       "    </tr>\n",
       "  </thead>\n",
       "  <tbody>\n",
       "    <tr>\n",
       "      <th>0</th>\n",
       "      <td>-838.951592</td>\n",
       "      <td>-121.561683</td>\n",
       "    </tr>\n",
       "    <tr>\n",
       "      <th>1</th>\n",
       "      <td>-846.664166</td>\n",
       "      <td>-129.334472</td>\n",
       "    </tr>\n",
       "    <tr>\n",
       "      <th>2</th>\n",
       "      <td>-593.633184</td>\n",
       "      <td>-136.570959</td>\n",
       "    </tr>\n",
       "    <tr>\n",
       "      <th>3</th>\n",
       "      <td>-581.479636</td>\n",
       "      <td>-130.548613</td>\n",
       "    </tr>\n",
       "    <tr>\n",
       "      <th>4</th>\n",
       "      <td>-536.608599</td>\n",
       "      <td>-145.809350</td>\n",
       "    </tr>\n",
       "    <tr>\n",
       "      <th>5</th>\n",
       "      <td>-518.134771</td>\n",
       "      <td>-144.512845</td>\n",
       "    </tr>\n",
       "    <tr>\n",
       "      <th>6</th>\n",
       "      <td>-452.203972</td>\n",
       "      <td>-102.269583</td>\n",
       "    </tr>\n",
       "    <tr>\n",
       "      <th>7</th>\n",
       "      <td>-426.850450</td>\n",
       "      <td>-100.392910</td>\n",
       "    </tr>\n",
       "    <tr>\n",
       "      <th>8</th>\n",
       "      <td>-266.902302</td>\n",
       "      <td>5.764896</td>\n",
       "    </tr>\n",
       "    <tr>\n",
       "      <th>9</th>\n",
       "      <td>-170.003433</td>\n",
       "      <td>81.508510</td>\n",
       "    </tr>\n",
       "    <tr>\n",
       "      <th>10</th>\n",
       "      <td>-171.324185</td>\n",
       "      <td>238.855615</td>\n",
       "    </tr>\n",
       "    <tr>\n",
       "      <th>11</th>\n",
       "      <td>-148.415345</td>\n",
       "      <td>250.834806</td>\n",
       "    </tr>\n",
       "    <tr>\n",
       "      <th>12</th>\n",
       "      <td>-138.099208</td>\n",
       "      <td>276.803309</td>\n",
       "    </tr>\n",
       "    <tr>\n",
       "      <th>13</th>\n",
       "      <td>-122.348431</td>\n",
       "      <td>264.403146</td>\n",
       "    </tr>\n",
       "    <tr>\n",
       "      <th>14</th>\n",
       "      <td>-163.254633</td>\n",
       "      <td>238.954785</td>\n",
       "    </tr>\n",
       "    <tr>\n",
       "      <th>15</th>\n",
       "      <td>1145.961352</td>\n",
       "      <td>-89.919488</td>\n",
       "    </tr>\n",
       "    <tr>\n",
       "      <th>16</th>\n",
       "      <td>1124.625735</td>\n",
       "      <td>-94.771621</td>\n",
       "    </tr>\n",
       "    <tr>\n",
       "      <th>17</th>\n",
       "      <td>1195.778032</td>\n",
       "      <td>-78.047645</td>\n",
       "    </tr>\n",
       "    <tr>\n",
       "      <th>18</th>\n",
       "      <td>1256.642101</td>\n",
       "      <td>-45.498225</td>\n",
       "    </tr>\n",
       "    <tr>\n",
       "      <th>19</th>\n",
       "      <td>1251.866686</td>\n",
       "      <td>-37.887673</td>\n",
       "    </tr>\n",
       "  </tbody>\n",
       "</table>\n",
       "</div>"
      ],
      "text/plain": [
       "            PC1         PC2\n",
       "0   -838.951592 -121.561683\n",
       "1   -846.664166 -129.334472\n",
       "2   -593.633184 -136.570959\n",
       "3   -581.479636 -130.548613\n",
       "4   -536.608599 -145.809350\n",
       "5   -518.134771 -144.512845\n",
       "6   -452.203972 -102.269583\n",
       "7   -426.850450 -100.392910\n",
       "8   -266.902302    5.764896\n",
       "9   -170.003433   81.508510\n",
       "10  -171.324185  238.855615\n",
       "11  -148.415345  250.834806\n",
       "12  -138.099208  276.803309\n",
       "13  -122.348431  264.403146\n",
       "14  -163.254633  238.954785\n",
       "15  1145.961352  -89.919488\n",
       "16  1124.625735  -94.771621\n",
       "17  1195.778032  -78.047645\n",
       "18  1256.642101  -45.498225\n",
       "19  1251.866686  -37.887673"
      ]
     },
     "execution_count": 136,
     "metadata": {},
     "output_type": "execute_result"
    }
   ],
   "source": [
    "pcdf"
   ]
  },
  {
   "cell_type": "code",
   "execution_count": 137,
   "metadata": {
    "nbpresent": {
     "id": "adaad656-789f-40b2-8a69-1a927f4eb9f3"
    },
    "slideshow": {
     "slide_type": "subslide"
    }
   },
   "outputs": [
    {
     "data": {
      "text/html": [
       "<div>\n",
       "<style scoped>\n",
       "    .dataframe tbody tr th:only-of-type {\n",
       "        vertical-align: middle;\n",
       "    }\n",
       "\n",
       "    .dataframe tbody tr th {\n",
       "        vertical-align: top;\n",
       "    }\n",
       "\n",
       "    .dataframe thead th {\n",
       "        text-align: right;\n",
       "    }\n",
       "</style>\n",
       "<table border=\"1\" class=\"dataframe\">\n",
       "  <thead>\n",
       "    <tr style=\"text-align: right;\">\n",
       "      <th></th>\n",
       "      <th>elev</th>\n",
       "      <th>dhl</th>\n",
       "      <th>tds</th>\n",
       "      <th>ph</th>\n",
       "      <th>hard</th>\n",
       "      <th>ca</th>\n",
       "      <th>mg</th>\n",
       "      <th>fe3</th>\n",
       "      <th>mn</th>\n",
       "      <th>k</th>\n",
       "      <th>na</th>\n",
       "      <th>nh4</th>\n",
       "      <th>co3</th>\n",
       "      <th>hco3</th>\n",
       "      <th>cl</th>\n",
       "      <th>so4</th>\n",
       "      <th>no2</th>\n",
       "      <th>no3</th>\n",
       "    </tr>\n",
       "  </thead>\n",
       "  <tbody>\n",
       "    <tr>\n",
       "      <th>0</th>\n",
       "      <td>850</td>\n",
       "      <td>98</td>\n",
       "      <td>68</td>\n",
       "      <td>6.9</td>\n",
       "      <td>45.4</td>\n",
       "      <td>13.9</td>\n",
       "      <td>2.6</td>\n",
       "      <td>0.00</td>\n",
       "      <td>0.01</td>\n",
       "      <td>2.3</td>\n",
       "      <td>9.7</td>\n",
       "      <td>0.5</td>\n",
       "      <td>0.00</td>\n",
       "      <td>76.3</td>\n",
       "      <td>3.5</td>\n",
       "      <td>0.00</td>\n",
       "      <td>0.0</td>\n",
       "      <td>0.3</td>\n",
       "    </tr>\n",
       "    <tr>\n",
       "      <th>1</th>\n",
       "      <td>850</td>\n",
       "      <td>91</td>\n",
       "      <td>60</td>\n",
       "      <td>6.8</td>\n",
       "      <td>42.1</td>\n",
       "      <td>15.8</td>\n",
       "      <td>0.6</td>\n",
       "      <td>0.86</td>\n",
       "      <td>0.24</td>\n",
       "      <td>1.6</td>\n",
       "      <td>9.2</td>\n",
       "      <td>0.3</td>\n",
       "      <td>0.00</td>\n",
       "      <td>69.5</td>\n",
       "      <td>5.1</td>\n",
       "      <td>1.40</td>\n",
       "      <td>0.0</td>\n",
       "      <td>0.0</td>\n",
       "    </tr>\n",
       "    <tr>\n",
       "      <th>2</th>\n",
       "      <td>700</td>\n",
       "      <td>210</td>\n",
       "      <td>200</td>\n",
       "      <td>6.0</td>\n",
       "      <td>55.0</td>\n",
       "      <td>14.2</td>\n",
       "      <td>0.8</td>\n",
       "      <td>0.90</td>\n",
       "      <td>0.21</td>\n",
       "      <td>2.1</td>\n",
       "      <td>10.1</td>\n",
       "      <td>0.8</td>\n",
       "      <td>0.05</td>\n",
       "      <td>72.0</td>\n",
       "      <td>110.0</td>\n",
       "      <td>0.08</td>\n",
       "      <td>0.1</td>\n",
       "      <td>1.2</td>\n",
       "    </tr>\n",
       "    <tr>\n",
       "      <th>3</th>\n",
       "      <td>700</td>\n",
       "      <td>230</td>\n",
       "      <td>200</td>\n",
       "      <td>6.0</td>\n",
       "      <td>53.0</td>\n",
       "      <td>13.9</td>\n",
       "      <td>1.2</td>\n",
       "      <td>0.78</td>\n",
       "      <td>0.22</td>\n",
       "      <td>2.0</td>\n",
       "      <td>10.2</td>\n",
       "      <td>0.8</td>\n",
       "      <td>0.04</td>\n",
       "      <td>73.0</td>\n",
       "      <td>112.0</td>\n",
       "      <td>0.09</td>\n",
       "      <td>0.2</td>\n",
       "      <td>1.1</td>\n",
       "    </tr>\n",
       "    <tr>\n",
       "      <th>4</th>\n",
       "      <td>625</td>\n",
       "      <td>240</td>\n",
       "      <td>210</td>\n",
       "      <td>6.3</td>\n",
       "      <td>54.0</td>\n",
       "      <td>14.0</td>\n",
       "      <td>1.3</td>\n",
       "      <td>0.88</td>\n",
       "      <td>0.23</td>\n",
       "      <td>2.3</td>\n",
       "      <td>9.5</td>\n",
       "      <td>0.9</td>\n",
       "      <td>0.10</td>\n",
       "      <td>73.5</td>\n",
       "      <td>121.0</td>\n",
       "      <td>0.07</td>\n",
       "      <td>0.2</td>\n",
       "      <td>1.2</td>\n",
       "    </tr>\n",
       "    <tr>\n",
       "      <th>5</th>\n",
       "      <td>600</td>\n",
       "      <td>256</td>\n",
       "      <td>210</td>\n",
       "      <td>6.2</td>\n",
       "      <td>54.0</td>\n",
       "      <td>14.1</td>\n",
       "      <td>1.2</td>\n",
       "      <td>0.90</td>\n",
       "      <td>0.23</td>\n",
       "      <td>2.3</td>\n",
       "      <td>9.5</td>\n",
       "      <td>1.1</td>\n",
       "      <td>0.09</td>\n",
       "      <td>75.0</td>\n",
       "      <td>120.3</td>\n",
       "      <td>0.08</td>\n",
       "      <td>0.3</td>\n",
       "      <td>1.3</td>\n",
       "    </tr>\n",
       "    <tr>\n",
       "      <th>6</th>\n",
       "      <td>600</td>\n",
       "      <td>300</td>\n",
       "      <td>280</td>\n",
       "      <td>6.0</td>\n",
       "      <td>55.0</td>\n",
       "      <td>14.3</td>\n",
       "      <td>1.4</td>\n",
       "      <td>0.89</td>\n",
       "      <td>0.24</td>\n",
       "      <td>2.4</td>\n",
       "      <td>9.6</td>\n",
       "      <td>1.2</td>\n",
       "      <td>0.10</td>\n",
       "      <td>75.0</td>\n",
       "      <td>125.6</td>\n",
       "      <td>0.08</td>\n",
       "      <td>0.3</td>\n",
       "      <td>1.2</td>\n",
       "    </tr>\n",
       "    <tr>\n",
       "      <th>7</th>\n",
       "      <td>590</td>\n",
       "      <td>325</td>\n",
       "      <td>285</td>\n",
       "      <td>6.0</td>\n",
       "      <td>53.0</td>\n",
       "      <td>14.5</td>\n",
       "      <td>0.9</td>\n",
       "      <td>0.87</td>\n",
       "      <td>0.25</td>\n",
       "      <td>2.5</td>\n",
       "      <td>9.8</td>\n",
       "      <td>1.5</td>\n",
       "      <td>0.10</td>\n",
       "      <td>76.5</td>\n",
       "      <td>135.4</td>\n",
       "      <td>0.20</td>\n",
       "      <td>0.4</td>\n",
       "      <td>1.4</td>\n",
       "    </tr>\n",
       "    <tr>\n",
       "      <th>8</th>\n",
       "      <td>590</td>\n",
       "      <td>480</td>\n",
       "      <td>410</td>\n",
       "      <td>6.0</td>\n",
       "      <td>53.0</td>\n",
       "      <td>14.0</td>\n",
       "      <td>0.8</td>\n",
       "      <td>0.85</td>\n",
       "      <td>0.24</td>\n",
       "      <td>2.3</td>\n",
       "      <td>9.8</td>\n",
       "      <td>1.5</td>\n",
       "      <td>0.08</td>\n",
       "      <td>77.0</td>\n",
       "      <td>143.5</td>\n",
       "      <td>0.20</td>\n",
       "      <td>0.4</td>\n",
       "      <td>1.3</td>\n",
       "    </tr>\n",
       "    <tr>\n",
       "      <th>9</th>\n",
       "      <td>580</td>\n",
       "      <td>550</td>\n",
       "      <td>515</td>\n",
       "      <td>5.8</td>\n",
       "      <td>54.0</td>\n",
       "      <td>13.8</td>\n",
       "      <td>1.1</td>\n",
       "      <td>0.89</td>\n",
       "      <td>0.23</td>\n",
       "      <td>2.2</td>\n",
       "      <td>10.3</td>\n",
       "      <td>1.4</td>\n",
       "      <td>0.09</td>\n",
       "      <td>74.3</td>\n",
       "      <td>134.3</td>\n",
       "      <td>0.30</td>\n",
       "      <td>0.4</td>\n",
       "      <td>1.3</td>\n",
       "    </tr>\n",
       "    <tr>\n",
       "      <th>10</th>\n",
       "      <td>600</td>\n",
       "      <td>600</td>\n",
       "      <td>580</td>\n",
       "      <td>5.8</td>\n",
       "      <td>120.0</td>\n",
       "      <td>21.0</td>\n",
       "      <td>1.2</td>\n",
       "      <td>0.90</td>\n",
       "      <td>0.25</td>\n",
       "      <td>3.2</td>\n",
       "      <td>5.3</td>\n",
       "      <td>0.1</td>\n",
       "      <td>18.00</td>\n",
       "      <td>82.0</td>\n",
       "      <td>11.2</td>\n",
       "      <td>0.06</td>\n",
       "      <td>0.2</td>\n",
       "      <td>0.2</td>\n",
       "    </tr>\n",
       "    <tr>\n",
       "      <th>11</th>\n",
       "      <td>600</td>\n",
       "      <td>620</td>\n",
       "      <td>600</td>\n",
       "      <td>6.0</td>\n",
       "      <td>100.0</td>\n",
       "      <td>23.0</td>\n",
       "      <td>1.2</td>\n",
       "      <td>0.90</td>\n",
       "      <td>0.24</td>\n",
       "      <td>3.3</td>\n",
       "      <td>5.3</td>\n",
       "      <td>0.2</td>\n",
       "      <td>19.10</td>\n",
       "      <td>81.2</td>\n",
       "      <td>13.1</td>\n",
       "      <td>0.08</td>\n",
       "      <td>0.2</td>\n",
       "      <td>0.2</td>\n",
       "    </tr>\n",
       "    <tr>\n",
       "      <th>12</th>\n",
       "      <td>590</td>\n",
       "      <td>630</td>\n",
       "      <td>600</td>\n",
       "      <td>6.0</td>\n",
       "      <td>120.0</td>\n",
       "      <td>23.0</td>\n",
       "      <td>1.1</td>\n",
       "      <td>0.91</td>\n",
       "      <td>0.25</td>\n",
       "      <td>3.4</td>\n",
       "      <td>5.2</td>\n",
       "      <td>0.3</td>\n",
       "      <td>182.00</td>\n",
       "      <td>83.5</td>\n",
       "      <td>14.5</td>\n",
       "      <td>0.08</td>\n",
       "      <td>0.3</td>\n",
       "      <td>0.3</td>\n",
       "    </tr>\n",
       "    <tr>\n",
       "      <th>13</th>\n",
       "      <td>595</td>\n",
       "      <td>650</td>\n",
       "      <td>610</td>\n",
       "      <td>6.0</td>\n",
       "      <td>110.0</td>\n",
       "      <td>21.0</td>\n",
       "      <td>0.8</td>\n",
       "      <td>0.92</td>\n",
       "      <td>0.23</td>\n",
       "      <td>3.2</td>\n",
       "      <td>5.0</td>\n",
       "      <td>0.3</td>\n",
       "      <td>18.30</td>\n",
       "      <td>85.0</td>\n",
       "      <td>16.4</td>\n",
       "      <td>0.08</td>\n",
       "      <td>0.3</td>\n",
       "      <td>0.3</td>\n",
       "    </tr>\n",
       "    <tr>\n",
       "      <th>14</th>\n",
       "      <td>600</td>\n",
       "      <td>600</td>\n",
       "      <td>590</td>\n",
       "      <td>6.0</td>\n",
       "      <td>120.0</td>\n",
       "      <td>20.0</td>\n",
       "      <td>0.8</td>\n",
       "      <td>0.87</td>\n",
       "      <td>0.24</td>\n",
       "      <td>3.3</td>\n",
       "      <td>5.1</td>\n",
       "      <td>0.2</td>\n",
       "      <td>18.20</td>\n",
       "      <td>84.0</td>\n",
       "      <td>16.5</td>\n",
       "      <td>0.08</td>\n",
       "      <td>0.3</td>\n",
       "      <td>0.3</td>\n",
       "    </tr>\n",
       "    <tr>\n",
       "      <th>15</th>\n",
       "      <td>8</td>\n",
       "      <td>1200</td>\n",
       "      <td>1180</td>\n",
       "      <td>6.1</td>\n",
       "      <td>81.0</td>\n",
       "      <td>10.1</td>\n",
       "      <td>0.8</td>\n",
       "      <td>0.88</td>\n",
       "      <td>0.24</td>\n",
       "      <td>4.2</td>\n",
       "      <td>6.1</td>\n",
       "      <td>2.3</td>\n",
       "      <td>4.30</td>\n",
       "      <td>91.0</td>\n",
       "      <td>890.0</td>\n",
       "      <td>1.20</td>\n",
       "      <td>0.6</td>\n",
       "      <td>2.1</td>\n",
       "    </tr>\n",
       "    <tr>\n",
       "      <th>16</th>\n",
       "      <td>8</td>\n",
       "      <td>1200</td>\n",
       "      <td>1150</td>\n",
       "      <td>6.1</td>\n",
       "      <td>80.0</td>\n",
       "      <td>9.8</td>\n",
       "      <td>0.9</td>\n",
       "      <td>0.88</td>\n",
       "      <td>0.25</td>\n",
       "      <td>4.3</td>\n",
       "      <td>6.2</td>\n",
       "      <td>2.2</td>\n",
       "      <td>4.40</td>\n",
       "      <td>92.3</td>\n",
       "      <td>880.0</td>\n",
       "      <td>1.10</td>\n",
       "      <td>0.6</td>\n",
       "      <td>2.2</td>\n",
       "    </tr>\n",
       "    <tr>\n",
       "      <th>17</th>\n",
       "      <td>5</td>\n",
       "      <td>1250</td>\n",
       "      <td>1200</td>\n",
       "      <td>6.0</td>\n",
       "      <td>81.0</td>\n",
       "      <td>9.3</td>\n",
       "      <td>0.8</td>\n",
       "      <td>0.87</td>\n",
       "      <td>0.26</td>\n",
       "      <td>4.4</td>\n",
       "      <td>6.2</td>\n",
       "      <td>2.5</td>\n",
       "      <td>4.20</td>\n",
       "      <td>94.5</td>\n",
       "      <td>910.0</td>\n",
       "      <td>1.20</td>\n",
       "      <td>0.5</td>\n",
       "      <td>3.4</td>\n",
       "    </tr>\n",
       "    <tr>\n",
       "      <th>18</th>\n",
       "      <td>4</td>\n",
       "      <td>1300</td>\n",
       "      <td>1250</td>\n",
       "      <td>6.0</td>\n",
       "      <td>82.0</td>\n",
       "      <td>9.6</td>\n",
       "      <td>0.9</td>\n",
       "      <td>0.87</td>\n",
       "      <td>0.23</td>\n",
       "      <td>4.3</td>\n",
       "      <td>6.3</td>\n",
       "      <td>2.5</td>\n",
       "      <td>4.40</td>\n",
       "      <td>95.4</td>\n",
       "      <td>920.0</td>\n",
       "      <td>1.50</td>\n",
       "      <td>0.7</td>\n",
       "      <td>3.4</td>\n",
       "    </tr>\n",
       "    <tr>\n",
       "      <th>19</th>\n",
       "      <td>4</td>\n",
       "      <td>1300</td>\n",
       "      <td>1250</td>\n",
       "      <td>6.0</td>\n",
       "      <td>82.0</td>\n",
       "      <td>9.7</td>\n",
       "      <td>0.9</td>\n",
       "      <td>0.88</td>\n",
       "      <td>0.24</td>\n",
       "      <td>4.2</td>\n",
       "      <td>6.7</td>\n",
       "      <td>2.6</td>\n",
       "      <td>4.30</td>\n",
       "      <td>92.3</td>\n",
       "      <td>910.0</td>\n",
       "      <td>1.40</td>\n",
       "      <td>0.8</td>\n",
       "      <td>3.5</td>\n",
       "    </tr>\n",
       "  </tbody>\n",
       "</table>\n",
       "</div>"
      ],
      "text/plain": [
       "    elev   dhl   tds   ph   hard    ca   mg   fe3    mn    k    na  nh4  \\\n",
       "0    850    98    68  6.9   45.4  13.9  2.6  0.00  0.01  2.3   9.7  0.5   \n",
       "1    850    91    60  6.8   42.1  15.8  0.6  0.86  0.24  1.6   9.2  0.3   \n",
       "2    700   210   200  6.0   55.0  14.2  0.8  0.90  0.21  2.1  10.1  0.8   \n",
       "3    700   230   200  6.0   53.0  13.9  1.2  0.78  0.22  2.0  10.2  0.8   \n",
       "4    625   240   210  6.3   54.0  14.0  1.3  0.88  0.23  2.3   9.5  0.9   \n",
       "5    600   256   210  6.2   54.0  14.1  1.2  0.90  0.23  2.3   9.5  1.1   \n",
       "6    600   300   280  6.0   55.0  14.3  1.4  0.89  0.24  2.4   9.6  1.2   \n",
       "7    590   325   285  6.0   53.0  14.5  0.9  0.87  0.25  2.5   9.8  1.5   \n",
       "8    590   480   410  6.0   53.0  14.0  0.8  0.85  0.24  2.3   9.8  1.5   \n",
       "9    580   550   515  5.8   54.0  13.8  1.1  0.89  0.23  2.2  10.3  1.4   \n",
       "10   600   600   580  5.8  120.0  21.0  1.2  0.90  0.25  3.2   5.3  0.1   \n",
       "11   600   620   600  6.0  100.0  23.0  1.2  0.90  0.24  3.3   5.3  0.2   \n",
       "12   590   630   600  6.0  120.0  23.0  1.1  0.91  0.25  3.4   5.2  0.3   \n",
       "13   595   650   610  6.0  110.0  21.0  0.8  0.92  0.23  3.2   5.0  0.3   \n",
       "14   600   600   590  6.0  120.0  20.0  0.8  0.87  0.24  3.3   5.1  0.2   \n",
       "15     8  1200  1180  6.1   81.0  10.1  0.8  0.88  0.24  4.2   6.1  2.3   \n",
       "16     8  1200  1150  6.1   80.0   9.8  0.9  0.88  0.25  4.3   6.2  2.2   \n",
       "17     5  1250  1200  6.0   81.0   9.3  0.8  0.87  0.26  4.4   6.2  2.5   \n",
       "18     4  1300  1250  6.0   82.0   9.6  0.9  0.87  0.23  4.3   6.3  2.5   \n",
       "19     4  1300  1250  6.0   82.0   9.7  0.9  0.88  0.24  4.2   6.7  2.6   \n",
       "\n",
       "       co3  hco3     cl   so4  no2  no3  \n",
       "0     0.00  76.3    3.5  0.00  0.0  0.3  \n",
       "1     0.00  69.5    5.1  1.40  0.0  0.0  \n",
       "2     0.05  72.0  110.0  0.08  0.1  1.2  \n",
       "3     0.04  73.0  112.0  0.09  0.2  1.1  \n",
       "4     0.10  73.5  121.0  0.07  0.2  1.2  \n",
       "5     0.09  75.0  120.3  0.08  0.3  1.3  \n",
       "6     0.10  75.0  125.6  0.08  0.3  1.2  \n",
       "7     0.10  76.5  135.4  0.20  0.4  1.4  \n",
       "8     0.08  77.0  143.5  0.20  0.4  1.3  \n",
       "9     0.09  74.3  134.3  0.30  0.4  1.3  \n",
       "10   18.00  82.0   11.2  0.06  0.2  0.2  \n",
       "11   19.10  81.2   13.1  0.08  0.2  0.2  \n",
       "12  182.00  83.5   14.5  0.08  0.3  0.3  \n",
       "13   18.30  85.0   16.4  0.08  0.3  0.3  \n",
       "14   18.20  84.0   16.5  0.08  0.3  0.3  \n",
       "15    4.30  91.0  890.0  1.20  0.6  2.1  \n",
       "16    4.40  92.3  880.0  1.10  0.6  2.2  \n",
       "17    4.20  94.5  910.0  1.20  0.5  3.4  \n",
       "18    4.40  95.4  920.0  1.50  0.7  3.4  \n",
       "19    4.30  92.3  910.0  1.40  0.8  3.5  "
      ]
     },
     "execution_count": 137,
     "metadata": {},
     "output_type": "execute_result"
    }
   ],
   "source": [
    "df_cor"
   ]
  },
  {
   "cell_type": "code",
   "execution_count": 138,
   "metadata": {
    "nbpresent": {
     "id": "3a5bdaf7-dbfd-46c0-98ae-bb7724fe02fa"
    },
    "slideshow": {
     "slide_type": "subslide"
    }
   },
   "outputs": [
    {
     "data": {
      "text/plain": [
       "Index(['elev', 'dhl', 'tds', 'ph', 'hard', 'ca', 'mg', 'fe3', 'mn', 'k', 'na',\n",
       "       'nh4', 'co3', 'hco3', 'cl', 'so4', 'no2', 'no3'],\n",
       "      dtype='object')"
      ]
     },
     "execution_count": 138,
     "metadata": {},
     "output_type": "execute_result"
    }
   ],
   "source": [
    "df_cor.columns"
   ]
  },
  {
   "cell_type": "code",
   "execution_count": 139,
   "metadata": {
    "nbpresent": {
     "id": "67b9417e-4c22-4f47-bbfe-9485cf17c4f8"
    },
    "slideshow": {
     "slide_type": "subslide"
    }
   },
   "outputs": [
    {
     "data": {
      "text/html": [
       "<div>\n",
       "<style scoped>\n",
       "    .dataframe tbody tr th:only-of-type {\n",
       "        vertical-align: middle;\n",
       "    }\n",
       "\n",
       "    .dataframe tbody tr th {\n",
       "        vertical-align: top;\n",
       "    }\n",
       "\n",
       "    .dataframe thead th {\n",
       "        text-align: right;\n",
       "    }\n",
       "</style>\n",
       "<table border=\"1\" class=\"dataframe\">\n",
       "  <thead>\n",
       "    <tr style=\"text-align: right;\">\n",
       "      <th></th>\n",
       "      <th>PC1</th>\n",
       "      <th>PC2</th>\n",
       "    </tr>\n",
       "  </thead>\n",
       "  <tbody>\n",
       "    <tr>\n",
       "      <th>0</th>\n",
       "      <td>-838.951592</td>\n",
       "      <td>-121.561683</td>\n",
       "    </tr>\n",
       "    <tr>\n",
       "      <th>1</th>\n",
       "      <td>-846.664166</td>\n",
       "      <td>-129.334472</td>\n",
       "    </tr>\n",
       "    <tr>\n",
       "      <th>2</th>\n",
       "      <td>-593.633184</td>\n",
       "      <td>-136.570959</td>\n",
       "    </tr>\n",
       "    <tr>\n",
       "      <th>3</th>\n",
       "      <td>-581.479636</td>\n",
       "      <td>-130.548613</td>\n",
       "    </tr>\n",
       "    <tr>\n",
       "      <th>4</th>\n",
       "      <td>-536.608599</td>\n",
       "      <td>-145.809350</td>\n",
       "    </tr>\n",
       "    <tr>\n",
       "      <th>5</th>\n",
       "      <td>-518.134771</td>\n",
       "      <td>-144.512845</td>\n",
       "    </tr>\n",
       "    <tr>\n",
       "      <th>6</th>\n",
       "      <td>-452.203972</td>\n",
       "      <td>-102.269583</td>\n",
       "    </tr>\n",
       "    <tr>\n",
       "      <th>7</th>\n",
       "      <td>-426.850450</td>\n",
       "      <td>-100.392910</td>\n",
       "    </tr>\n",
       "    <tr>\n",
       "      <th>8</th>\n",
       "      <td>-266.902302</td>\n",
       "      <td>5.764896</td>\n",
       "    </tr>\n",
       "    <tr>\n",
       "      <th>9</th>\n",
       "      <td>-170.003433</td>\n",
       "      <td>81.508510</td>\n",
       "    </tr>\n",
       "    <tr>\n",
       "      <th>10</th>\n",
       "      <td>-171.324185</td>\n",
       "      <td>238.855615</td>\n",
       "    </tr>\n",
       "    <tr>\n",
       "      <th>11</th>\n",
       "      <td>-148.415345</td>\n",
       "      <td>250.834806</td>\n",
       "    </tr>\n",
       "    <tr>\n",
       "      <th>12</th>\n",
       "      <td>-138.099208</td>\n",
       "      <td>276.803309</td>\n",
       "    </tr>\n",
       "    <tr>\n",
       "      <th>13</th>\n",
       "      <td>-122.348431</td>\n",
       "      <td>264.403146</td>\n",
       "    </tr>\n",
       "    <tr>\n",
       "      <th>14</th>\n",
       "      <td>-163.254633</td>\n",
       "      <td>238.954785</td>\n",
       "    </tr>\n",
       "    <tr>\n",
       "      <th>15</th>\n",
       "      <td>1145.961352</td>\n",
       "      <td>-89.919488</td>\n",
       "    </tr>\n",
       "    <tr>\n",
       "      <th>16</th>\n",
       "      <td>1124.625735</td>\n",
       "      <td>-94.771621</td>\n",
       "    </tr>\n",
       "    <tr>\n",
       "      <th>17</th>\n",
       "      <td>1195.778032</td>\n",
       "      <td>-78.047645</td>\n",
       "    </tr>\n",
       "    <tr>\n",
       "      <th>18</th>\n",
       "      <td>1256.642101</td>\n",
       "      <td>-45.498225</td>\n",
       "    </tr>\n",
       "    <tr>\n",
       "      <th>19</th>\n",
       "      <td>1251.866686</td>\n",
       "      <td>-37.887673</td>\n",
       "    </tr>\n",
       "  </tbody>\n",
       "</table>\n",
       "</div>"
      ],
      "text/plain": [
       "            PC1         PC2\n",
       "0   -838.951592 -121.561683\n",
       "1   -846.664166 -129.334472\n",
       "2   -593.633184 -136.570959\n",
       "3   -581.479636 -130.548613\n",
       "4   -536.608599 -145.809350\n",
       "5   -518.134771 -144.512845\n",
       "6   -452.203972 -102.269583\n",
       "7   -426.850450 -100.392910\n",
       "8   -266.902302    5.764896\n",
       "9   -170.003433   81.508510\n",
       "10  -171.324185  238.855615\n",
       "11  -148.415345  250.834806\n",
       "12  -138.099208  276.803309\n",
       "13  -122.348431  264.403146\n",
       "14  -163.254633  238.954785\n",
       "15  1145.961352  -89.919488\n",
       "16  1124.625735  -94.771621\n",
       "17  1195.778032  -78.047645\n",
       "18  1256.642101  -45.498225\n",
       "19  1251.866686  -37.887673"
      ]
     },
     "execution_count": 139,
     "metadata": {},
     "output_type": "execute_result"
    }
   ],
   "source": [
    "pcdf"
   ]
  },
  {
   "cell_type": "code",
   "execution_count": 140,
   "metadata": {
    "nbpresent": {
     "id": "90f2aa39-1fa2-433f-b0f4-100d8890fc11"
    },
    "slideshow": {
     "slide_type": "subslide"
    }
   },
   "outputs": [],
   "source": [
    "varid = pd.DataFrame(df_cor.columns) "
   ]
  },
  {
   "cell_type": "code",
   "execution_count": 141,
   "metadata": {
    "nbpresent": {
     "id": "01cadbeb-0aa5-482d-ae5a-3dca8c8e7141"
    },
    "slideshow": {
     "slide_type": "subslide"
    }
   },
   "outputs": [
    {
     "data": {
      "text/html": [
       "<div>\n",
       "<style scoped>\n",
       "    .dataframe tbody tr th:only-of-type {\n",
       "        vertical-align: middle;\n",
       "    }\n",
       "\n",
       "    .dataframe tbody tr th {\n",
       "        vertical-align: top;\n",
       "    }\n",
       "\n",
       "    .dataframe thead th {\n",
       "        text-align: right;\n",
       "    }\n",
       "</style>\n",
       "<table border=\"1\" class=\"dataframe\">\n",
       "  <thead>\n",
       "    <tr style=\"text-align: right;\">\n",
       "      <th></th>\n",
       "      <th>0</th>\n",
       "      <th>PC1</th>\n",
       "      <th>PC2</th>\n",
       "    </tr>\n",
       "  </thead>\n",
       "  <tbody>\n",
       "    <tr>\n",
       "      <th>0</th>\n",
       "      <td>elev</td>\n",
       "      <td>-838.951592</td>\n",
       "      <td>-121.561683</td>\n",
       "    </tr>\n",
       "    <tr>\n",
       "      <th>1</th>\n",
       "      <td>dhl</td>\n",
       "      <td>-846.664166</td>\n",
       "      <td>-129.334472</td>\n",
       "    </tr>\n",
       "    <tr>\n",
       "      <th>2</th>\n",
       "      <td>tds</td>\n",
       "      <td>-593.633184</td>\n",
       "      <td>-136.570959</td>\n",
       "    </tr>\n",
       "    <tr>\n",
       "      <th>3</th>\n",
       "      <td>ph</td>\n",
       "      <td>-581.479636</td>\n",
       "      <td>-130.548613</td>\n",
       "    </tr>\n",
       "    <tr>\n",
       "      <th>4</th>\n",
       "      <td>hard</td>\n",
       "      <td>-536.608599</td>\n",
       "      <td>-145.809350</td>\n",
       "    </tr>\n",
       "    <tr>\n",
       "      <th>5</th>\n",
       "      <td>ca</td>\n",
       "      <td>-518.134771</td>\n",
       "      <td>-144.512845</td>\n",
       "    </tr>\n",
       "    <tr>\n",
       "      <th>6</th>\n",
       "      <td>mg</td>\n",
       "      <td>-452.203972</td>\n",
       "      <td>-102.269583</td>\n",
       "    </tr>\n",
       "    <tr>\n",
       "      <th>7</th>\n",
       "      <td>fe3</td>\n",
       "      <td>-426.850450</td>\n",
       "      <td>-100.392910</td>\n",
       "    </tr>\n",
       "    <tr>\n",
       "      <th>8</th>\n",
       "      <td>mn</td>\n",
       "      <td>-266.902302</td>\n",
       "      <td>5.764896</td>\n",
       "    </tr>\n",
       "    <tr>\n",
       "      <th>9</th>\n",
       "      <td>k</td>\n",
       "      <td>-170.003433</td>\n",
       "      <td>81.508510</td>\n",
       "    </tr>\n",
       "    <tr>\n",
       "      <th>10</th>\n",
       "      <td>na</td>\n",
       "      <td>-171.324185</td>\n",
       "      <td>238.855615</td>\n",
       "    </tr>\n",
       "    <tr>\n",
       "      <th>11</th>\n",
       "      <td>nh4</td>\n",
       "      <td>-148.415345</td>\n",
       "      <td>250.834806</td>\n",
       "    </tr>\n",
       "    <tr>\n",
       "      <th>12</th>\n",
       "      <td>co3</td>\n",
       "      <td>-138.099208</td>\n",
       "      <td>276.803309</td>\n",
       "    </tr>\n",
       "    <tr>\n",
       "      <th>13</th>\n",
       "      <td>hco3</td>\n",
       "      <td>-122.348431</td>\n",
       "      <td>264.403146</td>\n",
       "    </tr>\n",
       "    <tr>\n",
       "      <th>14</th>\n",
       "      <td>cl</td>\n",
       "      <td>-163.254633</td>\n",
       "      <td>238.954785</td>\n",
       "    </tr>\n",
       "    <tr>\n",
       "      <th>15</th>\n",
       "      <td>so4</td>\n",
       "      <td>1145.961352</td>\n",
       "      <td>-89.919488</td>\n",
       "    </tr>\n",
       "    <tr>\n",
       "      <th>16</th>\n",
       "      <td>no2</td>\n",
       "      <td>1124.625735</td>\n",
       "      <td>-94.771621</td>\n",
       "    </tr>\n",
       "    <tr>\n",
       "      <th>17</th>\n",
       "      <td>no3</td>\n",
       "      <td>1195.778032</td>\n",
       "      <td>-78.047645</td>\n",
       "    </tr>\n",
       "  </tbody>\n",
       "</table>\n",
       "</div>"
      ],
      "text/plain": [
       "       0          PC1         PC2\n",
       "0   elev  -838.951592 -121.561683\n",
       "1    dhl  -846.664166 -129.334472\n",
       "2    tds  -593.633184 -136.570959\n",
       "3     ph  -581.479636 -130.548613\n",
       "4   hard  -536.608599 -145.809350\n",
       "5     ca  -518.134771 -144.512845\n",
       "6     mg  -452.203972 -102.269583\n",
       "7    fe3  -426.850450 -100.392910\n",
       "8     mn  -266.902302    5.764896\n",
       "9      k  -170.003433   81.508510\n",
       "10    na  -171.324185  238.855615\n",
       "11   nh4  -148.415345  250.834806\n",
       "12   co3  -138.099208  276.803309\n",
       "13  hco3  -122.348431  264.403146\n",
       "14    cl  -163.254633  238.954785\n",
       "15   so4  1145.961352  -89.919488\n",
       "16   no2  1124.625735  -94.771621\n",
       "17   no3  1195.778032  -78.047645"
      ]
     },
     "execution_count": 141,
     "metadata": {},
     "output_type": "execute_result"
    }
   ],
   "source": [
    "pcdf = varid.join(pcdf) # adding variable id to pcdf\n",
    "pcdf"
   ]
  },
  {
   "cell_type": "code",
   "execution_count": 131,
   "metadata": {
    "nbpresent": {
     "id": "3c891fc2-0300-4eb4-ab90-cec4ffdf4bff"
    },
    "slideshow": {
     "slide_type": "subslide"
    }
   },
   "outputs": [
    {
     "data": {
      "image/png": "[encoded data removed]",
      "text/plain": [
       "<matplotlib.figure.Figure at 0x1a187934a8>"
      ]
     },
     "metadata": {},
     "output_type": "display_data"
    }
   ],
   "source": [
    "def biplot(score, coeff, labels=None):\n",
    "    xs = score[:,0]\n",
    "    ys = score[:,1]\n",
    "    n = coeff.shape[0]\n",
    "    scalex = 1.0/(xs.max() - xs.min())\n",
    "    scaley = 1.0/(ys.max() - ys.min())\n",
    "    plt.scatter(xs * scalex, ys * scaley)\n",
    "    for i in range(n):\n",
    "        plt.arrow(0, 0, coeff[i,0], coeff[i,1],color = 'r',alpha = 0.5)\n",
    "        if labels is None:\n",
    "            plt.text(coeff[i,0]* 1.15, coeff[i,1] * 1.15, \"Var\"+str(i+1), color = 'g', ha = 'center', va = 'center')\n",
    "        else:\n",
    "            plt.text(coeff[i,0]* 1.15, coeff[i,1] * 1.15, labels[i], color = 'g', ha = 'center', va = 'center')\n",
    "plt.xlim(-1,1)\n",
    "plt.ylim(-1,1)\n",
    "plt.xlabel(\"PC{}\".format(1))\n",
    "plt.ylabel(\"PC{}\".format(2))\n",
    "plt.grid()\n",
    "\n",
    "#Call the function. Use only the 2 PCs.\n",
    "biplot(X_transformed[:,0:2], np.transpose(pca.components_[0:2, :]), labels=pcdf[0])"
   ]
  },
  {
   "cell_type": "markdown",
   "metadata": {
    "nbpresent": {
     "id": "2df9f1bf-7c65-495b-895d-a41ee20a25fb"
    },
    "slideshow": {
     "slide_type": "notes"
    }
   },
   "source": [
    "PCA pada dasarnya adalah alat untuk mengurangi dimensi (baca: variabel) atau *dimension reduction*. Bila semula kami punya 18 variabel, kemudian ditransformasi oleh PCA menjadi dua variabel, berupa `komponen principal (PC)` (*principal component*), seperti dapat dilihat pada diagram balok di atas. Sekarang kita lihat variabel apa saja yang berperan membentuk PC 1 dan PC2."
   ]
  },
  {
   "cell_type": "markdown",
   "metadata": {
    "nbpresent": {
     "id": "ed042510-3279-4e06-bd45-a3660283039e"
    },
    "slideshow": {
     "slide_type": "notes"
    }
   },
   "source": [
    "Plot di atas memperlihatkan lompatan nilai eigen value yang sangat besar antara PC2 dan PC3. Atas dasar itu, kami memilih analisis dilanjutkan pada PC1 dan PC2 untuk menangkap variansi terbesar dari data yang ada."
   ]
  },
  {
   "cell_type": "markdown",
   "metadata": {
    "nbpresent": {
     "id": "f84f937b-dbac-4c59-af5b-0f362351f996"
    },
    "slideshow": {
     "slide_type": "notes"
    }
   },
   "source": [
    "### Visualizing PCA fit\n",
    "Di sini kami membuat beberapa visualisasi model PCA menggunakan _scatter plot_ sederhana."
   ]
  },
  {
   "cell_type": "code",
   "execution_count": 33,
   "metadata": {
    "nbpresent": {
     "id": "50b7fae9-bc2f-4d80-8b35-bd6f165db8d8"
    },
    "slideshow": {
     "slide_type": "subslide"
    }
   },
   "outputs": [
    {
     "data": {
      "image/png": "[encoded data removed]",
      "text/plain": [
       "<matplotlib.figure.Figure at 0x1a1740f080>"
      ]
     },
     "metadata": {},
     "output_type": "display_data"
    }
   ],
   "source": [
    "ax = existing_df_2d.plot(kind='scatter', x='PC2', y='PC1', figsize=(16,8))\n",
    "for i, sample in enumerate(existing_df_2d.index):\n",
    "    ax.annotate(sample, (existing_df_2d.iloc[i].PC2, existing_df_2d.iloc[i].PC1))"
   ]
  },
  {
   "cell_type": "markdown",
   "metadata": {
    "nbpresent": {
     "id": "f33dc61c-95a4-48e2-a563-f49eee07b1ee"
    },
    "slideshow": {
     "slide_type": "notes"
    }
   },
   "source": [
    "Perhatikan plot di atas. Index data menggunakan no urut. Kami ingin menambahkan identitas pada tiap titik data. Untuk itu kami tambahkan kolom `litho` dan `sampleid` ke dalam `existing_df_2d` (dataframe hasil fit PCA). Kemudian kami set kolom `sampleid` sebagai index.   "
   ]
  },
  {
   "cell_type": "code",
   "execution_count": 34,
   "metadata": {
    "nbpresent": {
     "id": "39a97fc8-0701-4bc0-95da-e2b19be65af7"
    },
    "slideshow": {
     "slide_type": "skip"
    }
   },
   "outputs": [],
   "source": [
    "lithoid = pd.DataFrame(df['litho']) \n",
    "type(lithoid)\n",
    "sampleid = pd.DataFrame(df['sample']) \n",
    "type(sampleid)\n",
    "existing_df_2d = lithoid.join(existing_df_2d)"
   ]
  },
  {
   "cell_type": "code",
   "execution_count": 35,
   "metadata": {
    "nbpresent": {
     "id": "77295454-cb5b-4b33-9d0b-b223bc32f3e4"
    },
    "slideshow": {
     "slide_type": "subslide"
    }
   },
   "outputs": [
    {
     "data": {
      "text/html": [
       "<div>\n",
       "<style scoped>\n",
       "    .dataframe tbody tr th:only-of-type {\n",
       "        vertical-align: middle;\n",
       "    }\n",
       "\n",
       "    .dataframe tbody tr th {\n",
       "        vertical-align: top;\n",
       "    }\n",
       "\n",
       "    .dataframe thead th {\n",
       "        text-align: right;\n",
       "    }\n",
       "</style>\n",
       "<table border=\"1\" class=\"dataframe\">\n",
       "  <thead>\n",
       "    <tr style=\"text-align: right;\">\n",
       "      <th></th>\n",
       "      <th>litho</th>\n",
       "      <th>PC1</th>\n",
       "      <th>PC2</th>\n",
       "    </tr>\n",
       "  </thead>\n",
       "  <tbody>\n",
       "    <tr>\n",
       "      <th>0</th>\n",
       "      <td>volc</td>\n",
       "      <td>-838.951592</td>\n",
       "      <td>-121.561683</td>\n",
       "    </tr>\n",
       "    <tr>\n",
       "      <th>1</th>\n",
       "      <td>volc</td>\n",
       "      <td>-846.664166</td>\n",
       "      <td>-129.334472</td>\n",
       "    </tr>\n",
       "    <tr>\n",
       "      <th>2</th>\n",
       "      <td>volc</td>\n",
       "      <td>-593.633184</td>\n",
       "      <td>-136.570959</td>\n",
       "    </tr>\n",
       "    <tr>\n",
       "      <th>3</th>\n",
       "      <td>volc</td>\n",
       "      <td>-581.479636</td>\n",
       "      <td>-130.548613</td>\n",
       "    </tr>\n",
       "    <tr>\n",
       "      <th>4</th>\n",
       "      <td>volc</td>\n",
       "      <td>-536.608599</td>\n",
       "      <td>-145.809350</td>\n",
       "    </tr>\n",
       "    <tr>\n",
       "      <th>5</th>\n",
       "      <td>volc</td>\n",
       "      <td>-518.134771</td>\n",
       "      <td>-144.512845</td>\n",
       "    </tr>\n",
       "    <tr>\n",
       "      <th>6</th>\n",
       "      <td>volc</td>\n",
       "      <td>-452.203972</td>\n",
       "      <td>-102.269583</td>\n",
       "    </tr>\n",
       "    <tr>\n",
       "      <th>7</th>\n",
       "      <td>volc</td>\n",
       "      <td>-426.850450</td>\n",
       "      <td>-100.392910</td>\n",
       "    </tr>\n",
       "    <tr>\n",
       "      <th>8</th>\n",
       "      <td>volc</td>\n",
       "      <td>-266.902302</td>\n",
       "      <td>5.764896</td>\n",
       "    </tr>\n",
       "    <tr>\n",
       "      <th>9</th>\n",
       "      <td>volc</td>\n",
       "      <td>-170.003433</td>\n",
       "      <td>81.508510</td>\n",
       "    </tr>\n",
       "    <tr>\n",
       "      <th>10</th>\n",
       "      <td>lime</td>\n",
       "      <td>-171.324185</td>\n",
       "      <td>238.855615</td>\n",
       "    </tr>\n",
       "    <tr>\n",
       "      <th>11</th>\n",
       "      <td>lime</td>\n",
       "      <td>-148.415345</td>\n",
       "      <td>250.834806</td>\n",
       "    </tr>\n",
       "    <tr>\n",
       "      <th>12</th>\n",
       "      <td>lime</td>\n",
       "      <td>-138.099208</td>\n",
       "      <td>276.803309</td>\n",
       "    </tr>\n",
       "    <tr>\n",
       "      <th>13</th>\n",
       "      <td>lime</td>\n",
       "      <td>-122.348431</td>\n",
       "      <td>264.403146</td>\n",
       "    </tr>\n",
       "    <tr>\n",
       "      <th>14</th>\n",
       "      <td>lime</td>\n",
       "      <td>-163.254633</td>\n",
       "      <td>238.954785</td>\n",
       "    </tr>\n",
       "    <tr>\n",
       "      <th>15</th>\n",
       "      <td>alluv</td>\n",
       "      <td>1145.961352</td>\n",
       "      <td>-89.919488</td>\n",
       "    </tr>\n",
       "    <tr>\n",
       "      <th>16</th>\n",
       "      <td>alluv</td>\n",
       "      <td>1124.625735</td>\n",
       "      <td>-94.771621</td>\n",
       "    </tr>\n",
       "    <tr>\n",
       "      <th>17</th>\n",
       "      <td>alluv</td>\n",
       "      <td>1195.778032</td>\n",
       "      <td>-78.047645</td>\n",
       "    </tr>\n",
       "    <tr>\n",
       "      <th>18</th>\n",
       "      <td>alluv</td>\n",
       "      <td>1256.642101</td>\n",
       "      <td>-45.498225</td>\n",
       "    </tr>\n",
       "    <tr>\n",
       "      <th>19</th>\n",
       "      <td>alluv</td>\n",
       "      <td>1251.866686</td>\n",
       "      <td>-37.887673</td>\n",
       "    </tr>\n",
       "  </tbody>\n",
       "</table>\n",
       "</div>"
      ],
      "text/plain": [
       "    litho          PC1         PC2\n",
       "0    volc  -838.951592 -121.561683\n",
       "1    volc  -846.664166 -129.334472\n",
       "2    volc  -593.633184 -136.570959\n",
       "3    volc  -581.479636 -130.548613\n",
       "4    volc  -536.608599 -145.809350\n",
       "5    volc  -518.134771 -144.512845\n",
       "6    volc  -452.203972 -102.269583\n",
       "7    volc  -426.850450 -100.392910\n",
       "8    volc  -266.902302    5.764896\n",
       "9    volc  -170.003433   81.508510\n",
       "10   lime  -171.324185  238.855615\n",
       "11   lime  -148.415345  250.834806\n",
       "12   lime  -138.099208  276.803309\n",
       "13   lime  -122.348431  264.403146\n",
       "14   lime  -163.254633  238.954785\n",
       "15  alluv  1145.961352  -89.919488\n",
       "16  alluv  1124.625735  -94.771621\n",
       "17  alluv  1195.778032  -78.047645\n",
       "18  alluv  1256.642101  -45.498225\n",
       "19  alluv  1251.866686  -37.887673"
      ]
     },
     "execution_count": 35,
     "metadata": {},
     "output_type": "execute_result"
    }
   ],
   "source": [
    "existing_df_2d"
   ]
  },
  {
   "cell_type": "code",
   "execution_count": 36,
   "metadata": {
    "nbpresent": {
     "id": "246c6a25-2b0e-41ad-be24-a0b7dd3e7e34"
    },
    "slideshow": {
     "slide_type": "subslide"
    }
   },
   "outputs": [
    {
     "data": {
      "text/html": [
       "<div>\n",
       "<style scoped>\n",
       "    .dataframe tbody tr th:only-of-type {\n",
       "        vertical-align: middle;\n",
       "    }\n",
       "\n",
       "    .dataframe tbody tr th {\n",
       "        vertical-align: top;\n",
       "    }\n",
       "\n",
       "    .dataframe thead th {\n",
       "        text-align: right;\n",
       "    }\n",
       "</style>\n",
       "<table border=\"1\" class=\"dataframe\">\n",
       "  <thead>\n",
       "    <tr style=\"text-align: right;\">\n",
       "      <th></th>\n",
       "      <th>sample</th>\n",
       "      <th>litho</th>\n",
       "      <th>PC1</th>\n",
       "      <th>PC2</th>\n",
       "    </tr>\n",
       "  </thead>\n",
       "  <tbody>\n",
       "    <tr>\n",
       "      <th>0</th>\n",
       "      <td>Pang1</td>\n",
       "      <td>volc</td>\n",
       "      <td>-838.951592</td>\n",
       "      <td>-121.561683</td>\n",
       "    </tr>\n",
       "    <tr>\n",
       "      <th>1</th>\n",
       "      <td>Pang2</td>\n",
       "      <td>volc</td>\n",
       "      <td>-846.664166</td>\n",
       "      <td>-129.334472</td>\n",
       "    </tr>\n",
       "    <tr>\n",
       "      <th>2</th>\n",
       "      <td>Bdg1</td>\n",
       "      <td>volc</td>\n",
       "      <td>-593.633184</td>\n",
       "      <td>-136.570959</td>\n",
       "    </tr>\n",
       "    <tr>\n",
       "      <th>3</th>\n",
       "      <td>Bdg2</td>\n",
       "      <td>volc</td>\n",
       "      <td>-581.479636</td>\n",
       "      <td>-130.548613</td>\n",
       "    </tr>\n",
       "    <tr>\n",
       "      <th>4</th>\n",
       "      <td>Bdg3</td>\n",
       "      <td>volc</td>\n",
       "      <td>-536.608599</td>\n",
       "      <td>-145.809350</td>\n",
       "    </tr>\n",
       "    <tr>\n",
       "      <th>5</th>\n",
       "      <td>Bdg4</td>\n",
       "      <td>volc</td>\n",
       "      <td>-518.134771</td>\n",
       "      <td>-144.512845</td>\n",
       "    </tr>\n",
       "    <tr>\n",
       "      <th>6</th>\n",
       "      <td>Bdg5</td>\n",
       "      <td>volc</td>\n",
       "      <td>-452.203972</td>\n",
       "      <td>-102.269583</td>\n",
       "    </tr>\n",
       "    <tr>\n",
       "      <th>7</th>\n",
       "      <td>Bdg6</td>\n",
       "      <td>volc</td>\n",
       "      <td>-426.850450</td>\n",
       "      <td>-100.392910</td>\n",
       "    </tr>\n",
       "    <tr>\n",
       "      <th>8</th>\n",
       "      <td>Bdg7</td>\n",
       "      <td>volc</td>\n",
       "      <td>-266.902302</td>\n",
       "      <td>5.764896</td>\n",
       "    </tr>\n",
       "    <tr>\n",
       "      <th>9</th>\n",
       "      <td>Bdg8</td>\n",
       "      <td>volc</td>\n",
       "      <td>-170.003433</td>\n",
       "      <td>81.508510</td>\n",
       "    </tr>\n",
       "    <tr>\n",
       "      <th>10</th>\n",
       "      <td>Pad1</td>\n",
       "      <td>lime</td>\n",
       "      <td>-171.324185</td>\n",
       "      <td>238.855615</td>\n",
       "    </tr>\n",
       "    <tr>\n",
       "      <th>11</th>\n",
       "      <td>Pad2</td>\n",
       "      <td>lime</td>\n",
       "      <td>-148.415345</td>\n",
       "      <td>250.834806</td>\n",
       "    </tr>\n",
       "    <tr>\n",
       "      <th>12</th>\n",
       "      <td>Pad3</td>\n",
       "      <td>lime</td>\n",
       "      <td>-138.099208</td>\n",
       "      <td>276.803309</td>\n",
       "    </tr>\n",
       "    <tr>\n",
       "      <th>13</th>\n",
       "      <td>Pad4</td>\n",
       "      <td>lime</td>\n",
       "      <td>-122.348431</td>\n",
       "      <td>264.403146</td>\n",
       "    </tr>\n",
       "    <tr>\n",
       "      <th>14</th>\n",
       "      <td>Pad5</td>\n",
       "      <td>lime</td>\n",
       "      <td>-163.254633</td>\n",
       "      <td>238.954785</td>\n",
       "    </tr>\n",
       "    <tr>\n",
       "      <th>15</th>\n",
       "      <td>Indra1</td>\n",
       "      <td>alluv</td>\n",
       "      <td>1145.961352</td>\n",
       "      <td>-89.919488</td>\n",
       "    </tr>\n",
       "    <tr>\n",
       "      <th>16</th>\n",
       "      <td>Indra2</td>\n",
       "      <td>alluv</td>\n",
       "      <td>1124.625735</td>\n",
       "      <td>-94.771621</td>\n",
       "    </tr>\n",
       "    <tr>\n",
       "      <th>17</th>\n",
       "      <td>Indra3</td>\n",
       "      <td>alluv</td>\n",
       "      <td>1195.778032</td>\n",
       "      <td>-78.047645</td>\n",
       "    </tr>\n",
       "    <tr>\n",
       "      <th>18</th>\n",
       "      <td>Indra4</td>\n",
       "      <td>alluv</td>\n",
       "      <td>1256.642101</td>\n",
       "      <td>-45.498225</td>\n",
       "    </tr>\n",
       "    <tr>\n",
       "      <th>19</th>\n",
       "      <td>Indra5</td>\n",
       "      <td>alluv</td>\n",
       "      <td>1251.866686</td>\n",
       "      <td>-37.887673</td>\n",
       "    </tr>\n",
       "  </tbody>\n",
       "</table>\n",
       "</div>"
      ],
      "text/plain": [
       "    sample  litho          PC1         PC2\n",
       "0    Pang1   volc  -838.951592 -121.561683\n",
       "1    Pang2   volc  -846.664166 -129.334472\n",
       "2     Bdg1   volc  -593.633184 -136.570959\n",
       "3     Bdg2   volc  -581.479636 -130.548613\n",
       "4     Bdg3   volc  -536.608599 -145.809350\n",
       "5     Bdg4   volc  -518.134771 -144.512845\n",
       "6     Bdg5   volc  -452.203972 -102.269583\n",
       "7     Bdg6   volc  -426.850450 -100.392910\n",
       "8     Bdg7   volc  -266.902302    5.764896\n",
       "9     Bdg8   volc  -170.003433   81.508510\n",
       "10    Pad1   lime  -171.324185  238.855615\n",
       "11    Pad2   lime  -148.415345  250.834806\n",
       "12    Pad3   lime  -138.099208  276.803309\n",
       "13    Pad4   lime  -122.348431  264.403146\n",
       "14    Pad5   lime  -163.254633  238.954785\n",
       "15  Indra1  alluv  1145.961352  -89.919488\n",
       "16  Indra2  alluv  1124.625735  -94.771621\n",
       "17  Indra3  alluv  1195.778032  -78.047645\n",
       "18  Indra4  alluv  1256.642101  -45.498225\n",
       "19  Indra5  alluv  1251.866686  -37.887673"
      ]
     },
     "execution_count": 36,
     "metadata": {},
     "output_type": "execute_result"
    }
   ],
   "source": [
    "existing_df_2d = pd.concat([sampleid, existing_df_2d], axis=1)\n",
    "existing_df_2d"
   ]
  },
  {
   "cell_type": "code",
   "execution_count": 37,
   "metadata": {
    "nbpresent": {
     "id": "d4bf1280-d2a8-4af2-9d54-bba79f9406db"
    },
    "scrolled": true,
    "slideshow": {
     "slide_type": "subslide"
    }
   },
   "outputs": [
    {
     "data": {
      "image/png": "[encoded data removed]",
      "text/plain": [
       "<matplotlib.figure.Figure at 0x1a173850b8>"
      ]
     },
     "metadata": {},
     "output_type": "display_data"
    }
   ],
   "source": [
    "existing_df_2d.set_index('sample', inplace=True)\n",
    "ax = existing_df_2d.plot(kind='scatter', x='PC2', y='PC1', figsize=(16,8))\n",
    "for i, sample in enumerate(existing_df_2d.index):\n",
    "    ax.annotate(sample, (existing_df_2d.iloc[i].PC2, existing_df_2d.iloc[i].PC1))"
   ]
  },
  {
   "cell_type": "markdown",
   "metadata": {
    "nbpresent": {
     "id": "dfe35934-8adf-4f56-a5bb-1d13a7212c7b"
    },
    "slideshow": {
     "slide_type": "slide"
    }
   },
   "source": [
    "# results and discussions\n",
    "\n",
    "we should see separation between samples: \n",
    "\n",
    "- group 1 strong `Cl`\n",
    "- group 2 strong `CO3`\n",
    "- group 3 strong contaminations of NO2, NO3, NH4?\n",
    "- group 4 strong `SO4` "
   ]
  },
  {
   "cell_type": "markdown",
   "metadata": {
    "nbpresent": {
     "id": "629f933d-7d1a-4e1b-8f33-c22a1d25da9f"
    },
    "slideshow": {
     "slide_type": "notes"
    }
   },
   "source": [
    "# Hasil dan diskusi\n",
    "\n",
    "Dari plot di atas dapat dilihat bahwa sampel dari kawasan pantai Indramayu (Indra1 - Indra5) dan sampel dari Padalarang (Pad1 - Pad4) terpisah dari sampel endapan gunung api (Bdg1 - Bdg8) dan Pangalengan (Pang1 dan Pang2). Kemungkinan besar dari nilai Cl nya untuk sampel dari daerah pesisi Indramayu dan karena tingginya nilai CO3 atau HCO3 untuk sampal-sampel dari Padalarang. Namun demikian, model ini akan jadi berbeda bila ada data air panas jenis klorida yang masuk ke dalam plot. Demikian pula untuk sampel air dari akuifer endapan volcanik Bdg7 dan Bdg8 memisahkan dari sampel dari endapan gunung api lainnya berkode Bdg1-Bdg6 dan Pang1-Pang2. Ini menarik bila dilihat bahwa sampel Bdg7 dan Bdg8 terletak lebih mendekati Kota Bandung dibanding sampel-sampel lainnya. Kedua sampel tersebut telah mendapatkan pengaruh dari komponen NH4, NO2 dan NO3, yang menjadi tolok ukur adanya aktivitas manusia. Apakah ini berarti mata air tersebut telah mengalami pencampuran dari resapan limbah domestik atau pertanian dari permukaan? Memerlukan data dan observasi lebih rinci untuk menjawabnya.   "
   ]
  },
  {
   "cell_type": "markdown",
   "metadata": {
    "nbpresent": {
     "id": "43b2406e-7fd9-4cc0-9c55-12b57648b430"
    },
    "slideshow": {
     "slide_type": "slide"
    }
   },
   "source": [
    "# conclusion\n",
    "\n",
    "we can divide the `toy samples` in to 3 groups:\n",
    "\n",
    "- **group 1** samples from coastal area (eg: Indramayu)\n",
    "- **group 2** samples from limestone area (eg: Padalarang)\n",
    "- **group 3** samples from `inner city-lowland` volcanic area (eg: Bandung)\n",
    "- **group 4** samples from `outer city-highland` volcanic area (eg: Pangalengan)"
   ]
  },
  {
   "cell_type": "markdown",
   "metadata": {
    "nbpresent": {
     "id": "d5c692ce-21dc-4ef2-9dd1-1ba1a6e06a89"
    },
    "slideshow": {
     "slide_type": "notes"
    }
   },
   "source": [
    "# Kesimpulan\n",
    "\n",
    "Dari proses ini dapat dilihat bahwa kami berhasil menguraikan sampel-sampel kualitas air yang dimiliki menjadi beberapa bagian, yakni __Kelompok 1__: sampel dari pesisir Indramayu; __Kelompok 2__: sampel dari kawasan batugamping Padalarang; serta __Kelompok 3__: sampel dari endapan gunungapi Bandung dan Pangalengan. Kelompok 3 masih dapat dibagi lagi menjadi sampel yang berada di bagian hulu yang relatif belum mendapatkan pengaruh aktivitas manusia, dan sampel dari bagian hilir (mungkin dekat dengan kawasan pemukiman) yang mungkin telah menerima pengaruh dari aktivitas manusia. Harapan kami, metode ini dapat diaplikasikan untuk analisis sampel data kualitas air hipertermal guna mengidentifikasi proses yang terjadi, untuk membedakannya dari air dingin (mesotermal), atau mengidentifikasi ada atau tidaknya pengaruh sistem geotermal kepada sistem air tanah yang digunakan oleh penduduk sekitarnya."
   ]
  },
  {
   "cell_type": "markdown",
   "metadata": {
    "nbpresent": {
     "id": "9d7a6086-b519-490b-bdf3-fe44a374bb9e"
    },
    "slideshow": {
     "slide_type": "slide"
    }
   },
   "source": [
    "## take home message\n",
    "\n",
    "- sometimes data might behave beyond our visual recognition. \n",
    "- this multivariable technique might give you more insight from your data.\n",
    "- we hope this method can assist you to foreseen the unseen in your data.\n",
    "- all resources are accessible via [GitHub repository](https://github.com/dasaptaerwin/iigw2018)."
   ]
  },
  {
   "cell_type": "markdown",
   "metadata": {
    "nbpresent": {
     "id": "d5d428e5-ecc5-4530-b576-67598c8565ce"
    },
    "slideshow": {
     "slide_type": "slide"
    }
   },
   "source": [
    "# should anyone be interested in this `mess`, here's my contact: \n",
    "\n",
    "- email: `dasaptaerwin at gmail`\n",
    "- twitter handle: `@dasaptaerwin`"
   ]
  }
 ],
 "metadata": {
  "anaconda-cloud": {},
  "celltoolbar": "Slideshow",
  "kernelspec": {
   "display_name": "Python [default]",
   "language": "python",
   "name": "python3"
  },
  "language_info": {
   "codemirror_mode": {
    "name": "ipython",
    "version": 3
   },
   "file_extension": ".py",
   "mimetype": "text/x-python",
   "name": "python",
   "nbconvert_exporter": "python",
   "pygments_lexer": "ipython3",
   "version": "3.6.4"
  },
  "nbpresent": {
   "slides": {
    "02eae1cb-7903-4f50-a337-02bd827b7e0e": {
     "id": "02eae1cb-7903-4f50-a337-02bd827b7e0e",
     "prev": "d3d144fe-ed55-4dae-b8e8-5e07d18f1166",
     "regions": {
      "da1741b3-52f3-4a04-adfb-92ef238629b2": {
       "attrs": {
        "height": 0.8,
        "width": 0.8,
        "x": 0.1,
        "y": 0.1
       },
       "content": {
        "cell": "3688b5dd-9c8d-49e5-89e3-6587bd306928",
        "part": "whole"
       },
       "id": "da1741b3-52f3-4a04-adfb-92ef238629b2"
      }
     }
    },
    "06ec35db-ed82-49bc-9541-8ab21887d951": {
     "id": "06ec35db-ed82-49bc-9541-8ab21887d951",
     "prev": "51affc4a-c470-4682-a801-baadecb9be12",
     "regions": {
      "fa0a894b-fc87-4d99-ba69-9e8f89edd3fa": {
       "attrs": {
        "height": 0.8,
        "width": 0.8,
        "x": 0.1,
        "y": 0.1
       },
       "content": {
        "cell": "90f2aa39-1fa2-433f-b0f4-100d8890fc11",
        "part": "whole"
       },
       "id": "fa0a894b-fc87-4d99-ba69-9e8f89edd3fa"
      }
     }
    },
    "189f548c-b31f-4348-be20-8d005a2696ef": {
     "id": "189f548c-b31f-4348-be20-8d005a2696ef",
     "prev": "88e5fa0c-0525-4d2e-8003-8e718bdbf438",
     "regions": {
      "06b1c2aa-fe85-46cf-aee3-49800730f9c6": {
       "attrs": {
        "height": 0.8,
        "width": 0.8,
        "x": 0.1,
        "y": 0.1
       },
       "content": {
        "cell": "21c802fc-5c87-4ca7-a509-da4932631cbe",
        "part": "whole"
       },
       "id": "06b1c2aa-fe85-46cf-aee3-49800730f9c6"
      }
     }
    },
    "225eb351-1d38-41c4-81b9-1b1a27ba14d8": {
     "id": "225eb351-1d38-41c4-81b9-1b1a27ba14d8",
     "prev": "b7bde400-e407-4d6c-8d35-ec3bc4604ae7",
     "regions": {
      "29f5188d-4f66-4cf4-b9e3-7c137c481fed": {
       "attrs": {
        "height": 0.8,
        "width": 0.8,
        "x": 0.1,
        "y": 0.1
       },
       "content": {
        "cell": "43b2406e-7fd9-4cc0-9c55-12b57648b430",
        "part": "whole"
       },
       "id": "29f5188d-4f66-4cf4-b9e3-7c137c481fed"
      }
     }
    },
    "256889ba-cd2b-43f9-8389-cd08dfacb6d3": {
     "id": "256889ba-cd2b-43f9-8389-cd08dfacb6d3",
     "prev": "ad44e4b9-c013-44ca-afc2-0a010fdc84a6",
     "regions": {
      "e007957f-9989-444c-8298-19e781399385": {
       "attrs": {
        "height": 0.8,
        "width": 0.8,
        "x": 0.1,
        "y": 0.1
       },
       "content": {
        "cell": "50b7fae9-bc2f-4d80-8b35-bd6f165db8d8",
        "part": "whole"
       },
       "id": "e007957f-9989-444c-8298-19e781399385"
      }
     }
    },
    "28e76a46-58cd-49ba-8252-91661fd02ca1": {
     "id": "28e76a46-58cd-49ba-8252-91661fd02ca1",
     "prev": "38670432-68b2-49c3-9ec4-2c7e2768fe59",
     "regions": {
      "7f2ada38-14af-427f-9486-6ca7c75cc255": {
       "attrs": {
        "height": 0.8,
        "width": 0.8,
        "x": 0.1,
        "y": 0.1
       },
       "content": {
        "cell": "4bf894e7-8d5c-481d-8fb9-3c6c9682b07c",
        "part": "whole"
       },
       "id": "7f2ada38-14af-427f-9486-6ca7c75cc255"
      }
     }
    },
    "2c1380d6-37c0-4c38-8645-96318afa4867": {
     "id": "2c1380d6-37c0-4c38-8645-96318afa4867",
     "prev": "60ccb2d0-f28e-4ba5-95b5-3729c9023ada",
     "regions": {
      "b84c4fa9-aed4-433d-8dd8-4999db15a4db": {
       "attrs": {
        "height": 0.8,
        "width": 0.8,
        "x": 0.1,
        "y": 0.1
       },
       "content": {
        "cell": "2df9f1bf-7c65-495b-895d-a41ee20a25fb",
        "part": "whole"
       },
       "id": "b84c4fa9-aed4-433d-8dd8-4999db15a4db"
      }
     }
    },
    "2d18f29f-da48-4af1-a23a-1085b04ceda5": {
     "id": "2d18f29f-da48-4af1-a23a-1085b04ceda5",
     "prev": "f0d7d55d-d071-4380-9701-98bfaccd321b",
     "regions": {
      "37ada42f-9849-4b0a-bb13-2ec93c074ed4": {
       "attrs": {
        "height": 0.8,
        "width": 0.8,
        "x": 0.1,
        "y": 0.1
       },
       "content": {
        "cell": "af793dda-c41d-46b0-b3d7-fe4a7324dcd0",
        "part": "whole"
       },
       "id": "37ada42f-9849-4b0a-bb13-2ec93c074ed4"
      }
     }
    },
    "3187d110-bd5a-4a25-b130-260d23e4de79": {
     "id": "3187d110-bd5a-4a25-b130-260d23e4de79",
     "prev": "02eae1cb-7903-4f50-a337-02bd827b7e0e",
     "regions": {
      "a4c3d740-968b-473d-9a44-a5aa1f951265": {
       "attrs": {
        "height": 0.8,
        "width": 0.8,
        "x": 0.1,
        "y": 0.1
       },
       "content": {
        "cell": "53136348-6e31-4779-8797-1ac9384ccd69",
        "part": "whole"
       },
       "id": "a4c3d740-968b-473d-9a44-a5aa1f951265"
      }
     }
    },
    "33b159d6-22c8-4954-854f-7223ac9bd261": {
     "id": "33b159d6-22c8-4954-854f-7223ac9bd261",
     "prev": "624ed29d-4633-4b91-99c6-b53d89c5cdd1",
     "regions": {
      "91b9a667-5a32-4fab-934c-24a1b409d4f3": {
       "attrs": {
        "height": 0.8,
        "width": 0.8,
        "x": 0.1,
        "y": 0.1
       },
       "content": {
        "cell": "8bf405c9-b409-466a-9f6e-7060ba853493",
        "part": "whole"
       },
       "id": "91b9a667-5a32-4fab-934c-24a1b409d4f3"
      }
     }
    },
    "3653455c-75ee-4266-b5bf-1e7b93de6eec": {
     "id": "3653455c-75ee-4266-b5bf-1e7b93de6eec",
     "prev": null,
     "regions": {
      "16077e9b-abf8-42c1-a8ae-a1cbdc6240cd": {
       "attrs": {
        "height": 0.8,
        "width": 0.8,
        "x": 0.1,
        "y": 0.1
       },
       "content": {
        "cell": "ccaf80c3-1220-4001-80ed-1519ddf82a05",
        "part": "whole"
       },
       "id": "16077e9b-abf8-42c1-a8ae-a1cbdc6240cd"
      }
     }
    },
    "38670432-68b2-49c3-9ec4-2c7e2768fe59": {
     "id": "38670432-68b2-49c3-9ec4-2c7e2768fe59",
     "prev": "3d957178-275e-459c-9b7e-d4ce4818d477",
     "regions": {
      "cbaa9ef2-4180-4fab-9e89-af7c41c91a11": {
       "attrs": {
        "height": 0.8,
        "width": 0.8,
        "x": 0.1,
        "y": 0.1
       },
       "content": {
        "cell": "f5742379-ea00-4f03-883b-b33436a38ad3",
        "part": "whole"
       },
       "id": "cbaa9ef2-4180-4fab-9e89-af7c41c91a11"
      }
     }
    },
    "3a45a8ec-fe9b-4f15-86ec-75a2f8ebd9e7": {
     "id": "3a45a8ec-fe9b-4f15-86ec-75a2f8ebd9e7",
     "prev": "e32a1a58-35c5-4d02-8bf4-a5996da59d76",
     "regions": {
      "dd7b1579-1a9b-4cfc-9a4d-fbc6bc795e68": {
       "attrs": {
        "height": 0.8,
        "width": 0.8,
        "x": 0.1,
        "y": 0.1
       },
       "content": {
        "cell": "d0fa239a-ad7c-4570-98bd-74345718f57b",
        "part": "whole"
       },
       "id": "dd7b1579-1a9b-4cfc-9a4d-fbc6bc795e68"
      }
     }
    },
    "3d957178-275e-459c-9b7e-d4ce4818d477": {
     "id": "3d957178-275e-459c-9b7e-d4ce4818d477",
     "prev": "418649a8-cb08-412f-a21e-8575827c5f66",
     "regions": {
      "d7e1f8ba-017b-40e3-8da5-a2a2c01b1b8e": {
       "attrs": {
        "height": 0.8,
        "width": 0.8,
        "x": 0.1,
        "y": 0.1
       },
       "content": {
        "cell": "3353c68a-b3e2-4726-a16d-e8e020f0427a",
        "part": "whole"
       },
       "id": "d7e1f8ba-017b-40e3-8da5-a2a2c01b1b8e"
      }
     }
    },
    "41765d45-b897-4bd8-b9ca-d705c73ed612": {
     "id": "41765d45-b897-4bd8-b9ca-d705c73ed612",
     "prev": "a39060e7-f0a9-4509-814f-429df8fd0419",
     "regions": {
      "289d8ff3-6d5a-4a33-abe4-028b525126fa": {
       "attrs": {
        "height": 0.8,
        "width": 0.8,
        "x": 0.1,
        "y": 0.1
       },
       "content": {
        "cell": "4322b618-0891-4ebb-8cd1-23f866cd9123",
        "part": "whole"
       },
       "id": "289d8ff3-6d5a-4a33-abe4-028b525126fa"
      }
     }
    },
    "418649a8-cb08-412f-a21e-8575827c5f66": {
     "id": "418649a8-cb08-412f-a21e-8575827c5f66",
     "prev": "189f548c-b31f-4348-be20-8d005a2696ef",
     "regions": {
      "fc5407d4-4a6a-4530-87d9-a98637cfcb3e": {
       "attrs": {
        "height": 0.8,
        "width": 0.8,
        "x": 0.1,
        "y": 0.1
       },
       "content": {
        "cell": "a590eacd-ec8c-476e-bc62-d3832dcf6247",
        "part": "whole"
       },
       "id": "fc5407d4-4a6a-4530-87d9-a98637cfcb3e"
      }
     }
    },
    "43938911-1714-4d01-9dbe-e6de371daffd": {
     "id": "43938911-1714-4d01-9dbe-e6de371daffd",
     "prev": "d861ed49-537c-4d0b-9eab-0ce18ddb04f6",
     "regions": {
      "24017a0e-d657-46d0-9321-675f009bc4d2": {
       "attrs": {
        "height": 0.8,
        "width": 0.8,
        "x": 0.1,
        "y": 0.1
       },
       "content": {
        "cell": "0520781b-79c4-45be-893d-895182f60a6e",
        "part": "whole"
       },
       "id": "24017a0e-d657-46d0-9321-675f009bc4d2"
      }
     }
    },
    "44a7a84a-801b-495f-a4c4-30a15cd1f982": {
     "id": "44a7a84a-801b-495f-a4c4-30a15cd1f982",
     "prev": "69a96cfa-01ec-4b24-8b28-b353624086dc",
     "regions": {
      "4203d990-6352-4589-8677-e0743254a55a": {
       "attrs": {
        "height": 0.8,
        "width": 0.8,
        "x": 0.1,
        "y": 0.1
       },
       "content": {
        "cell": "9d7a6086-b519-490b-bdf3-fe44a374bb9e",
        "part": "whole"
       },
       "id": "4203d990-6352-4589-8677-e0743254a55a"
      }
     }
    },
    "51affc4a-c470-4682-a801-baadecb9be12": {
     "id": "51affc4a-c470-4682-a801-baadecb9be12",
     "prev": "b17154c6-d031-47be-9250-2edc185105cc",
     "regions": {
      "2b5d2b5e-5529-40af-b372-85b0476bd92c": {
       "attrs": {
        "height": 0.8,
        "width": 0.8,
        "x": 0.1,
        "y": 0.1
       },
       "content": {
        "cell": "67b9417e-4c22-4f47-bbfe-9485cf17c4f8",
        "part": "whole"
       },
       "id": "2b5d2b5e-5529-40af-b372-85b0476bd92c"
      }
     }
    },
    "55ad0ea3-bed8-4b11-b031-05e7648f54c7": {
     "id": "55ad0ea3-bed8-4b11-b031-05e7648f54c7",
     "prev": "c212c9e7-e436-4169-822d-137d7c1b7f73",
     "regions": {
      "0aa9aa4e-38d5-46ab-b08a-b347c97ebe8f": {
       "attrs": {
        "height": 0.8,
        "width": 0.8,
        "x": 0.1,
        "y": 0.1
       },
       "content": {
        "cell": "0555b237-cf1e-4357-bdf5-13929f0a56cb",
        "part": "whole"
       },
       "id": "0aa9aa4e-38d5-46ab-b08a-b347c97ebe8f"
      }
     }
    },
    "60ccb2d0-f28e-4ba5-95b5-3729c9023ada": {
     "id": "60ccb2d0-f28e-4ba5-95b5-3729c9023ada",
     "prev": "703c504b-3bef-46a2-81bc-68145b53adb4",
     "regions": {
      "dec9d440-201f-4512-b431-30b9b5eeb92b": {
       "attrs": {
        "height": 0.8,
        "width": 0.8,
        "x": 0.1,
        "y": 0.1
       },
       "content": {
        "cell": "3c891fc2-0300-4eb4-ab90-cec4ffdf4bff",
        "part": "whole"
       },
       "id": "dec9d440-201f-4512-b431-30b9b5eeb92b"
      }
     }
    },
    "624ed29d-4633-4b91-99c6-b53d89c5cdd1": {
     "id": "624ed29d-4633-4b91-99c6-b53d89c5cdd1",
     "prev": "b5830ff0-98d0-4fb1-b4df-6ce19336eb63",
     "regions": {
      "5455f2dc-b6fd-44bb-bd77-f6548abbe1d6": {
       "attrs": {
        "height": 0.8,
        "width": 0.8,
        "x": 0.1,
        "y": 0.1
       },
       "content": {
        "cell": "e9ed126e-f317-46a5-8f4d-301232b46827",
        "part": "whole"
       },
       "id": "5455f2dc-b6fd-44bb-bd77-f6548abbe1d6"
      }
     }
    },
    "69a96cfa-01ec-4b24-8b28-b353624086dc": {
     "id": "69a96cfa-01ec-4b24-8b28-b353624086dc",
     "prev": "225eb351-1d38-41c4-81b9-1b1a27ba14d8",
     "regions": {
      "cba5fcc8-720c-4daf-ad70-f7a1c6773aeb": {
       "attrs": {
        "height": 0.8,
        "width": 0.8,
        "x": 0.1,
        "y": 0.1
       },
       "content": {
        "cell": "d5c692ce-21dc-4ef2-9dd1-1ba1a6e06a89",
        "part": "whole"
       },
       "id": "cba5fcc8-720c-4daf-ad70-f7a1c6773aeb"
      }
     }
    },
    "6d356c6c-d0f0-421e-aea4-5b1716aa54fa": {
     "id": "6d356c6c-d0f0-421e-aea4-5b1716aa54fa",
     "prev": "95cf8320-7be1-40f0-8af8-f8864fc81629",
     "regions": {
      "46d2273a-4098-454f-9fc5-45e067a9fc41": {
       "attrs": {
        "height": 0.8,
        "width": 0.8,
        "x": 0.1,
        "y": 0.1
       },
       "content": {
        "cell": "39a97fc8-0701-4bc0-95da-e2b19be65af7",
        "part": "whole"
       },
       "id": "46d2273a-4098-454f-9fc5-45e067a9fc41"
      }
     }
    },
    "703c504b-3bef-46a2-81bc-68145b53adb4": {
     "id": "703c504b-3bef-46a2-81bc-68145b53adb4",
     "prev": "06ec35db-ed82-49bc-9541-8ab21887d951",
     "regions": {
      "bdc47ea7-5753-428d-8945-67ee951f559b": {
       "attrs": {
        "height": 0.8,
        "width": 0.8,
        "x": 0.1,
        "y": 0.1
       },
       "content": {
        "cell": "01cadbeb-0aa5-482d-ae5a-3dca8c8e7141",
        "part": "whole"
       },
       "id": "bdc47ea7-5753-428d-8945-67ee951f559b"
      }
     }
    },
    "78b12efd-3280-49bf-8119-b457890e5f79": {
     "id": "78b12efd-3280-49bf-8119-b457890e5f79",
     "prev": "f7f19fb9-5ab7-455e-8cdd-33364a28669c",
     "regions": {
      "8cf0a84e-9dca-4530-9a10-1be5c1907b62": {
       "attrs": {
        "height": 0.8,
        "width": 0.8,
        "x": 0.1,
        "y": 0.1
       },
       "content": {
        "cell": "246c6a25-2b0e-41ad-be24-a0b7dd3e7e34",
        "part": "whole"
       },
       "id": "8cf0a84e-9dca-4530-9a10-1be5c1907b62"
      }
     }
    },
    "7a0fbca0-b5c5-4775-8b50-eaeaa4fdb8cc": {
     "id": "7a0fbca0-b5c5-4775-8b50-eaeaa4fdb8cc",
     "prev": "2d18f29f-da48-4af1-a23a-1085b04ceda5",
     "regions": {
      "2adbfd03-67c7-477b-b35e-a5b349a7526d": {
       "attrs": {
        "height": 0.8,
        "width": 0.8,
        "x": 0.1,
        "y": 0.1
       },
       "content": {
        "cell": "b2f83761-fffb-40ea-aaf2-fd4051fcc584",
        "part": "whole"
       },
       "id": "2adbfd03-67c7-477b-b35e-a5b349a7526d"
      }
     }
    },
    "7b88945e-6145-471e-a46f-814a164b9500": {
     "id": "7b88945e-6145-471e-a46f-814a164b9500",
     "prev": "93c2664a-8b75-4e85-940b-1bf54ee8ff25",
     "regions": {
      "76e40e88-e0c6-4e93-b106-7730b295863d": {
       "attrs": {
        "height": 0.8,
        "width": 0.8,
        "x": 0.1,
        "y": 0.1
       },
       "content": {
        "cell": "1b9556c2-6414-420d-beb8-98e54bc67061",
        "part": "whole"
       },
       "id": "76e40e88-e0c6-4e93-b106-7730b295863d"
      }
     }
    },
    "7f8a5c52-9ad7-4539-8c0d-bb3d2201f240": {
     "id": "7f8a5c52-9ad7-4539-8c0d-bb3d2201f240",
     "prev": "2c1380d6-37c0-4c38-8645-96318afa4867",
     "regions": {
      "b5d75cab-7108-4de3-913d-d4e4b33c2fbc": {
       "attrs": {
        "height": 0.8,
        "width": 0.8,
        "x": 0.1,
        "y": 0.1
       },
       "content": {
        "cell": "ed042510-3279-4e06-bd45-a3660283039e",
        "part": "whole"
       },
       "id": "b5d75cab-7108-4de3-913d-d4e4b33c2fbc"
      }
     }
    },
    "841df98b-438c-499e-8882-7a44b3b7f283": {
     "id": "841df98b-438c-499e-8882-7a44b3b7f283",
     "prev": "9d08fb0c-f7a4-412b-9125-ef4b2342cc31",
     "regions": {
      "0507b2b3-74e0-4aa3-b7e7-778b83bf4342": {
       "attrs": {
        "height": 0.8,
        "width": 0.8,
        "x": 0.1,
        "y": 0.1
       },
       "content": {
        "cell": "b6ea4cb0-f333-41ad-ba64-2a66c53f7cc7",
        "part": "whole"
       },
       "id": "0507b2b3-74e0-4aa3-b7e7-778b83bf4342"
      }
     }
    },
    "85a36ef9-7521-465f-915c-8787b7aab035": {
     "id": "85a36ef9-7521-465f-915c-8787b7aab035",
     "prev": "c4bfd55f-510c-4f4c-a3a0-079691fafd6a",
     "regions": {
      "5bba816b-a1fb-41ab-b36b-2b7c0d5b6634": {
       "attrs": {
        "height": 0.8,
        "width": 0.8,
        "x": 0.1,
        "y": 0.1
       },
       "content": {
        "cell": "d4db8c79-a674-4727-a1cf-75bf7ea2563c",
        "part": "whole"
       },
       "id": "5bba816b-a1fb-41ab-b36b-2b7c0d5b6634"
      }
     }
    },
    "8644e6f4-5421-4cd8-9bf9-5d5d320df198": {
     "id": "8644e6f4-5421-4cd8-9bf9-5d5d320df198",
     "prev": "de0d2cf6-295d-4cb0-ab22-6a1bfad75dce",
     "regions": {
      "315a1884-2a1e-409a-8e46-6e8334309833": {
       "attrs": {
        "height": 0.8,
        "width": 0.8,
        "x": 0.1,
        "y": 0.1
       },
       "content": {
        "cell": "2e5c108c-6014-45b2-b9d6-dc5ad5964a28",
        "part": "whole"
       },
       "id": "315a1884-2a1e-409a-8e46-6e8334309833"
      }
     }
    },
    "88e5fa0c-0525-4d2e-8003-8e718bdbf438": {
     "id": "88e5fa0c-0525-4d2e-8003-8e718bdbf438",
     "prev": "aea4126c-64aa-47d5-9b82-07f3340686e6",
     "regions": {
      "20a34177-152e-4ff4-b637-8eb45f9cd6e7": {
       "attrs": {
        "height": 0.8,
        "width": 0.8,
        "x": 0.1,
        "y": 0.1
       },
       "content": {
        "cell": "dcc319c0-21b6-4039-ba7f-757dde4b10a5",
        "part": "whole"
       },
       "id": "20a34177-152e-4ff4-b637-8eb45f9cd6e7"
      }
     }
    },
    "8d85ab78-b967-4152-a30c-4642c1e29acd": {
     "id": "8d85ab78-b967-4152-a30c-4642c1e29acd",
     "prev": "33b159d6-22c8-4954-854f-7223ac9bd261",
     "regions": {
      "f0cbf02a-85a9-41a3-a9e9-f1fc7ecdec3d": {
       "attrs": {
        "height": 0.8,
        "width": 0.8,
        "x": 0.1,
        "y": 0.1
       },
       "content": {
        "cell": "04e35d15-6168-4c91-8607-449a41861d1a",
        "part": "whole"
       },
       "id": "f0cbf02a-85a9-41a3-a9e9-f1fc7ecdec3d"
      }
     }
    },
    "9062ba06-e4f7-4ee0-8316-75fbf3b219da": {
     "id": "9062ba06-e4f7-4ee0-8316-75fbf3b219da",
     "prev": "e6004cfc-c7b5-498d-8060-6eb080947276",
     "regions": {
      "8c2af538-4b18-48a9-8c6d-ed2bbfa1c204": {
       "attrs": {
        "height": 0.8,
        "width": 0.8,
        "x": 0.1,
        "y": 0.1
       },
       "content": {
        "cell": "94c63f24-7def-458f-b1e5-43663dfee159",
        "part": "whole"
       },
       "id": "8c2af538-4b18-48a9-8c6d-ed2bbfa1c204"
      }
     }
    },
    "93c2664a-8b75-4e85-940b-1bf54ee8ff25": {
     "id": "93c2664a-8b75-4e85-940b-1bf54ee8ff25",
     "prev": "8d85ab78-b967-4152-a30c-4642c1e29acd",
     "regions": {
      "f2d2157a-5f6a-4792-8df6-94f2a7953249": {
       "attrs": {
        "height": 0.8,
        "width": 0.8,
        "x": 0.1,
        "y": 0.1
       },
       "content": {
        "cell": "6a0db77a-3cff-4d9e-9a03-731084f2d0ba",
        "part": "whole"
       },
       "id": "f2d2157a-5f6a-4792-8df6-94f2a7953249"
      }
     }
    },
    "95cf8320-7be1-40f0-8af8-f8864fc81629": {
     "id": "95cf8320-7be1-40f0-8af8-f8864fc81629",
     "prev": "256889ba-cd2b-43f9-8389-cd08dfacb6d3",
     "regions": {
      "7e4c4f9b-0801-4eef-a72a-0183551dfc17": {
       "attrs": {
        "height": 0.8,
        "width": 0.8,
        "x": 0.1,
        "y": 0.1
       },
       "content": {
        "cell": "f33dc61c-95a4-48e2-a563-f49eee07b1ee",
        "part": "whole"
       },
       "id": "7e4c4f9b-0801-4eef-a72a-0183551dfc17"
      }
     }
    },
    "9d08fb0c-f7a4-412b-9125-ef4b2342cc31": {
     "id": "9d08fb0c-f7a4-412b-9125-ef4b2342cc31",
     "prev": "3a45a8ec-fe9b-4f15-86ec-75a2f8ebd9e7",
     "regions": {
      "efc8fb2f-960e-498c-b95f-8896de16ce9c": {
       "attrs": {
        "height": 0.8,
        "width": 0.8,
        "x": 0.1,
        "y": 0.1
       },
       "content": {
        "cell": "340c4fd9-b5a1-46ee-964b-19ceffca21ce",
        "part": "whole"
       },
       "id": "efc8fb2f-960e-498c-b95f-8896de16ce9c"
      }
     }
    },
    "9edfcfe8-cb62-4f59-9122-541ed1122f2a": {
     "id": "9edfcfe8-cb62-4f59-9122-541ed1122f2a",
     "prev": "9062ba06-e4f7-4ee0-8316-75fbf3b219da",
     "regions": {
      "96953481-235a-4de1-9fe1-9929dcaaa491": {
       "attrs": {
        "height": 0.8,
        "width": 0.8,
        "x": 0.1,
        "y": 0.1
       },
       "content": {
        "cell": "3dce15dd-59c5-4994-abd2-a9a69bd9ef6f",
        "part": "whole"
       },
       "id": "96953481-235a-4de1-9fe1-9929dcaaa491"
      }
     }
    },
    "9fd53582-d67b-4fd1-b619-62d8c039a6e4": {
     "id": "9fd53582-d67b-4fd1-b619-62d8c039a6e4",
     "prev": "d84841c3-c75c-43ed-9ebe-e0e7f466eab7",
     "regions": {
      "1a8cedd3-4316-492e-8c51-bc153c8369fa": {
       "attrs": {
        "height": 0.8,
        "width": 0.8,
        "x": 0.1,
        "y": 0.1
       },
       "content": {
        "cell": "90b7e561-ca4b-47f2-bf4d-7b8cab2a392e",
        "part": "whole"
       },
       "id": "1a8cedd3-4316-492e-8c51-bc153c8369fa"
      }
     }
    },
    "a39060e7-f0a9-4509-814f-429df8fd0419": {
     "id": "a39060e7-f0a9-4509-814f-429df8fd0419",
     "prev": "8644e6f4-5421-4cd8-9bf9-5d5d320df198",
     "regions": {
      "201527c6-ace1-4303-9d6a-b3ea112b9105": {
       "attrs": {
        "height": 0.8,
        "width": 0.8,
        "x": 0.1,
        "y": 0.1
       },
       "content": {
        "cell": "7c1ec84b-7701-494c-906b-a56872026623",
        "part": "whole"
       },
       "id": "201527c6-ace1-4303-9d6a-b3ea112b9105"
      }
     }
    },
    "ad44e4b9-c013-44ca-afc2-0a010fdc84a6": {
     "id": "ad44e4b9-c013-44ca-afc2-0a010fdc84a6",
     "prev": "7f8a5c52-9ad7-4539-8c0d-bb3d2201f240",
     "regions": {
      "10416257-21b2-471c-97dc-d6ada341588a": {
       "attrs": {
        "height": 0.8,
        "width": 0.8,
        "x": 0.1,
        "y": 0.1
       },
       "content": {
        "cell": "f84f937b-dbac-4c59-af5b-0f362351f996",
        "part": "whole"
       },
       "id": "10416257-21b2-471c-97dc-d6ada341588a"
      }
     }
    },
    "ad6c5402-fbe8-4f49-a3e7-817f94d21bf9": {
     "id": "ad6c5402-fbe8-4f49-a3e7-817f94d21bf9",
     "prev": "43938911-1714-4d01-9dbe-e6de371daffd",
     "regions": {
      "12fed2fe-2b14-4df2-a5a0-e7981a0e9b91": {
       "attrs": {
        "height": 0.8,
        "width": 0.8,
        "x": 0.1,
        "y": 0.1
       },
       "content": {
        "cell": "1004ea42-1e91-4d1e-b562-17babcd198ef",
        "part": "whole"
       },
       "id": "12fed2fe-2b14-4df2-a5a0-e7981a0e9b91"
      }
     }
    },
    "aea4126c-64aa-47d5-9b82-07f3340686e6": {
     "id": "aea4126c-64aa-47d5-9b82-07f3340686e6",
     "prev": "3187d110-bd5a-4a25-b130-260d23e4de79",
     "regions": {
      "28153c74-6e80-4bf2-a1d2-9b71eb64977e": {
       "attrs": {
        "height": 0.8,
        "width": 0.8,
        "x": 0.1,
        "y": 0.1
       },
       "content": {
        "cell": "644ca130-617d-44a4-8b2e-540ff6800626",
        "part": "whole"
       },
       "id": "28153c74-6e80-4bf2-a1d2-9b71eb64977e"
      }
     }
    },
    "b16aa7ff-d71d-4012-b356-0d6904182bc5": {
     "id": "b16aa7ff-d71d-4012-b356-0d6904182bc5",
     "prev": "9edfcfe8-cb62-4f59-9122-541ed1122f2a",
     "regions": {
      "647767cb-8d26-4393-a744-1cb8d98c7ce1": {
       "attrs": {
        "height": 0.8,
        "width": 0.8,
        "x": 0.1,
        "y": 0.1
       },
       "content": {
        "cell": "562ee0b1-f9fe-4db7-a490-0348e9633219",
        "part": "whole"
       },
       "id": "647767cb-8d26-4393-a744-1cb8d98c7ce1"
      }
     }
    },
    "b17154c6-d031-47be-9250-2edc185105cc": {
     "id": "b17154c6-d031-47be-9250-2edc185105cc",
     "prev": "b4e05afc-c14f-4af3-b03b-ce7ddebd19c2",
     "regions": {
      "a428c895-3669-4092-85e3-b9ab5a406548": {
       "attrs": {
        "height": 0.8,
        "width": 0.8,
        "x": 0.1,
        "y": 0.1
       },
       "content": {
        "cell": "3a5bdaf7-dbfd-46c0-98ae-bb7724fe02fa",
        "part": "whole"
       },
       "id": "a428c895-3669-4092-85e3-b9ab5a406548"
      }
     }
    },
    "b4e05afc-c14f-4af3-b03b-ce7ddebd19c2": {
     "id": "b4e05afc-c14f-4af3-b03b-ce7ddebd19c2",
     "prev": "7a0fbca0-b5c5-4775-8b50-eaeaa4fdb8cc",
     "regions": {
      "eac53361-f883-4a83-ad4a-f2182afc6e5b": {
       "attrs": {
        "height": 0.8,
        "width": 0.8,
        "x": 0.1,
        "y": 0.1
       },
       "content": {
        "cell": "adaad656-789f-40b2-8a69-1a927f4eb9f3",
        "part": "whole"
       },
       "id": "eac53361-f883-4a83-ad4a-f2182afc6e5b"
      }
     }
    },
    "b5830ff0-98d0-4fb1-b4df-6ce19336eb63": {
     "id": "b5830ff0-98d0-4fb1-b4df-6ce19336eb63",
     "prev": "c63e6db5-c1f8-4484-bad7-1ab10430f403",
     "regions": {
      "28bcc3cd-ba6c-4fa4-8cb1-163c7edc1b9c": {
       "attrs": {
        "height": 0.8,
        "width": 0.8,
        "x": 0.1,
        "y": 0.1
       },
       "content": {
        "cell": "4daed158-5a99-4a46-9e05-4d36632a908f",
        "part": "whole"
       },
       "id": "28bcc3cd-ba6c-4fa4-8cb1-163c7edc1b9c"
      }
     }
    },
    "b7bde400-e407-4d6c-8d35-ec3bc4604ae7": {
     "id": "b7bde400-e407-4d6c-8d35-ec3bc4604ae7",
     "prev": "d326073b-d8d8-4991-a089-da4695bf65b1",
     "regions": {
      "cc79eff3-fa1e-43b2-b4d8-37f41843f17b": {
       "attrs": {
        "height": 0.8,
        "width": 0.8,
        "x": 0.1,
        "y": 0.1
       },
       "content": {
        "cell": "629f933d-7d1a-4e1b-8f33-c22a1d25da9f",
        "part": "whole"
       },
       "id": "cc79eff3-fa1e-43b2-b4d8-37f41843f17b"
      }
     }
    },
    "c212c9e7-e436-4169-822d-137d7c1b7f73": {
     "id": "c212c9e7-e436-4169-822d-137d7c1b7f73",
     "prev": "b16aa7ff-d71d-4012-b356-0d6904182bc5",
     "regions": {
      "9106d7b8-7458-4fbc-8287-b9f8d4ef2917": {
       "attrs": {
        "height": 0.8,
        "width": 0.8,
        "x": 0.1,
        "y": 0.1
       },
       "content": {
        "cell": "09d8876e-94f9-4e19-b00c-b99cc82336bc",
        "part": "whole"
       },
       "id": "9106d7b8-7458-4fbc-8287-b9f8d4ef2917"
      }
     }
    },
    "c4bfd55f-510c-4f4c-a3a0-079691fafd6a": {
     "id": "c4bfd55f-510c-4f4c-a3a0-079691fafd6a",
     "prev": "28e76a46-58cd-49ba-8252-91661fd02ca1",
     "regions": {
      "fd3b2461-4453-43e6-8356-941663739526": {
       "attrs": {
        "height": 0.8,
        "width": 0.8,
        "x": 0.1,
        "y": 0.1
       },
       "content": {
        "cell": "289efd73-d11c-4c13-9fcc-0d4259a26c19",
        "part": "whole"
       },
       "id": "fd3b2461-4453-43e6-8356-941663739526"
      }
     }
    },
    "c63e6db5-c1f8-4484-bad7-1ab10430f403": {
     "id": "c63e6db5-c1f8-4484-bad7-1ab10430f403",
     "prev": "cf81cabb-51a8-4022-9b66-f29948aae718",
     "regions": {
      "0db00e34-5e7a-4ab9-b218-02ab20b99251": {
       "attrs": {
        "height": 0.8,
        "width": 0.8,
        "x": 0.1,
        "y": 0.1
       },
       "content": {
        "cell": "94554f0e-4aa5-4077-af52-c031fdc43c79",
        "part": "whole"
       },
       "id": "0db00e34-5e7a-4ab9-b218-02ab20b99251"
      }
     }
    },
    "c679ac81-984a-4b2a-adc3-ae614f04dba6": {
     "id": "c679ac81-984a-4b2a-adc3-ae614f04dba6",
     "prev": "841df98b-438c-499e-8882-7a44b3b7f283",
     "regions": {
      "327242b5-bdb0-4196-bbf8-06bd60459079": {
       "attrs": {
        "height": 0.8,
        "width": 0.8,
        "x": 0.1,
        "y": 0.1
       },
       "content": {
        "cell": "00d528bb-12f8-4041-8dba-c4c9c9499a96",
        "part": "whole"
       },
       "id": "327242b5-bdb0-4196-bbf8-06bd60459079"
      }
     }
    },
    "c9f01ce2-11e1-4e86-9047-3184e4930be5": {
     "id": "c9f01ce2-11e1-4e86-9047-3184e4930be5",
     "prev": "41765d45-b897-4bd8-b9ca-d705c73ed612",
     "regions": {
      "b42a7daa-5913-4ee1-b1fa-3f0d3237f918": {
       "attrs": {
        "height": 0.8,
        "width": 0.8,
        "x": 0.1,
        "y": 0.1
       },
       "content": {
        "cell": "671a38be-2fab-4b2c-b6e1-d1f80aac7dcd",
        "part": "whole"
       },
       "id": "b42a7daa-5913-4ee1-b1fa-3f0d3237f918"
      }
     }
    },
    "cf81cabb-51a8-4022-9b66-f29948aae718": {
     "id": "cf81cabb-51a8-4022-9b66-f29948aae718",
     "prev": "e0d2d3f4-c002-42f0-af31-4a91f1d5132b",
     "regions": {
      "14ebba10-1441-474d-a1e4-d4ae003012be": {
       "attrs": {
        "height": 0.8,
        "width": 0.8,
        "x": 0.1,
        "y": 0.1
       },
       "content": {
        "cell": "35268107-19df-41af-b24e-30bdec734ee8",
        "part": "whole"
       },
       "id": "14ebba10-1441-474d-a1e4-d4ae003012be"
      }
     }
    },
    "d326073b-d8d8-4991-a089-da4695bf65b1": {
     "id": "d326073b-d8d8-4991-a089-da4695bf65b1",
     "prev": "f4f421fe-f17f-4c25-833c-e9a3890ae970",
     "regions": {
      "6737849f-d0e8-4ede-9a50-dff024d75c14": {
       "attrs": {
        "height": 0.8,
        "width": 0.8,
        "x": 0.1,
        "y": 0.1
       },
       "content": {
        "cell": "dfe35934-8adf-4f56-a5bb-1d13a7212c7b",
        "part": "whole"
       },
       "id": "6737849f-d0e8-4ede-9a50-dff024d75c14"
      }
     }
    },
    "d3d144fe-ed55-4dae-b8e8-5e07d18f1166": {
     "id": "d3d144fe-ed55-4dae-b8e8-5e07d18f1166",
     "prev": "c9f01ce2-11e1-4e86-9047-3184e4930be5",
     "regions": {
      "e97b417e-1598-4ac1-82a8-f22ad9b8b916": {
       "attrs": {
        "height": 0.8,
        "width": 0.8,
        "x": 0.1,
        "y": 0.1
       },
       "content": {
        "cell": "6446cc79-1d1a-495d-8c6c-c2cda733ab8a",
        "part": "whole"
       },
       "id": "e97b417e-1598-4ac1-82a8-f22ad9b8b916"
      }
     }
    },
    "d84841c3-c75c-43ed-9ebe-e0e7f466eab7": {
     "id": "d84841c3-c75c-43ed-9ebe-e0e7f466eab7",
     "prev": "e0f4b4dd-3247-4297-a490-3b256f9e071c",
     "regions": {
      "54245ac2-6eb0-4c3f-9373-c2f5781d3680": {
       "attrs": {
        "height": 0.8,
        "width": 0.8,
        "x": 0.1,
        "y": 0.1
       },
       "content": {
        "cell": "40afa030-2f8c-4a11-b15b-010972e9398e",
        "part": "whole"
       },
       "id": "54245ac2-6eb0-4c3f-9373-c2f5781d3680"
      }
     }
    },
    "d861ed49-537c-4d0b-9eab-0ce18ddb04f6": {
     "id": "d861ed49-537c-4d0b-9eab-0ce18ddb04f6",
     "prev": "7b88945e-6145-471e-a46f-814a164b9500",
     "regions": {
      "cd61b2bb-bdc4-46db-b002-c8295e9731e9": {
       "attrs": {
        "height": 0.8,
        "width": 0.8,
        "x": 0.1,
        "y": 0.1
       },
       "content": {
        "cell": "717c140a-46ac-48ae-b735-3012d7a12049",
        "part": "whole"
       },
       "id": "cd61b2bb-bdc4-46db-b002-c8295e9731e9"
      }
     }
    },
    "de0d2cf6-295d-4cb0-ab22-6a1bfad75dce": {
     "id": "de0d2cf6-295d-4cb0-ab22-6a1bfad75dce",
     "prev": "9fd53582-d67b-4fd1-b619-62d8c039a6e4",
     "regions": {
      "45d17381-fa89-4a06-9463-7a5c2e89607e": {
       "attrs": {
        "height": 0.8,
        "width": 0.8,
        "x": 0.1,
        "y": 0.1
       },
       "content": {
        "cell": "0670d0c7-a3bb-4796-8777-a858935c4db8",
        "part": "whole"
       },
       "id": "45d17381-fa89-4a06-9463-7a5c2e89607e"
      }
     }
    },
    "e0d2d3f4-c002-42f0-af31-4a91f1d5132b": {
     "id": "e0d2d3f4-c002-42f0-af31-4a91f1d5132b",
     "prev": "f569335e-3ca4-4737-bb7b-35b077ed891d",
     "regions": {
      "d88fab14-dd0b-4200-b444-ba379fbd6f5b": {
       "attrs": {
        "height": 0.8,
        "width": 0.8,
        "x": 0.1,
        "y": 0.1
       },
       "content": {
        "cell": "1b872498-e595-4dce-bc7a-03287ef8d1fb",
        "part": "whole"
       },
       "id": "d88fab14-dd0b-4200-b444-ba379fbd6f5b"
      }
     }
    },
    "e0f4b4dd-3247-4297-a490-3b256f9e071c": {
     "id": "e0f4b4dd-3247-4297-a490-3b256f9e071c",
     "prev": "e4e0fa8f-3ec7-4740-b566-6faf8925f251",
     "regions": {
      "f42c70d1-7e00-47bb-9e99-e97a1a4ffe44": {
       "attrs": {
        "height": 0.8,
        "width": 0.8,
        "x": 0.1,
        "y": 0.1
       },
       "content": {
        "cell": "cd9b4ef4-22c8-4af9-b2c6-1e577a15a391",
        "part": "whole"
       },
       "id": "f42c70d1-7e00-47bb-9e99-e97a1a4ffe44"
      }
     }
    },
    "e32a1a58-35c5-4d02-8bf4-a5996da59d76": {
     "id": "e32a1a58-35c5-4d02-8bf4-a5996da59d76",
     "prev": "ad6c5402-fbe8-4f49-a3e7-817f94d21bf9",
     "regions": {
      "1ae886af-ac32-45bb-9ee4-33033391715f": {
       "attrs": {
        "height": 0.8,
        "width": 0.8,
        "x": 0.1,
        "y": 0.1
       },
       "content": {
        "cell": "f4672e50-4a8c-42ad-8ea1-12c8340daf41",
        "part": "whole"
       },
       "id": "1ae886af-ac32-45bb-9ee4-33033391715f"
      }
     }
    },
    "e4e0fa8f-3ec7-4740-b566-6faf8925f251": {
     "id": "e4e0fa8f-3ec7-4740-b566-6faf8925f251",
     "prev": "c679ac81-984a-4b2a-adc3-ae614f04dba6",
     "regions": {
      "bb83511a-02e2-4fe6-a466-63548c046707": {
       "attrs": {
        "height": 0.8,
        "width": 0.8,
        "x": 0.1,
        "y": 0.1
       },
       "content": {
        "cell": "1b82ffd6-a57e-4472-b97a-a3cf7a513d7b",
        "part": "whole"
       },
       "id": "bb83511a-02e2-4fe6-a466-63548c046707"
      }
     }
    },
    "e6004cfc-c7b5-498d-8060-6eb080947276": {
     "id": "e6004cfc-c7b5-498d-8060-6eb080947276",
     "prev": "85a36ef9-7521-465f-915c-8787b7aab035",
     "regions": {
      "63f0f521-a5ce-4f0a-99ab-db23acd9ffe6": {
       "attrs": {
        "height": 0.8,
        "width": 0.8,
        "x": 0.1,
        "y": 0.1
       },
       "content": {
        "cell": "71fa3c09-1e6b-4a98-aba8-36f1e2ed6aeb",
        "part": "whole"
       },
       "id": "63f0f521-a5ce-4f0a-99ab-db23acd9ffe6"
      }
     }
    },
    "f0d7d55d-d071-4380-9701-98bfaccd321b": {
     "id": "f0d7d55d-d071-4380-9701-98bfaccd321b",
     "prev": "55ad0ea3-bed8-4b11-b031-05e7648f54c7",
     "regions": {
      "d45d36cc-ef60-4a58-9f39-d365e30137f8": {
       "attrs": {
        "height": 0.8,
        "width": 0.8,
        "x": 0.1,
        "y": 0.1
       },
       "content": {
        "cell": "033dea76-1b81-4b9d-9eb8-b0e52cd9fcb1",
        "part": "whole"
       },
       "id": "d45d36cc-ef60-4a58-9f39-d365e30137f8"
      }
     }
    },
    "f497484d-bca9-4365-b808-ad362f2e9ca2": {
     "id": "f497484d-bca9-4365-b808-ad362f2e9ca2",
     "prev": "44a7a84a-801b-495f-a4c4-30a15cd1f982",
     "regions": {
      "5307cf80-d51e-494f-9e99-b6aa2f7640d0": {
       "attrs": {
        "height": 0.8,
        "width": 0.8,
        "x": 0.1,
        "y": 0.1
       },
       "content": {
        "cell": "d5d428e5-ecc5-4530-b576-67598c8565ce",
        "part": "whole"
       },
       "id": "5307cf80-d51e-494f-9e99-b6aa2f7640d0"
      }
     }
    },
    "f4f421fe-f17f-4c25-833c-e9a3890ae970": {
     "id": "f4f421fe-f17f-4c25-833c-e9a3890ae970",
     "prev": "78b12efd-3280-49bf-8119-b457890e5f79",
     "regions": {
      "e1037bd0-e5fc-4a48-ba91-abbda0bda094": {
       "attrs": {
        "height": 0.8,
        "width": 0.8,
        "x": 0.1,
        "y": 0.1
       },
       "content": {
        "cell": "d4bf1280-d2a8-4af2-9d54-bba79f9406db",
        "part": "whole"
       },
       "id": "e1037bd0-e5fc-4a48-ba91-abbda0bda094"
      }
     }
    },
    "f569335e-3ca4-4737-bb7b-35b077ed891d": {
     "id": "f569335e-3ca4-4737-bb7b-35b077ed891d",
     "prev": "3653455c-75ee-4266-b5bf-1e7b93de6eec",
     "regions": {
      "8fa60e81-c3c9-46a3-9a7a-2f17f57f28d3": {
       "attrs": {
        "height": 0.8,
        "width": 0.8,
        "x": 0.1,
        "y": 0.1
       },
       "content": {
        "cell": "18903a2f-38e8-47d8-9310-aa6619abf376",
        "part": "whole"
       },
       "id": "8fa60e81-c3c9-46a3-9a7a-2f17f57f28d3"
      }
     }
    },
    "f7f19fb9-5ab7-455e-8cdd-33364a28669c": {
     "id": "f7f19fb9-5ab7-455e-8cdd-33364a28669c",
     "prev": "6d356c6c-d0f0-421e-aea4-5b1716aa54fa",
     "regions": {
      "540ee2aa-4abd-46d0-93d8-343779ec41cf": {
       "attrs": {
        "height": 0.8,
        "width": 0.8,
        "x": 0.1,
        "y": 0.1
       },
       "content": {
        "cell": "77295454-cb5b-4b33-9d0b-b223bc32f3e4",
        "part": "whole"
       },
       "id": "540ee2aa-4abd-46d0-93d8-343779ec41cf"
      }
     }
    }
   },
   "themes": {}
  }
 },
 "nbformat": 4,
 "nbformat_minor": 2
}
